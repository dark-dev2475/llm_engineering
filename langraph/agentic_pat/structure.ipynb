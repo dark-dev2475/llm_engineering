{
 "cells": [
  {
   "cell_type": "code",
   "execution_count": 32,
   "id": "43d2cff3",
   "metadata": {},
   "outputs": [
    {
     "data": {
      "text/plain": [
       "True"
      ]
     },
     "execution_count": 32,
     "metadata": {},
     "output_type": "execute_result"
    }
   ],
   "source": [
    "import os\n",
    "from dotenv import load_dotenv\n",
    "load_dotenv()"
   ]
  },
  {
   "cell_type": "code",
   "execution_count": 33,
   "id": "9cccbafd",
   "metadata": {},
   "outputs": [],
   "source": [
    "LANGSMITH_TRACING = os.getenv(\"LANGSMITH_TRACING\")\n",
    "LANGSMITH_ENDPOINT = os.getenv(\"LANGSMITH_ENDPOINT\")\n",
    "LANGSMITH_API_KEY = os.getenv(\"LANGSMITH_API_KEY\")\n",
    "LANGSMITH_PROJECT = os.getenv(\"LANGSMITH_PROJECT\")\n",
    "TAVILY_API_KEY = os.getenv(\"TAVILY_API_KEY\")\n",
    "# TRAVILY_PROJECT = os.getenv(\"TRAVILY_PROJECT\")\n",
    "SERPER_API_KEY = os.getenv(\"SERPER_API_KEY\")\n",
    "GOOGLE_API_KEY = os.getenv(\"GOOGLE_API_KEY\")\n",
    "os.environ[\"GOOGLE_API_KEY\"] = GOOGLE_API_KEY\n",
    "os.environ[\"LANGSMITH_API_KEY\"] = os.getenv(\"LANGSMITH_API_KEY\")\n",
    "os.environ[\"LANGSMITH_TRACING\"] = os.getenv(\"LANGSMITH_TRACING\")\n",
    "os.environ[\"LANGSMITH_ENDPOINT\"] = os.getenv(\"LANGSMITH_ENDPOINT\")\n",
    "os.environ[\"LANGSMITH_PROJECT\"] = os.getenv(\"LANGSMITH_PROJECT\")\n",
    "\n",
    "os.environ[\"TAVILY_API_KEY\"] = os.getenv(\"TAVILY_API_KEY\")\n",
    "os.environ[\"SERPER_API_KEY\"] = os.getenv(\"SERPER_API_KEY\")\n",
    "\n"
   ]
  },
  {
   "cell_type": "code",
   "execution_count": 34,
   "id": "794f47ff",
   "metadata": {},
   "outputs": [],
   "source": [
    "from langchain_google_genai import GoogleGenerativeAIEmbeddings\n",
    "embeddings = GoogleGenerativeAIEmbeddings(model=\"models/embedding-001\")\n",
    "from langchain_google_genai import ChatGoogleGenerativeAI\n",
    "llm = ChatGoogleGenerativeAI(model=\"gemini-1.5-pro-latest\")"
   ]
  },
  {
   "cell_type": "code",
   "execution_count": 35,
   "id": "3567eb0a",
   "metadata": {},
   "outputs": [
    {
     "data": {
      "text/plain": [
       "AIMessage(content='Goodbye!  Have a great day.', additional_kwargs={}, response_metadata={'prompt_feedback': {'block_reason': 0, 'safety_ratings': []}, 'finish_reason': 'STOP', 'model_name': 'gemini-1.5-pro-002', 'safety_ratings': []}, id='run--62c94ca3-f88d-4992-8f4e-381ad6bb3046-0', usage_metadata={'input_tokens': 1, 'output_tokens': 9, 'total_tokens': 10, 'input_token_details': {'cache_read': 0}})"
      ]
     },
     "execution_count": 35,
     "metadata": {},
     "output_type": "execute_result"
    }
   ],
   "source": [
    "llm.invoke(\"bye\")"
   ]
  },
  {
   "cell_type": "code",
   "execution_count": 36,
   "id": "c3fbaea8",
   "metadata": {},
   "outputs": [],
   "source": [
    "from langchain_community.tools.tavily_search import TavilySearchResults\n",
    "from langchain_core.tools import tool\n",
    "from pydantic import BaseModel, Field\n",
    "from langgraph.graph import MessagesState,StateGraph, END\n",
    "from langgraph.prebuilt import ToolNode\n",
    "from langchain_core.messages import HumanMessage"
   ]
  },
  {
   "cell_type": "code",
   "execution_count": 37,
   "id": "bfc85f22",
   "metadata": {},
   "outputs": [],
   "source": [
    "tavily_tool = TavilySearchResults()"
   ]
  },
  {
   "cell_type": "code",
   "execution_count": 38,
   "id": "e1e1b94c",
   "metadata": {},
   "outputs": [],
   "source": [
    "@tool\n",
    "def get_city_details(prompt):\n",
    "    \"Should do a web search to find the required city details\"\n",
    "    response = tavily_tool.invoke(prompt)\n",
    "    return response"
   ]
  },
  {
   "cell_type": "code",
   "execution_count": 39,
   "id": "efa32e66",
   "metadata": {},
   "outputs": [],
   "source": [
    "tools = [get_city_details]"
   ]
  },
  {
   "cell_type": "code",
   "execution_count": 40,
   "id": "c092dab3",
   "metadata": {},
   "outputs": [],
   "source": [
    "\n",
    "model_with_tools = llm.bind_tools(tools)"
   ]
  },
  {
   "cell_type": "code",
   "execution_count": 41,
   "id": "6350274e",
   "metadata": {},
   "outputs": [],
   "source": [
    "\n",
    "class CityDetails(BaseModel):\n",
    "    \"\"\"Respond to the user with this\"\"\"\n",
    "    state_name: str = Field(description=\"State name of the city\")\n",
    "    state_capital: str = Field(description=\"State capital of the city\")\n",
    "    country_name: str = Field(description=\"Country name of the city\")\n",
    "    country_capital: str = Field(description=\"Country capital of the city\")"
   ]
  },
  {
   "cell_type": "code",
   "execution_count": 42,
   "id": "6c3002bf",
   "metadata": {},
   "outputs": [],
   "source": [
    "# Inherit 'messages' key from MessagesState, which is a list of chat messages\n",
    "class AgentState(MessagesState):\n",
    "    # Final structured response from the agent\n",
    "    final_response: CityDetails"
   ]
  },
  {
   "cell_type": "code",
   "execution_count": 43,
   "id": "902a0c2f",
   "metadata": {},
   "outputs": [],
   "source": [
    "model_with_structured_output = llm.with_structured_output(CityDetails)"
   ]
  },
  {
   "cell_type": "code",
   "execution_count": 44,
   "id": "581b13e9",
   "metadata": {},
   "outputs": [],
   "source": [
    "\n",
    "\n",
    "def call_model(state: AgentState):\n",
    "    print(f\" this is 01 input from call model {state}\")\n",
    "    response = model_with_tools.invoke(state['messages'])\n",
    "    print(f\"this is 02 response from call model  {response}\")\n",
    "    # We return a list, because this will get added to the existing list\n",
    "    return {\"messages\": [response]}"
   ]
  },
  {
   "cell_type": "code",
   "execution_count": 45,
   "id": "c22e9c22",
   "metadata": {},
   "outputs": [],
   "source": [
    "def should_continue(state: AgentState):\n",
    "    messages = state[\"messages\"]\n",
    "    last_message = messages[-1]\n",
    "    \n",
    "    # If there is no function call, then we respond to the user\n",
    "    if not last_message.tool_calls:\n",
    "        return \"respond\"\n",
    "    # Otherwise if there is, we continue with the tool\n",
    "    else:\n",
    "        return \"continue\""
   ]
  },
  {
   "cell_type": "code",
   "execution_count": 46,
   "id": "26342f31",
   "metadata": {},
   "outputs": [],
   "source": [
    "def respond(state: AgentState):\n",
    "    print(f\"here is 03 state from respond {state}\")\n",
    "    response = model_with_structured_output.invoke([HumanMessage(content=state['messages'][-1].content)])\n",
    "    # We return the final answer\n",
    "    print(f\"this is 04 response from respond{response}\")\n",
    "    return {\"final_response\": response}"
   ]
  },
  {
   "cell_type": "code",
   "execution_count": 47,
   "id": "196aa3e7",
   "metadata": {},
   "outputs": [],
   "source": [
    "# Define a new graph\n",
    "workflow = StateGraph(AgentState)\n",
    "\n",
    "# Define the two nodes we will cycle between\n",
    "workflow.add_node(\"llm\", call_model)\n",
    "workflow.add_node(\"tools\", ToolNode(tools))\n",
    "workflow.add_node(\"respond\", respond)\n",
    "\n",
    "\n",
    "# Set the entrypoint as `agent`\n",
    "# This means that this node is the first one called\n",
    "workflow.set_entry_point(\"llm\")\n",
    "\n",
    "# We now add a conditional edge\n",
    "workflow.add_conditional_edges(\n",
    "    \"llm\",\n",
    "    \n",
    "    should_continue,\n",
    "    {\n",
    "        \"continue\": \"tools\",\n",
    "        \"respond\": \"respond\",\n",
    "    },\n",
    ")\n",
    "\n",
    "workflow.add_edge(\"tools\", \"llm\")\n",
    "workflow.add_edge(\"respond\", END)\n",
    "graph = workflow.compile()"
   ]
  },
  {
   "cell_type": "code",
   "execution_count": 48,
   "id": "00cd5901",
   "metadata": {},
   "outputs": [
    {
     "data": {
      "image/png": "[encoded data removed]",
      "text/plain": [
       "<IPython.core.display.Image object>"
      ]
     },
     "metadata": {},
     "output_type": "display_data"
    }
   ],
   "source": [
    "\n",
    "from IPython.display import Image, display\n",
    "# View\n",
    "display(Image(graph.get_graph().draw_mermaid_png()))"
   ]
  },
  {
   "cell_type": "code",
   "execution_count": 49,
   "id": "c5a6c85f",
   "metadata": {},
   "outputs": [
    {
     "name": "stdout",
     "output_type": "stream",
     "text": [
      " this is 01 input from call model {'messages': [HumanMessage(content='Tell me about the city details for gwalior?', additional_kwargs={}, response_metadata={}, id='4241401f-4040-4c17-9762-23a8b0688c9b')]}\n",
      "this is 02 response from call model  content='' additional_kwargs={'function_call': {'name': 'get_city_details', 'arguments': '{\"prompt\": \"gwalior\"}'}} response_metadata={'prompt_feedback': {'block_reason': 0, 'safety_ratings': []}, 'finish_reason': 'STOP', 'model_name': 'gemini-1.5-pro-002', 'safety_ratings': []} id='run--ca926fba-f883-4af1-80b7-662d2ea94f31-0' tool_calls=[{'name': 'get_city_details', 'args': {'prompt': 'gwalior'}, 'id': 'faf96482-031e-499d-a56c-254fc850773d', 'type': 'tool_call'}] usage_metadata={'input_tokens': 30, 'output_tokens': 9, 'total_tokens': 39, 'input_token_details': {'cache_read': 0}}\n",
      " this is 01 input from call model {'messages': [HumanMessage(content='Tell me about the city details for gwalior?', additional_kwargs={}, response_metadata={}, id='4241401f-4040-4c17-9762-23a8b0688c9b'), AIMessage(content='', additional_kwargs={'function_call': {'name': 'get_city_details', 'arguments': '{\"prompt\": \"gwalior\"}'}}, response_metadata={'prompt_feedback': {'block_reason': 0, 'safety_ratings': []}, 'finish_reason': 'STOP', 'model_name': 'gemini-1.5-pro-002', 'safety_ratings': []}, id='run--ca926fba-f883-4af1-80b7-662d2ea94f31-0', tool_calls=[{'name': 'get_city_details', 'args': {'prompt': 'gwalior'}, 'id': 'faf96482-031e-499d-a56c-254fc850773d', 'type': 'tool_call'}], usage_metadata={'input_tokens': 30, 'output_tokens': 9, 'total_tokens': 39, 'input_token_details': {'cache_read': 0}}), ToolMessage(content='[{\"title\": \"Gwalior - Wikipedia\", \"url\": \"https://en.wikipedia.org/wiki/Gwalior\", \"content\": \"Gwalior (Hindi: IPA: (/wiki/Help:IPA/Hindi_and_Urdu \\\\\"Help:IPA/Hindi and Urdu\\\\\"), pronunciationⓘ) is a major city in the central Indian state of Madhya Pradesh; It is known as the Music City of India having oldest musical gharana in existence. It is a major sports, cultural, industrial, and political centre in Madhya Pradesh. Gwalior is among the seven cities selected for new startup centres under India\\'s growing innovation ecosystem. On World Cities Day (31 October 2023), UNESCO Director - [...] Gwalior is a major railway junction in the Northern central region. The Gwalior Junction (Station code: GWL) is the part of the North Central Railways. Gwalior is one of the few places where both narrow gauge and broad gauge railways tracks were operational (until the line closed in 2020). Gwalior was the terminus for the longest narrow-gauge route operating in the world, covering a distance of 198 km (123 mi) from Gwalior Junction to Sheopur. Gwalior Junction is a six-railway track [...] Gwalior was one of the major locations of rebellion during the 1857 uprising. During British Raj Gwalior became winter capital of Central India Agency. Post Independence Gwalior was made the capital of the state of Madhya Bharat from 1948 till 1956 which later became a part of the larger state of Madhya Pradesh. Prior to Indian independence on 15 August 1947, Gwalior remained a princely state of the British Raj with the Scindia as the rulers.\", \"score\": 0.9159971}, {\"title\": \"Gwalior tourism information under Madhya Pradesh tourism guide ...\", \"url\": \"https://www.madhya-pradesh-tourism.com/tourism_attraction/Gwalior-10\", \"content\": \"Read complete tourism information of Gwalior in Madhya Pradesh. Gwalior is an historical city in North of Madhya Pradesh at Central India. It is showcased as popular Heritage tourism destination under Madhya Pradesh tourism. Here major tourist attractions are its historical buildings, monuments, temples, tombs, museums etc. Today when we talk about this city, the first image comes in mind is the picture of Gwalior fort. It is the face of Gwalior tourism and heritage culture of Central India. [...] Gwalior is one among four large cities of Madhya Pradesh and administrative center of many government departments. Being a important tourist destination and administrative center, lot of people visits Gwalior. To provide them accommodation, their are number of hotels in Gwalior from luxury heritage hotels to cheap guest houses. Here Taj Group Usha Kiran Palace is the best luxury hotel. Among other standard category Gwalior hotels, prominent names are Gwalior Regency, Central Park, Hotel [...] Gwalior city is almost on border of Central India & North India. It is north of Madhya Pradesh state having road connectivity with important cities and tourist destinations like Agra, Delhi, Chambal Sanctuary, Jaipur, Ranthambhore, Bhopal, Khajuraho, Shivpuri etc. India\\'s important highway projects like North-South Corridor and Golden-Quadrilateral passes through Gwalior. National Highway-3 that connects Agra with Mumbai, passes through this city. Jhansi is connected with Gwalior through\", \"score\": 0.84027237}, {\"title\": \"Gwalior | History, Culture & Tourist Attractions - Britannica\", \"url\": \"https://www.britannica.com/place/Gwalior-India\", \"content\": \"Gwalior is an important commercial and industrial centre that is engaged in the distribution of agricultural produce, cloth fabrics, building stone, and iron ore. The city’s major industries include the manufacture of footwear, pottery, biscuits (cookies), cigarettes, textiles, carpets, plastics, rayon, glass, and matches; cotton, flour, sugar, and oilseed milling; and stone carving. It is on a major national highway, is a railway junction, and has an airport handling domestic flights. [...] Gwalior, city, northern Madhya Pradesh state, central India. It is situated about 75 miles (120 km) south of Agra. Gwalior is a cultural, industrial, and political centre and takes its name from the historic rock fortress that forms the centre of the city. It has been referred to as Gopa Parvat, Gopachal Durg, Gopagiri, and Gopadiri, all which mean “cowherd’s hill.” Pop. (2001) 827,026; (2011) 1,069,276.\\\\n\\\\nHistory\\\\n------- [...] Gwalior was constituted a municipality in 1887, and the princely state of Gwalior was absorbed by independent India in 1948. At the time of its incorporation, it had an area of about 26,000 square miles (68,000 square km) and comprised almost all of what is now northern Madhya Pradesh state, extending from the Chambal River southward to the Vindhya mountain range. The area was merged with Madhya Pradesh in 1956.\", \"score\": 0.82048416}, {\"title\": \"Gwalior State - Wikipedia\", \"url\": \"https://en.wikipedia.org/wiki/Gwalior_State\", \"content\": \"The Gwalior State was a state within the Maratha Confederacy located in Central India. It was ruled by the House of Scindia (anglicized from Sendrak), a Hindu Maratha dynasty. Following the dissolution of the Confederacy, it became part of the Central India Agency of the Indian Empire \\\\\"Indian Empire (1876–1947)\\\\\") under British protection. [...] Under Mahadji Sindhia (1761–1794) Gwalior State became a leading power in Central India, and dominated the affairs of the confederacy. The Anglo-Maratha Wars \\\\\"Anglo-Maratha Wars (disambiguation)\\\\\") brought Gwalior State under British suzerainty, so that it became a princely state of the Indian Empire. Gwalior was the largest state in the Central India Agency, under the political supervision of a Resident at Gwalior. In 1936, the Gwalior residency was separated from the Central India Agency, and [...] The state was entitled to a 21-gun salute when it became a princely state of the India. It took its (later) name from the old town of Gwalior, which, although not its first capital, was an important place because of its strategic location and the strength of its fort; it became later its capital, after Daulat Rao Sindhia built its palace in the village of Lashkar, near the fort. The state was founded in the early 18th century by Ranoji Sindhia, as part of the Maratha Confederacy. The\", \"score\": 0.78552294}, {\"title\": \"Profile | District Gwalior, Government of Madhya Pradesh | India\", \"url\": \"https://gwalior.nic.in/en/history/\", \"content\": \"Gwalior district is a district of the Indian state of Madhya Pradesh. This district is under the revenue division of Gwalior. This district is situated between 25 0 34 ‘north and 260’ 21 north latitude and 770 40 ‘east and 780 54’ in the northern part of Gwalior state. This district is spread over a 2002 square meter area, which is 1.1 percent of the total area of \\u200b\\u200bMadhya Pradesh state. Gwalior was the capital of central India from 1948 to 1956 but when the central India was connected to [...] Gwalior’s history is traced back to a legend in 8th century AD when a chief tain known as Suraj Sen was struck by a deadly disease and cured by a hermit-saint Gwalipa. As a gratitude for that incidence, he founded this city by his name. The new city of Gwalior became existance over the centuries. The cradle of great dynasties ruled the city Gwalior. With different Dynasty, the city gained a new dimension from the warrior kings, poets, musicians, and saints who contributed to making it renowned [...] This district was named after a famous fort. The name of this famous fort was taken from the name of Pahadi. This flat summit was called Gopachal, Gopgiri, Gop Mountain or Gopadri. This has created the word Gwalior.\", \"score\": 0.7728226}]', name='get_city_details', id='f115fd31-8419-46f5-88fb-dbda7b1c659a', tool_call_id='faf96482-031e-499d-a56c-254fc850773d')]}\n",
      "this is 02 response from call model  content=\"Gwalior is a major city in the central Indian state of Madhya Pradesh. It's known as the Music City of India, with the oldest musical gharana in existence.  It's also an important sports, cultural, industrial, and political center in the state.  Gwalior has a rich history, serving as the winter capital of the Central India Agency during the British Raj and later as the capital of Madhya Bharat from 1948 to 1956.  The city is also a major railway junction and was once the terminus for the world's longest narrow-gauge railway route. Gwalior Fort is a prominent landmark and a major tourist attraction.\" additional_kwargs={} response_metadata={'prompt_feedback': {'block_reason': 0, 'safety_ratings': []}, 'finish_reason': 'STOP', 'model_name': 'gemini-1.5-pro-002', 'safety_ratings': []} id='run--2515d47d-db84-447c-8e4f-1692d47c5bf9-0' usage_metadata={'input_tokens': 1818, 'output_tokens': 142, 'total_tokens': 1960, 'input_token_details': {'cache_read': 0}}\n",
      "here is 03 state from respond {'messages': [HumanMessage(content='Tell me about the city details for gwalior?', additional_kwargs={}, response_metadata={}, id='4241401f-4040-4c17-9762-23a8b0688c9b'), AIMessage(content='', additional_kwargs={'function_call': {'name': 'get_city_details', 'arguments': '{\"prompt\": \"gwalior\"}'}}, response_metadata={'prompt_feedback': {'block_reason': 0, 'safety_ratings': []}, 'finish_reason': 'STOP', 'model_name': 'gemini-1.5-pro-002', 'safety_ratings': []}, id='run--ca926fba-f883-4af1-80b7-662d2ea94f31-0', tool_calls=[{'name': 'get_city_details', 'args': {'prompt': 'gwalior'}, 'id': 'faf96482-031e-499d-a56c-254fc850773d', 'type': 'tool_call'}], usage_metadata={'input_tokens': 30, 'output_tokens': 9, 'total_tokens': 39, 'input_token_details': {'cache_read': 0}}), ToolMessage(content='[{\"title\": \"Gwalior - Wikipedia\", \"url\": \"https://en.wikipedia.org/wiki/Gwalior\", \"content\": \"Gwalior (Hindi: IPA: (/wiki/Help:IPA/Hindi_and_Urdu \\\\\"Help:IPA/Hindi and Urdu\\\\\"), pronunciationⓘ) is a major city in the central Indian state of Madhya Pradesh; It is known as the Music City of India having oldest musical gharana in existence. It is a major sports, cultural, industrial, and political centre in Madhya Pradesh. Gwalior is among the seven cities selected for new startup centres under India\\'s growing innovation ecosystem. On World Cities Day (31 October 2023), UNESCO Director - [...] Gwalior is a major railway junction in the Northern central region. The Gwalior Junction (Station code: GWL) is the part of the North Central Railways. Gwalior is one of the few places where both narrow gauge and broad gauge railways tracks were operational (until the line closed in 2020). Gwalior was the terminus for the longest narrow-gauge route operating in the world, covering a distance of 198 km (123 mi) from Gwalior Junction to Sheopur. Gwalior Junction is a six-railway track [...] Gwalior was one of the major locations of rebellion during the 1857 uprising. During British Raj Gwalior became winter capital of Central India Agency. Post Independence Gwalior was made the capital of the state of Madhya Bharat from 1948 till 1956 which later became a part of the larger state of Madhya Pradesh. Prior to Indian independence on 15 August 1947, Gwalior remained a princely state of the British Raj with the Scindia as the rulers.\", \"score\": 0.9159971}, {\"title\": \"Gwalior tourism information under Madhya Pradesh tourism guide ...\", \"url\": \"https://www.madhya-pradesh-tourism.com/tourism_attraction/Gwalior-10\", \"content\": \"Read complete tourism information of Gwalior in Madhya Pradesh. Gwalior is an historical city in North of Madhya Pradesh at Central India. It is showcased as popular Heritage tourism destination under Madhya Pradesh tourism. Here major tourist attractions are its historical buildings, monuments, temples, tombs, museums etc. Today when we talk about this city, the first image comes in mind is the picture of Gwalior fort. It is the face of Gwalior tourism and heritage culture of Central India. [...] Gwalior is one among four large cities of Madhya Pradesh and administrative center of many government departments. Being a important tourist destination and administrative center, lot of people visits Gwalior. To provide them accommodation, their are number of hotels in Gwalior from luxury heritage hotels to cheap guest houses. Here Taj Group Usha Kiran Palace is the best luxury hotel. Among other standard category Gwalior hotels, prominent names are Gwalior Regency, Central Park, Hotel [...] Gwalior city is almost on border of Central India & North India. It is north of Madhya Pradesh state having road connectivity with important cities and tourist destinations like Agra, Delhi, Chambal Sanctuary, Jaipur, Ranthambhore, Bhopal, Khajuraho, Shivpuri etc. India\\'s important highway projects like North-South Corridor and Golden-Quadrilateral passes through Gwalior. National Highway-3 that connects Agra with Mumbai, passes through this city. Jhansi is connected with Gwalior through\", \"score\": 0.84027237}, {\"title\": \"Gwalior | History, Culture & Tourist Attractions - Britannica\", \"url\": \"https://www.britannica.com/place/Gwalior-India\", \"content\": \"Gwalior is an important commercial and industrial centre that is engaged in the distribution of agricultural produce, cloth fabrics, building stone, and iron ore. The city’s major industries include the manufacture of footwear, pottery, biscuits (cookies), cigarettes, textiles, carpets, plastics, rayon, glass, and matches; cotton, flour, sugar, and oilseed milling; and stone carving. It is on a major national highway, is a railway junction, and has an airport handling domestic flights. [...] Gwalior, city, northern Madhya Pradesh state, central India. It is situated about 75 miles (120 km) south of Agra. Gwalior is a cultural, industrial, and political centre and takes its name from the historic rock fortress that forms the centre of the city. It has been referred to as Gopa Parvat, Gopachal Durg, Gopagiri, and Gopadiri, all which mean “cowherd’s hill.” Pop. (2001) 827,026; (2011) 1,069,276.\\\\n\\\\nHistory\\\\n------- [...] Gwalior was constituted a municipality in 1887, and the princely state of Gwalior was absorbed by independent India in 1948. At the time of its incorporation, it had an area of about 26,000 square miles (68,000 square km) and comprised almost all of what is now northern Madhya Pradesh state, extending from the Chambal River southward to the Vindhya mountain range. The area was merged with Madhya Pradesh in 1956.\", \"score\": 0.82048416}, {\"title\": \"Gwalior State - Wikipedia\", \"url\": \"https://en.wikipedia.org/wiki/Gwalior_State\", \"content\": \"The Gwalior State was a state within the Maratha Confederacy located in Central India. It was ruled by the House of Scindia (anglicized from Sendrak), a Hindu Maratha dynasty. Following the dissolution of the Confederacy, it became part of the Central India Agency of the Indian Empire \\\\\"Indian Empire (1876–1947)\\\\\") under British protection. [...] Under Mahadji Sindhia (1761–1794) Gwalior State became a leading power in Central India, and dominated the affairs of the confederacy. The Anglo-Maratha Wars \\\\\"Anglo-Maratha Wars (disambiguation)\\\\\") brought Gwalior State under British suzerainty, so that it became a princely state of the Indian Empire. Gwalior was the largest state in the Central India Agency, under the political supervision of a Resident at Gwalior. In 1936, the Gwalior residency was separated from the Central India Agency, and [...] The state was entitled to a 21-gun salute when it became a princely state of the India. It took its (later) name from the old town of Gwalior, which, although not its first capital, was an important place because of its strategic location and the strength of its fort; it became later its capital, after Daulat Rao Sindhia built its palace in the village of Lashkar, near the fort. The state was founded in the early 18th century by Ranoji Sindhia, as part of the Maratha Confederacy. The\", \"score\": 0.78552294}, {\"title\": \"Profile | District Gwalior, Government of Madhya Pradesh | India\", \"url\": \"https://gwalior.nic.in/en/history/\", \"content\": \"Gwalior district is a district of the Indian state of Madhya Pradesh. This district is under the revenue division of Gwalior. This district is situated between 25 0 34 ‘north and 260’ 21 north latitude and 770 40 ‘east and 780 54’ in the northern part of Gwalior state. This district is spread over a 2002 square meter area, which is 1.1 percent of the total area of \\u200b\\u200bMadhya Pradesh state. Gwalior was the capital of central India from 1948 to 1956 but when the central India was connected to [...] Gwalior’s history is traced back to a legend in 8th century AD when a chief tain known as Suraj Sen was struck by a deadly disease and cured by a hermit-saint Gwalipa. As a gratitude for that incidence, he founded this city by his name. The new city of Gwalior became existance over the centuries. The cradle of great dynasties ruled the city Gwalior. With different Dynasty, the city gained a new dimension from the warrior kings, poets, musicians, and saints who contributed to making it renowned [...] This district was named after a famous fort. The name of this famous fort was taken from the name of Pahadi. This flat summit was called Gopachal, Gopgiri, Gop Mountain or Gopadri. This has created the word Gwalior.\", \"score\": 0.7728226}]', name='get_city_details', id='f115fd31-8419-46f5-88fb-dbda7b1c659a', tool_call_id='faf96482-031e-499d-a56c-254fc850773d'), AIMessage(content=\"Gwalior is a major city in the central Indian state of Madhya Pradesh. It's known as the Music City of India, with the oldest musical gharana in existence.  It's also an important sports, cultural, industrial, and political center in the state.  Gwalior has a rich history, serving as the winter capital of the Central India Agency during the British Raj and later as the capital of Madhya Bharat from 1948 to 1956.  The city is also a major railway junction and was once the terminus for the world's longest narrow-gauge railway route. Gwalior Fort is a prominent landmark and a major tourist attraction.\", additional_kwargs={}, response_metadata={'prompt_feedback': {'block_reason': 0, 'safety_ratings': []}, 'finish_reason': 'STOP', 'model_name': 'gemini-1.5-pro-002', 'safety_ratings': []}, id='run--2515d47d-db84-447c-8e4f-1692d47c5bf9-0', usage_metadata={'input_tokens': 1818, 'output_tokens': 142, 'total_tokens': 1960, 'input_token_details': {'cache_read': 0}})]}\n",
      "this is 04 response from respondstate_name='Madhya Pradesh' state_capital='Bhopal' country_name='India' country_capital='New Delhi'\n"
     ]
    }
   ],
   "source": [
    "answer = graph.invoke(input={\"messages\": [(\"human\", \"Tell me about the city details for gwalior?\")]})['final_response']"
   ]
  },
  {
   "cell_type": "code",
   "execution_count": 50,
   "id": "7385af90",
   "metadata": {},
   "outputs": [
    {
     "data": {
      "text/plain": [
       "CityDetails(state_name='Madhya Pradesh', state_capital='Bhopal', country_name='India', country_capital='New Delhi')"
      ]
     },
     "execution_count": 50,
     "metadata": {},
     "output_type": "execute_result"
    }
   ],
   "source": [
    "answer\n"
   ]
  },
  {
   "cell_type": "code",
   "execution_count": null,
   "id": "8829cbec",
   "metadata": {},
   "outputs": [],
   "source": []
  }
 ],
 "metadata": {
  "kernelspec": {
   "display_name": "chain",
   "language": "python",
   "name": "python3"
  },
  "language_info": {
   "codemirror_mode": {
    "name": "ipython",
    "version": 3
   },
   "file_extension": ".py",
   "mimetype": "text/x-python",
   "name": "python",
   "nbconvert_exporter": "python",
   "pygments_lexer": "ipython3",
   "version": "3.10.18"
  }
 },
 "nbformat": 4,
 "nbformat_minor": 5
}
