{
 "cells": [
  {
   "cell_type": "code",
   "execution_count": 160,
   "id": "3881973b",
   "metadata": {},
   "outputs": [
    {
     "data": {
      "text/plain": [
       "True"
      ]
     },
     "execution_count": 160,
     "metadata": {},
     "output_type": "execute_result"
    }
   ],
   "source": [
    "import os\n",
    "from dotenv import load_dotenv\n",
    "load_dotenv()"
   ]
  },
  {
   "cell_type": "code",
   "execution_count": 161,
   "id": "874a8765",
   "metadata": {},
   "outputs": [],
   "source": [
    "LANGSMITH_TRACING = os.getenv(\"LANGSMITH_TRACING\")\n",
    "LANGSMITH_ENDPOINT = os.getenv(\"LANGSMITH_ENDPOINT\")\n",
    "LANGSMITH_API_KEY = os.getenv(\"LANGSMITH_API_KEY\")\n",
    "LANGSMITH_PROJECT = os.getenv(\"LANGSMITH_PROJECT\")\n",
    "TAVILY_API_KEY = os.getenv(\"TAVILY_API_KEY\")\n",
    "# TRAVILY_PROJECT = os.getenv(\"TRAVILY_PROJECT\")\n",
    "SERPER_API_KEY = os.getenv(\"SERPER_API_KEY\")\n",
    "GOOGLE_API_KEY = os.getenv(\"GOOGLE_API_KEY\")\n",
    "os.environ[\"GOOGLE_API_KEY\"] = GOOGLE_API_KEY\n",
    "os.environ[\"LANGSMITH_API_KEY\"] = os.getenv(\"LANGSMITH_API_KEY\")\n",
    "os.environ[\"LANGSMITH_TRACING\"] = os.getenv(\"LANGSMITH_TRACING\")\n",
    "os.environ[\"LANGSMITH_ENDPOINT\"] = os.getenv(\"LANGSMITH_ENDPOINT\")\n",
    "os.environ[\"LANGSMITH_PROJECT\"] = os.getenv(\"LANGSMITH_PROJECT\")\n",
    "\n",
    "os.environ[\"TAVILY_API_KEY\"] = os.getenv(\"TAVILY_API_KEY\")\n",
    "os.environ[\"SERPER_API_KEY\"] = os.getenv(\"SERPER_API_KEY\")\n",
    "\n"
   ]
  },
  {
   "cell_type": "code",
   "execution_count": 162,
   "id": "3753a4cf",
   "metadata": {},
   "outputs": [],
   "source": [
    "from typing import Annotated\n",
    "import operator,json\n",
    "from typing import TypedDict, Annotated, Sequence\n",
    "from typing_extensions import TypedDict\n",
    "from langchain_core.messages import BaseMessage\n",
    "from langgraph.checkpoint.memory import MemorySaver\n",
    "from langgraph.graph import StateGraph,END,START\n",
    "from langgraph.graph.message import add_messages\n",
    "from langgraph.prebuilt import ToolNode, tools_condition\n",
    "from langchain_core.tools import tool\n",
    "from langchain_community.tools.tavily_search import TavilySearchResults"
   ]
  },
  {
   "cell_type": "code",
   "execution_count": 163,
   "id": "4156cb35",
   "metadata": {},
   "outputs": [],
   "source": [
    "from langchain_google_genai import GoogleGenerativeAIEmbeddings\n",
    "embeddings = GoogleGenerativeAIEmbeddings(model=\"models/embedding-001\")\n",
    "from langchain_google_genai import ChatGoogleGenerativeAI\n",
    "llm = ChatGoogleGenerativeAI(model=\"gemini-1.5-pro-latest\")"
   ]
  },
  {
   "cell_type": "code",
   "execution_count": 164,
   "id": "17cb2a02",
   "metadata": {},
   "outputs": [
    {
     "data": {
      "text/plain": [
       "AIMessage(content='Hi there! How can I help you today?', additional_kwargs={}, response_metadata={'prompt_feedback': {'block_reason': 0, 'safety_ratings': []}, 'finish_reason': 'STOP', 'model_name': 'gemini-1.5-pro-002', 'safety_ratings': []}, id='run--82d196e8-f144-4f3a-8744-5fad7e8c842c-0', usage_metadata={'input_tokens': 1, 'output_tokens': 11, 'total_tokens': 12, 'input_token_details': {'cache_read': 0}})"
      ]
     },
     "execution_count": 164,
     "metadata": {},
     "output_type": "execute_result"
    }
   ],
   "source": [
    "llm.invoke(\"hi\")"
   ]
  },
  {
   "cell_type": "code",
   "execution_count": 165,
   "id": "2bf17c34",
   "metadata": {},
   "outputs": [],
   "source": [
    "\n",
    "@tool\n",
    "def multiply(first_number:int, second_number:int)->int:\n",
    "    \"\"\"multiply two integer number\"\"\"\n",
    "    return first_number * second_number"
   ]
  },
  {
   "cell_type": "code",
   "execution_count": 166,
   "id": "90ddaa77",
   "metadata": {},
   "outputs": [],
   "source": [
    "@tool\n",
    "def search(query:str):\n",
    "    \"\"\"perform the web search on the user query\"\"\"\n",
    "    tavily=TavilySearchResults()\n",
    "    result=tavily.invoke(query)\n",
    "    return result"
   ]
  },
  {
   "cell_type": "code",
   "execution_count": 167,
   "id": "52009adb",
   "metadata": {},
   "outputs": [],
   "source": [
    "tools=[search,multiply]"
   ]
  },
  {
   "cell_type": "code",
   "execution_count": 168,
   "id": "8abdc98c",
   "metadata": {},
   "outputs": [],
   "source": [
    "model_with_tools=llm.bind_tools(tools)"
   ]
  },
  {
   "cell_type": "code",
   "execution_count": 169,
   "id": "4b14d210",
   "metadata": {},
   "outputs": [],
   "source": [
    "\n",
    "tool_mapping={tool.name: tool for tool in tools}"
   ]
  },
  {
   "cell_type": "code",
   "execution_count": 170,
   "id": "e666bb9b",
   "metadata": {},
   "outputs": [
    {
     "data": {
      "text/plain": [
       "{'search': StructuredTool(name='search', description='perform the web search on the user query', args_schema=<class 'langchain_core.utils.pydantic.search'>, func=<function search at 0x000001E959C4D1B0>),\n",
       " 'multiply': StructuredTool(name='multiply', description='multiply two integer number', args_schema=<class 'langchain_core.utils.pydantic.multiply'>, func=<function multiply at 0x000001E959C82050>)}"
      ]
     },
     "execution_count": 170,
     "metadata": {},
     "output_type": "execute_result"
    }
   ],
   "source": [
    "\n",
    "tool_mapping\n",
    "     "
   ]
  },
  {
   "cell_type": "code",
   "execution_count": null,
   "id": "190c8f89",
   "metadata": {},
   "outputs": [],
   "source": []
  },
  {
   "cell_type": "code",
   "execution_count": 171,
   "id": "0847668b",
   "metadata": {},
   "outputs": [],
   "source": [
    "response = model_with_tools.invoke(\"who is a current president of USA?\")"
   ]
  },
  {
   "cell_type": "code",
   "execution_count": 172,
   "id": "e922e338",
   "metadata": {},
   "outputs": [
    {
     "data": {
      "text/plain": [
       "AIMessage(content='', additional_kwargs={'function_call': {'name': 'search', 'arguments': '{\"query\": \"who is a current president of USA?\"}'}}, response_metadata={'prompt_feedback': {'block_reason': 0, 'safety_ratings': []}, 'finish_reason': 'STOP', 'model_name': 'gemini-1.5-pro-002', 'safety_ratings': []}, id='run--8ef2982c-c561-4ead-900b-91e25596da88-0', tool_calls=[{'name': 'search', 'args': {'query': 'who is a current president of USA?'}, 'id': '8bbd70c0-46f3-4a22-ac8b-27175b8c090b', 'type': 'tool_call'}], usage_metadata={'input_tokens': 41, 'output_tokens': 10, 'total_tokens': 51, 'input_token_details': {'cache_read': 0}})"
      ]
     },
     "execution_count": 172,
     "metadata": {},
     "output_type": "execute_result"
    }
   ],
   "source": [
    "response"
   ]
  },
  {
   "cell_type": "code",
   "execution_count": 173,
   "id": "1caa8620",
   "metadata": {},
   "outputs": [],
   "source": [
    "\n",
    "\n",
    "tool_details=response.additional_kwargs.get(\"function_call\")\n",
    "     "
   ]
  },
  {
   "cell_type": "code",
   "execution_count": 174,
   "id": "60ba84bd",
   "metadata": {},
   "outputs": [
    {
     "data": {
      "text/plain": [
       "{'name': 'search',\n",
       " 'arguments': '{\"query\": \"who is a current president of USA?\"}'}"
      ]
     },
     "execution_count": 174,
     "metadata": {},
     "output_type": "execute_result"
    }
   ],
   "source": [
    "tool_details"
   ]
  },
  {
   "cell_type": "code",
   "execution_count": 175,
   "id": "81a1991a",
   "metadata": {},
   "outputs": [
    {
     "data": {
      "text/plain": [
       "'search'"
      ]
     },
     "execution_count": 175,
     "metadata": {},
     "output_type": "execute_result"
    }
   ],
   "source": [
    "\n",
    "tool_details[\"name\"]\n",
    "     "
   ]
  },
  {
   "cell_type": "code",
   "execution_count": 176,
   "id": "30c32cf9",
   "metadata": {},
   "outputs": [
    {
     "data": {
      "text/plain": [
       "'{\"query\": \"who is a current president of USA?\"}'"
      ]
     },
     "execution_count": 176,
     "metadata": {},
     "output_type": "execute_result"
    }
   ],
   "source": [
    "tool_details[\"arguments\"]"
   ]
  },
  {
   "cell_type": "code",
   "execution_count": 177,
   "id": "52ea17da",
   "metadata": {},
   "outputs": [
    {
     "data": {
      "text/plain": [
       "{'query': 'who is a current president of USA?'}"
      ]
     },
     "execution_count": 177,
     "metadata": {},
     "output_type": "execute_result"
    }
   ],
   "source": [
    "json.loads(tool_details[\"arguments\"])"
   ]
  },
  {
   "cell_type": "code",
   "execution_count": 178,
   "id": "7d74ec66",
   "metadata": {},
   "outputs": [
    {
     "data": {
      "text/plain": [
       "[{'title': 'Presidents, vice presidents, and first ladies | USAGov',\n",
       "  'url': 'https://www.usa.gov/presidents',\n",
       "  'content': 'Learn about the duties of president, vice president, and first lady of the United States. Find out how to contact and learn more about current and past leaders.\\n\\n## President of the United States\\n\\nThe president of the United States is the:\\n\\n### Current president\\n\\nThe 47th and current president of the United States is Donald John Trump. He was sworn into office on January 20, 2025.\\n\\n### Former U.S. presidents [...] The vice president of the United States presides over the U.S. Senate and takes over the role of president of the United States if the president is unable to perform their duties. If the vice president is not able to fulfill the duties of president, the role is passed to another leader in the order of presidential succession.\\n\\n### Current vice president\\n\\nThe 50th and current vice president of the United States is James David (JD) Vance. He was sworn in on January 20, 2025 [...] ### Former vice presidents\\n\\nRead about past presidents and vice presidents.\\n\\n## First lady\\n\\nThe First lady of the United States has traditionally been the wife or other close female relative of the president of the United States. First ladies:\\n\\n### Current first lady\\n\\nThe current first lady of the United States is Melania Trump.\\n\\n### Former first ladies\\n\\nFind a list of former first ladies and their presidential spouses.',\n",
       "  'score': 0.86303437},\n",
       " {'title': 'President of the United States',\n",
       "  'url': 'https://en.wikipedia.org/wiki/President_of_the_United_States',\n",
       "  'content': 'The president is elected indirectly through the Electoral College to a four-year term, along with the vice president. Under the Twenty-second Amendment, ratified in 1951, no person who has been elected to two presidential terms may be elected to a third. In addition, nine vice presidents have become president by virtue of a president\\'s intra-term death or resignation. In all, 45 individuals have served 47 presidencies spanning 60 four-year terms. Donald Trump is the 47th and current president [...] | President of the United States | |\\n| --- | --- |\\n| Presidential seal | |\\n| Presidential flag | |\\n| Incumbent Donald Trump since January 20, 2025 | |\\n|  Executive branch of the U.S. government  Executive Office of the President | |\\n| Style \"Style (form of address)\") |  Mr. President \"President (government title)\") (informal)  The Honorable (formal)  His Excellency (diplomatic) |\\n| Type |  Head of state  Head of government  Commander-in-chief |\\n| Abbreviation | POTUS | [...] | Party | | Number of presidents | Name(s) |\\n| --- | --- | --- | --- |\\n|  | Republican \"Republican Party (United States)\") | 19 | Chester A. Arthur, George H. W. Bush, George W. Bush, Calvin Coolidge, Dwight D. Eisenhower, Gerald Ford, James A. Garfield, Ulysses S. Grant, Warren G. Harding, Benjamin Harrison, Rutherford B. Hayes, Herbert Hoover, Abraham Lincoln, William McKinley, Richard Nixon, Ronald Reagan, Theodore Roosevelt, William Howard Taft, and Donald Trump (incumbent) |',\n",
       "  'score': 0.81347597},\n",
       " {'title': 'The White House',\n",
       "  'url': 'https://www.whitehouse.gov/',\n",
       "  'content': 'Donald J. Trump. President of the United States · JD Vance. VICE PRESIDENT OF THE UNITED STATES · Melania Trump. First Lady OF THE UNITED STATES · The Cabinet. Of',\n",
       "  'score': 0.644248},\n",
       " {'title': 'President Donald J. Trump - The White House',\n",
       "  'url': 'https://www.whitehouse.gov/administration/donald-j-trump/',\n",
       "  'content': 'President Donald J. Trump is returning to the White House to build upon his previous successes and use his mandate to reject the extremist policies.',\n",
       "  'score': 0.46832922},\n",
       " {'title': 'President Trump Holds a Press Conference, Aug. 11, 2025',\n",
       "  'url': 'https://www.whitehouse.gov/videos/president-trump-holds-a-press-conference-aug-11-2025/',\n",
       "  'content': \"President Trump Holds a Press Conference, Aug. 11, 2025 ... Your browser can't play this video. ... An error occurred. Try watching this video on\",\n",
       "  'score': 0.15699492}]"
      ]
     },
     "execution_count": 178,
     "metadata": {},
     "output_type": "execute_result"
    }
   ],
   "source": [
    "\n",
    "tool_mapping[tool_details[\"name\"]].invoke(json.loads(tool_details[\"arguments\"]))"
   ]
  },
  {
   "cell_type": "code",
   "execution_count": 179,
   "id": "90c762d3",
   "metadata": {},
   "outputs": [],
   "source": [
    "class AgentState(TypedDict):\n",
    "    messages: Annotated[Sequence[BaseMessage], operator.add]"
   ]
  },
  {
   "cell_type": "code",
   "execution_count": 180,
   "id": "7b2cb0a8",
   "metadata": {},
   "outputs": [],
   "source": [
    "def invoke_model(state:AgentState):\n",
    "    messages = state['messages']\n",
    "    question = messages[-1]   ## Fetching the user question\n",
    "    return {\"messages\":[model_with_tools.invoke(question)]}\n",
    "     "
   ]
  },
  {
   "cell_type": "code",
   "execution_count": 181,
   "id": "f8efa712",
   "metadata": {},
   "outputs": [],
   "source": [
    "def invoke_tool(state:AgentState):\n",
    "    tool_details= state['messages'][-1].additional_kwargs.get(\"function_call\", [])\n",
    "    \n",
    "    if tool_details is None:\n",
    "        raise Exception(\"no tool call found\")\n",
    "    \n",
    "    print(f'Selected tool: {tool_details.get(\"name\")}')\n",
    "    \n",
    "    if tool_details.get(\"name\")==\"search\":\n",
    "        response = input(prompt=f\"[y/n] continue with expensive web search?\")\n",
    "        if response == \"n\":\n",
    "            raise Exception(\"web search discard\")\n",
    "        \n",
    "    response = tool_mapping[tool_details['name']].invoke(json.loads(tool_details.get(\"arguments\")))\n",
    "    return {\"messages\" : [response]}\n",
    "     "
   ]
  },
  {
   "cell_type": "code",
   "execution_count": 182,
   "id": "70624eef",
   "metadata": {},
   "outputs": [],
   "source": [
    "def router(state):\n",
    "    tool_calls = state['messages'][-1].additional_kwargs.get(\"function_call\", [])\n",
    "    if len(tool_calls):\n",
    "        return \"tool\"\n",
    "    else:\n",
    "        return \"end\""
   ]
  },
  {
   "cell_type": "code",
   "execution_count": 183,
   "id": "204b349b",
   "metadata": {},
   "outputs": [
    {
     "data": {
      "text/plain": [
       "<langgraph.graph.state.StateGraph at 0x1e959c5b640>"
      ]
     },
     "execution_count": 183,
     "metadata": {},
     "output_type": "execute_result"
    }
   ],
   "source": [
    "graph = StateGraph(AgentState) ### StateGraph with AgentState\n",
    "\n",
    "graph.add_node(\"ai_assistant\", invoke_model)\n",
    "\n",
    "graph.add_node(\"tool\", invoke_tool)"
   ]
  },
  {
   "cell_type": "code",
   "execution_count": 184,
   "id": "2961f420",
   "metadata": {},
   "outputs": [
    {
     "data": {
      "text/plain": [
       "<langgraph.graph.state.StateGraph at 0x1e959c5b640>"
      ]
     },
     "execution_count": 184,
     "metadata": {},
     "output_type": "execute_result"
    }
   ],
   "source": [
    "graph.add_conditional_edges(\"ai_assistant\", router, {\"tool\": \"tool\",\"end\": END,})\n",
    "\n",
    "graph.add_edge(\"tool\", END)\n",
    "\n",
    "#graph.add_edge(\"tool\", \"ai_assistant\")\n",
    "\n",
    "graph.set_entry_point(\"ai_assistant\")"
   ]
  },
  {
   "cell_type": "code",
   "execution_count": 185,
   "id": "66cb9957",
   "metadata": {},
   "outputs": [],
   "source": [
    "app = graph.compile()"
   ]
  },
  {
   "cell_type": "code",
   "execution_count": 186,
   "id": "0a8b6d0e",
   "metadata": {},
   "outputs": [
    {
     "data": {
      "image/png": "[encoded data removed]",
      "text/plain": [
       "<IPython.core.display.Image object>"
      ]
     },
     "metadata": {},
     "output_type": "display_data"
    }
   ],
   "source": [
    "\n",
    "\n",
    "from IPython.display import Image, display\n",
    "display(Image(app.get_graph().draw_mermaid_png()))"
   ]
  },
  {
   "cell_type": "code",
   "execution_count": 187,
   "id": "967a7b90",
   "metadata": {},
   "outputs": [
    {
     "name": "stdout",
     "output_type": "stream",
     "text": [
      "{'messages': [AIMessage(content='', additional_kwargs={'function_call': {'name': 'search', 'arguments': '{\"query\": \"who is upcoming president of USA?\"}'}}, response_metadata={'prompt_feedback': {'block_reason': 0, 'safety_ratings': []}, 'finish_reason': 'STOP', 'model_name': 'gemini-1.5-pro-002', 'safety_ratings': []}, id='run--55f9f954-6c01-48f0-9694-35811df0d037-0', tool_calls=[{'name': 'search', 'args': {'query': 'who is upcoming president of USA?'}, 'id': 'b0563432-8443-4f4d-800c-e4a06dd2df35', 'type': 'tool_call'}], usage_metadata={'input_tokens': 40, 'output_tokens': 9, 'total_tokens': 49, 'input_token_details': {'cache_read': 0}})]}\n",
      "----\n",
      "Selected tool: search\n",
      "{'messages': [[{'title': 'Order of presidential succession | USAGov', 'url': 'https://www.usa.gov/presidential-succession', 'content': 'The president of the United States may be replaced if he or she: Becomes incapacitated; Dies; Resigns; Is unable to hold office', 'score': 0.98591}, {'title': 'United States presidential line of succession - Wikipedia', 'url': 'https://en.wikipedia.org/wiki/United_States_presidential_line_of_succession', 'content': 'Current order of succession ; 1, Vice President · JD Vance ; 2, Speaker of the House of Representatives · Mike Johnson ; 3, President pro tempore of the Senate', 'score': 0.98152}, {'title': 'Presidential candidates, 2028 - Ballotpedia', 'url': 'https://ballotpedia.org/Presidential_candidates,_2028', 'content': 'As of July 2025, Ballotpedia had not identified any noteworthy presidential campaign announcements for the 2028 presidential election. At this point leading up', 'score': 0.9808}, {'title': 'United States presidential line of succession - Simple Wikipedia', 'url': 'https://simple.wikipedia.org/wiki/United_States_presidential_line_of_succession', 'content': '1, Vice President · JD Vance ; 2, Speaker of the House of Representatives · Mike Johnson ; 3, President pro tempore of the Senate · Chuck Grassley ; 4, Secretary', 'score': 0.97957}, {'title': \"Who's Running for President in 2024? - The New York Times\", 'url': 'https://www.nytimes.com/interactive/2023/us/politics/presidential-candidates-2024.html', 'content': 'Running: Democrat Kamala Harris, Republican Donald J. Trump, Independent and third-party Cornel West, Jill Stein, Chase Oliver.', 'score': 0.97551}]]}\n",
      "----\n"
     ]
    }
   ],
   "source": [
    "\n",
    "for s in app.stream({\"messages\": [\"who is upcoming president of USA?\"]}):\n",
    "    print(list(s.values())[0])\n",
    "    print(\"----\")"
   ]
  },
  {
   "cell_type": "code",
   "execution_count": 188,
   "id": "ed6c43cb",
   "metadata": {},
   "outputs": [
    {
     "name": "stdout",
     "output_type": "stream",
     "text": [
      "{'messages': [AIMessage(content='', additional_kwargs={'function_call': {'name': 'multiply', 'arguments': '{\"second_number\": 4.0, \"first_number\": 3.0}'}}, response_metadata={'prompt_feedback': {'block_reason': 0, 'safety_ratings': []}, 'finish_reason': 'STOP', 'model_name': 'gemini-1.5-pro-002', 'safety_ratings': []}, id='run--7ceef44e-d9c9-406e-a065-0090b20f5fb6-0', tool_calls=[{'name': 'multiply', 'args': {'second_number': 4.0, 'first_number': 3.0}, 'id': '5dd76ebd-f9d3-45e4-83d7-d431a7abb0d7', 'type': 'tool_call'}], usage_metadata={'input_tokens': 39, 'output_tokens': 9, 'total_tokens': 48, 'input_token_details': {'cache_read': 0}})]}\n",
      "----\n",
      "Selected tool: multiply\n",
      "{'messages': [12]}\n",
      "----\n"
     ]
    }
   ],
   "source": [
    "\n",
    "for s in app.stream({\"messages\": [\"multiply 3 and 4\"]}):\n",
    "    print(list(s.values())[0])\n",
    "    print(\"----\")"
   ]
  },
  {
   "cell_type": "code",
   "execution_count": 189,
   "id": "3b63c88b",
   "metadata": {},
   "outputs": [
    {
     "name": "stdout",
     "output_type": "stream",
     "text": [
      "{'messages': [AIMessage(content='I cannot calculate the total amount of money in the world.  The definition of \"money\" is complex and varies depending on what is included (e.g., physical currency, bank deposits, investments, derivatives). Also, the total amount is constantly changing due to economic activity.  I can provide information about specific measures of money supply if you have those in mind.', additional_kwargs={}, response_metadata={'prompt_feedback': {'block_reason': 0, 'safety_ratings': []}, 'finish_reason': 'STOP', 'model_name': 'gemini-1.5-pro-002', 'safety_ratings': []}, id='run--45403d09-3aed-4a78-9c05-564c123dea09-0', usage_metadata={'input_tokens': 46, 'output_tokens': 75, 'total_tokens': 121, 'input_token_details': {'cache_read': 0}})]}\n",
      "----\n"
     ]
    }
   ],
   "source": [
    "\n",
    "for s in app.stream({\"messages\": [\"can you tell me th etotal money that exist in the world\"]}):\n",
    "    print(list(s.values())[0])\n",
    "    print(\"----\")"
   ]
  },
  {
   "cell_type": "markdown",
   "id": "60afd322",
   "metadata": {},
   "source": [
    "the above we have  cresateed haas been done by the halp of custom made function now we will go to the langgraph's interrupt before funtiojn"
   ]
  },
  {
   "cell_type": "code",
   "execution_count": 190,
   "id": "f553ee21",
   "metadata": {},
   "outputs": [],
   "source": [
    "class AgentState(TypedDict):\n",
    "    messages: Annotated[list, add_messages]"
   ]
  },
  {
   "cell_type": "code",
   "execution_count": 191,
   "id": "77a3d9a7",
   "metadata": {},
   "outputs": [],
   "source": [
    "tavily=TavilySearchResults()"
   ]
  },
  {
   "cell_type": "code",
   "execution_count": 192,
   "id": "6e2907e8",
   "metadata": {},
   "outputs": [],
   "source": [
    "\n",
    "tools = [tavily]"
   ]
  },
  {
   "cell_type": "code",
   "execution_count": 193,
   "id": "aebc8487",
   "metadata": {},
   "outputs": [],
   "source": [
    "llm_with_tools = llm.bind_tools(tools)\n"
   ]
  },
  {
   "cell_type": "code",
   "execution_count": 194,
   "id": "8a2a0267",
   "metadata": {},
   "outputs": [],
   "source": [
    "def ai_assistant(state: AgentState):\n",
    "    return {\"messages\": [llm_with_tools.invoke(state[\"messages\"])]}"
   ]
  },
  {
   "cell_type": "code",
   "execution_count": 195,
   "id": "08042041",
   "metadata": {},
   "outputs": [],
   "source": [
    "memory = MemorySaver()"
   ]
  },
  {
   "cell_type": "code",
   "execution_count": 196,
   "id": "227a958b",
   "metadata": {},
   "outputs": [
    {
     "data": {
      "text/plain": [
       "<langgraph.graph.state.StateGraph at 0x1e93979ff10>"
      ]
     },
     "execution_count": 196,
     "metadata": {},
     "output_type": "execute_result"
    }
   ],
   "source": [
    "graph_builder = StateGraph(AgentState)\n",
    "graph_builder.add_node(\"ai_assistant\", ai_assistant)\n",
    "\n",
    "tool_node = ToolNode(tools=tools)\n",
    "graph_builder.add_node(\"tools\", tool_node)"
   ]
  },
  {
   "cell_type": "code",
   "execution_count": 197,
   "id": "2f89a06e",
   "metadata": {},
   "outputs": [
    {
     "data": {
      "text/plain": [
       "<langgraph.graph.state.StateGraph at 0x1e93979ff10>"
      ]
     },
     "execution_count": 197,
     "metadata": {},
     "output_type": "execute_result"
    }
   ],
   "source": [
    "graph_builder.add_edge(START, \"ai_assistant\")\n",
    "\n",
    "graph_builder.add_conditional_edges(\n",
    "    \"ai_assistant\",\n",
    "    tools_condition,\n",
    ")\n",
    "graph_builder.add_edge(\"tools\", \"ai_assistant\")"
   ]
  },
  {
   "cell_type": "code",
   "execution_count": 198,
   "id": "5b7d4e09",
   "metadata": {},
   "outputs": [],
   "source": [
    "app2 = graph_builder.compile(\n",
    "    checkpointer=memory,\n",
    "    # This is new!\n",
    "    interrupt_before=[\"tools\"],\n",
    "    # Note: can also interrupt __after__ tools, if desired.\n",
    "    # interrupt_after=[\"tools\"]\n",
    ")"
   ]
  },
  {
   "cell_type": "code",
   "execution_count": 199,
   "id": "a7b6a21c",
   "metadata": {},
   "outputs": [
    {
     "data": {
      "image/png": "[encoded data removed]",
      "text/plain": [
       "<IPython.core.display.Image object>"
      ]
     },
     "metadata": {},
     "output_type": "display_data"
    }
   ],
   "source": [
    "\n",
    "from IPython.display import Image, display\n",
    "display(Image(app2.get_graph().draw_mermaid_png()))"
   ]
  },
  {
   "cell_type": "code",
   "execution_count": 200,
   "id": "83b41164",
   "metadata": {},
   "outputs": [],
   "source": [
    "user_input = \"what is current a capital of india?\"\n",
    "config = {\"configurable\": {\"thread_id\": \"1\"}}"
   ]
  },
  {
   "cell_type": "code",
   "execution_count": 201,
   "id": "83c377e9",
   "metadata": {},
   "outputs": [],
   "source": [
    "\n",
    "# The config is the **second positional argument** to stream() or invoke()!\n",
    "events = app2.stream(\n",
    "    {\"messages\": [(\"user\", user_input)]}, config, stream_mode=\"values\"\n",
    ")"
   ]
  },
  {
   "cell_type": "code",
   "execution_count": 202,
   "id": "7e592d16",
   "metadata": {},
   "outputs": [
    {
     "name": "stdout",
     "output_type": "stream",
     "text": [
      "================================\u001b[1m Human Message \u001b[0m=================================\n",
      "\n",
      "what is current a capital of india?\n",
      "==================================\u001b[1m Ai Message \u001b[0m==================================\n",
      "Tool Calls:\n",
      "  tavily_search_results_json (766dec22-0d85-4d9f-8892-bcca563bed7e)\n",
      " Call ID: 766dec22-0d85-4d9f-8892-bcca563bed7e\n",
      "  Args:\n",
      "    query: what is current a capital of india?\n"
     ]
    }
   ],
   "source": [
    "for event in events:\n",
    "    if \"messages\" in event:\n",
    "        event[\"messages\"][-1].pretty_print()"
   ]
  },
  {
   "cell_type": "code",
   "execution_count": 203,
   "id": "b5c641ac",
   "metadata": {},
   "outputs": [],
   "source": [
    "snapshot = app2.get_state(config)"
   ]
  },
  {
   "cell_type": "code",
   "execution_count": 209,
   "id": "80b94594",
   "metadata": {},
   "outputs": [
    {
     "data": {
      "text/plain": [
       "('tools',)"
      ]
     },
     "execution_count": 209,
     "metadata": {},
     "output_type": "execute_result"
    }
   ],
   "source": [
    "\n",
    "snapshot.next"
   ]
  },
  {
   "cell_type": "code",
   "execution_count": 210,
   "id": "e65490f7",
   "metadata": {},
   "outputs": [],
   "source": [
    "last_message=snapshot.values[\"messages\"][-1]"
   ]
  },
  {
   "cell_type": "code",
   "execution_count": 211,
   "id": "c66fec69",
   "metadata": {},
   "outputs": [
    {
     "data": {
      "text/plain": [
       "[{'name': 'tavily_search_results_json',\n",
       "  'args': {'query': 'what is current a capital of india?'},\n",
       "  'id': '766dec22-0d85-4d9f-8892-bcca563bed7e',\n",
       "  'type': 'tool_call'}]"
      ]
     },
     "execution_count": 211,
     "metadata": {},
     "output_type": "execute_result"
    }
   ],
   "source": [
    "last_message.tool_calls"
   ]
  },
  {
   "cell_type": "code",
   "execution_count": 212,
   "id": "bced7f49",
   "metadata": {},
   "outputs": [],
   "source": [
    "# `None` will append nothing new to the current state, letting it resume as if it had never been interrupted\n",
    "events = app2.stream(None, config, stream_mode=\"values\")"
   ]
  },
  {
   "cell_type": "code",
   "execution_count": 213,
   "id": "eea9e833",
   "metadata": {},
   "outputs": [
    {
     "name": "stdout",
     "output_type": "stream",
     "text": [
      "==================================\u001b[1m Ai Message \u001b[0m==================================\n",
      "\n",
      "New Delhi is the capital of India.\n"
     ]
    }
   ],
   "source": [
    "\n",
    "for event in events:\n",
    "    if \"messages\" in event:\n",
    "        event[\"messages\"][-1].pretty_print()\n",
    "     "
   ]
  },
  {
   "cell_type": "code",
   "execution_count": 214,
   "id": "4a2eb773",
   "metadata": {},
   "outputs": [],
   "source": [
    "user_input = \"what is a weather there?\""
   ]
  },
  {
   "cell_type": "code",
   "execution_count": 215,
   "id": "8c8ff119",
   "metadata": {},
   "outputs": [],
   "source": [
    "\n",
    "# The config is the **second positional argument** to stream() or invoke()!\n",
    "events = app2.stream(\n",
    "    {\"messages\": [(\"user\", user_input)]}, config, stream_mode=\"values\"\n",
    ")"
   ]
  },
  {
   "cell_type": "code",
   "execution_count": 216,
   "id": "3a41a337",
   "metadata": {},
   "outputs": [
    {
     "name": "stdout",
     "output_type": "stream",
     "text": [
      "================================\u001b[1m Human Message \u001b[0m=================================\n",
      "\n",
      "what is a weather there?\n",
      "==================================\u001b[1m Ai Message \u001b[0m==================================\n",
      "Tool Calls:\n",
      "  tavily_search_results_json (5354be30-4a96-4e54-8a82-d0b21bf128c2)\n",
      " Call ID: 5354be30-4a96-4e54-8a82-d0b21bf128c2\n",
      "  Args:\n",
      "    query: weather in New Delhi\n"
     ]
    }
   ],
   "source": [
    "for event in events:\n",
    "    if \"messages\" in event:\n",
    "        event[\"messages\"][-1].pretty_print()"
   ]
  },
  {
   "cell_type": "code",
   "execution_count": 217,
   "id": "3f126e0d",
   "metadata": {},
   "outputs": [],
   "source": [
    "snapshot = app2.get_state(config)"
   ]
  },
  {
   "cell_type": "code",
   "execution_count": 218,
   "id": "18a58035",
   "metadata": {},
   "outputs": [
    {
     "data": {
      "text/plain": [
       "('tools',)"
      ]
     },
     "execution_count": 218,
     "metadata": {},
     "output_type": "execute_result"
    }
   ],
   "source": [
    "snapshot.next"
   ]
  },
  {
   "cell_type": "code",
   "execution_count": 219,
   "id": "8ee19167",
   "metadata": {},
   "outputs": [],
   "source": [
    "last_message=snapshot.values[\"messages\"][-1]"
   ]
  },
  {
   "cell_type": "code",
   "execution_count": 220,
   "id": "06e2882e",
   "metadata": {},
   "outputs": [],
   "source": [
    "\n",
    "\n",
    "# `None` will append nothing new to the current state, letting it resume as if it had never been interrupted\n",
    "events = app2.stream(None, config, stream_mode=\"values\")\n"
   ]
  },
  {
   "cell_type": "code",
   "execution_count": 221,
   "id": "ec527842",
   "metadata": {},
   "outputs": [
    {
     "name": "stdout",
     "output_type": "stream",
     "text": [
      "==================================\u001b[1m Ai Message \u001b[0m==================================\n",
      "Tool Calls:\n",
      "  tavily_search_results_json (5354be30-4a96-4e54-8a82-d0b21bf128c2)\n",
      " Call ID: 5354be30-4a96-4e54-8a82-d0b21bf128c2\n",
      "  Args:\n",
      "    query: weather in New Delhi\n",
      "=================================\u001b[1m Tool Message \u001b[0m=================================\n",
      "Name: tavily_search_results_json\n",
      "\n",
      "[{\"title\": \"India rains LIVE: IMD issues red alert to several places in ...\", \"url\": \"https://www.thehindu.com/news/national/india-rains-telangana-delhi-kerala-uttarakhand-weather-live-updates-august-13-2025/article69927053.ece\", \"content\": \"Telangana faces heavy rainfall, IMD issues alerts, health minister directs hospitals to prepare for emergencies.    \\n     \\n   August 13, 2025 10:19  Delhi records minimum temperature of 26.8 degrees Celsius Delhi on Wednesday (August 13, 2025) recorded a minimum temperature of 26.8 degrees Celsius, with the weather office forecasting a generally cloudy sky with one or two spells of rain or thundershowers.\\n\\nThe maximum temperature is expected to settle at 33 degrees Celsius, the weather said. [...] Water logging during heavy spell of monsoon rain at GTK road in New Delhi on August 12, 2025. | Photo Credit: Sushil Kumar Verma\\n\\nThe India Meteorological Department (IMD) has forecasted that Telangana will receive heavy to very heavy rains in the next 72 hours across the state from Wednesday (August 13, 2025). [...] Rain lashes several parts of Delhi overnight; monsoon continues to lash Himachal Pradesh\\n----------------------------------------------------------------------------------------\\n\\nUpdated  - August 13, 2025 11:55 am IST\\n\\nThe Hindu Bureau\\n\\n    Copy link \\n   Email\\n    Facebook \\n    Twitter \\n    Telegram \\n    LinkedIn \\n    WhatsApp \\n    Reddit \\n\\n0 / 0 New\\n\\nREAD LATER\\n\\n Remove SEE ALL\\n\\nPRINT\\n\\nImage 10: Water logging during heavy spell of monsoon rain at GTK road in New Delhi on August 12, 2025.\", \"score\": 0.93497354}, {\"title\": \"Weather New Delhi in August 2025 - Climate-Data.org\", \"url\": \"https://en.climate-data.org/asia/india/delhi/new-delhi-30/t/august-8/\", \"content\": \"| Max. Temperature °C (°F) | 20 °C (68) °F | 23.5 °C (74.4) °F | 29.8 °C (85.7) °F | 36.7 °C (98.1) °F | 39.6 °C (103.3) °F | 38.2 °C (100.8) °F | 33.7 °C (92.6) °F | 32.3 °C (90.1) °F | 32.2 °C (90) °F | 31.8 °C (89.3) °F | 27.4 °C (81.3) °F | 22.2 °C (72) °F |\\n| Precipitation / Rainfall mm (in) | 23 (0) | 33 (1) | 20 (0) | 14 (0) | 20 (0) | 74 (2) | 208 (8) | 183 (7) | 99 (3) | 13 (0) | 5 (0) | 8 (0) |\\n| Humidity(%) | 67% | 60% | 47% | 29% | 32% | 46% | 71% | 77% | 71% | 55% | 54% | 61% | [...] | Min. Temperature °C (°F) | 7.7 °C (45.8) °F | 10.6 °C (51) °F | 15.2 °C (59.4) °F | 21 °C (69.8) °F | 25.3 °C (77.6) °F | 27.6 °C (81.6) °F | 26.6 °C (79.9) °F | 25.8 °C (78.5) °F | 23.9 °C (75.1) °F | 19.2 °C (66.5) °F | 14.2 °C (57.5) °F | 9.3 °C (48.7) °F | [...] | Humidity |\\n| --- | --- | --- | --- | --- | --- | --- | --- |\\n| 11. August | Thunderstorm with rain | 34 °C 93.2 °F | 27 °C 80.6 °F | 75 % | 6 km/h 4 mph | 9mm 0.35 in | 78% |\\n| 12. August | Overcast clouds | 33 °C 91.4 °F | 29 °C 84.2 °F | 10 % | 6 km/h 4 mph | 0mm 0 in | 77% |\\n| 13. August | Overcast clouds | 34 °C 93.2 °F | 29 °C 84.2 °F | 0 % | 6 km/h 4 mph | 0mm 0 in | 75% |\", \"score\": 0.9174287}, {\"title\": \"Delhi weather in August 2025 | Delhi 14 day weather - Weather25.com\", \"url\": \"https://www.weather25.com/asia/india/delhi?page=month&month=August\", \"content\": \"| 10 Image 23: Cloudy 96°/84° | 11 Image 24: Partly cloudy 93°/84° | 12 Image 25: Partly cloudy 98°/84° | 13 Image 26: Patchy rain possible 98°/84° | 14 Image 27: Patchy rain possible 98°/86° | 15 Image 28: Patchy rain possible 95°/84° | 16 Image 29: Partly cloudy 98°/84° | [...] | Sun | Mon | Tue | Wed | Thu | Fri | Sat |\\n| --- | --- | --- | --- | --- | --- | --- |\\n|  |  |  |  |  | 1 Image 14: Moderate or heavy rain shower 96°/84° | 2 Image 15: Light rain shower 98°/86° |\\n| 3 Image 16: Light rain shower 93°/82° | 4 Image 17: Light rain shower 96°/86° | 5 Image 18: Light rain shower 93°/84° | 6 Image 19: Patchy rain possible 98°/84° | 7 Image 20: Moderate or heavy rain shower 95°/84° | 8 Image 21: Light rain shower 96°/82° | 9 Image 22: Cloudy 98°/84° | [...] | 17 Image 30: Cloudy 98°/84° | 18 Image 31: Partly cloudy 100°/87° | 19 Image 32: Patchy rain possible 96°/87° | 20 Image 33: Patchy rain possible 95°/84° | 21 Image 34: Light rain shower 93°/78° | 22 Image 35: Patchy rain possible 95°/82° | 23 Image 36: Patchy rain possible 95°/84° |\", \"score\": 0.8458536}, {\"title\": \"Weather in Delhi in August 2025 - Detailed Forecast\", \"url\": \"https://www.easeweather.com/asia/india/delhi/august\", \"content\": \"| 11 Image 20: Overcast 32° | 12 Image 21: Overcast 35° | 13 Image 22: Patchy rain possible 35° | 14 Image 23: Patchy rain possible 34° | 15 Image 24: Moderate or heavy rain shower 34° | 16 Image 25: Heavy rain at times 36° | 17 Image 26: Patchy rain possible 36° | [...] | 10 Aug. | Image 50: Moderate or heavy rain shower Moderate or heavy rain shower | 31°/27° | 6.7 mm | 7 |  |\\n| 11 Aug. | Image 51: Overcast Overcast | 32°/27° | 9.9 mm | 7 |  |\\n| 12 Aug. | Image 52: Overcast Overcast | 35°/27° | 8 mm | 8 |  |\\n| 13 Aug. | Image 53: Patchy rain possible Patchy rain possible | 35°/27° | 3.7 mm | 8 |  |\\n| 14 Aug. | Image 54: Patchy rain possible Patchy rain possible | 34°/28° | 0.7 mm | 8 |  | [...] | Mon. | Tue. | Wed. | Thu. | Fri. | Sat. | Sun. |\\n| --- | --- | --- | --- | --- | --- | --- |\\n|  |  |  |  | 1 Image 10: Patchy rain possible 35° | 2 Image 11: Moderate or heavy rain shower 36° | 3 Image 12: Patchy rain possible 34° |\", \"score\": 0.82288796}, {\"title\": \"Delhi, Delhi, India Monthly Weather\", \"url\": \"https://www.accuweather.com/en/in/delhi/202396/august-weather/202396\", \"content\": \"© 2025 AccuWeather, Inc. \\\"AccuWeather\\\" and sun design are registered trademarks of AccuWeather, Inc. All Rights Reserved. \\n\\nTerms of Use | Privacy Policy | Cookie Policy|About Your Privacy Do Not Sell or Share My Personal Information\\n\\nGet AccuWeather alerts as they happen with our browser notifications.\\n\\nEnable Notifications\\n\\nNo, Thanks\\n\\nNotifications Enabled\\n\\nThanks! We'll keep you informed.\\n\\nImage 16Image 17Image 18 [...] August\\n------\\n\\nJanuaryFebruaryMarchAprilMayJuneJulyAugustSeptemberOctoberNovemberDecember\\n\\n2025\\n----\\n\\n202420252026\\n\\nDaily -----\\n\\n S \\n\\n M \\n\\n T \\n\\n W \\n\\n T \\n\\n F \\n\\n S [...] 27 91° 81°28 95° 81°29 95° 80°30 94° 82°31 95° 81°1 93° 83°2 96° 82°3 93° 81°4 94° 82°5 95° 83°6 94° 82°7 95° 82°8 96° 81°9 96° 80°10 95° 78°11 96° 78°12 91° 79°13 92° 81°14 94° 80°15 95° 81°16 94° 80°17 94° 83°18 95° 82°19 95° 81°20 94° 81°21 96° 82°22 96° 81°23 94° 82°24 95° 81°25 96° 80°26 95° 78°27 95° 78°28 94° 79°29 95° 77°30 94° 78°31 95° 77°1 96° 76°2 95° 77°3 96° 77°4 97° 78°5 95° 78°6 96° 76°\\n\\nTemperature Graph\\n-----------------\\n\\n°F\\n\\nAvg. Hi\\n\\nAvg. Lo\\n\\nActual Hi\\n\\nActual Lo\", \"score\": 0.32872388}]\n",
      "==================================\u001b[1m Ai Message \u001b[0m==================================\n",
      "\n",
      "The weather in New Delhi is expected to be generally cloudy with one or two spells of rain or thundershowers. The minimum temperature is 26.8 degrees Celsius, and the maximum temperature is expected to settle at 33 degrees Celsius.  Heavy to very heavy rains are forecasted for the next 72 hours in Telangana.\n"
     ]
    }
   ],
   "source": [
    "for event in events:\n",
    "    if \"messages\" in event:\n",
    "        event[\"messages\"][-1].pretty_print()"
   ]
  },
  {
   "cell_type": "code",
   "execution_count": 222,
   "id": "f629df10",
   "metadata": {},
   "outputs": [
    {
     "data": {
      "text/plain": [
       "StateSnapshot(values={'messages': [HumanMessage(content='what is current a capital of india?', additional_kwargs={}, response_metadata={}, id='fc8c56f2-cd4f-4607-961b-2d30501023eb'), AIMessage(content='', additional_kwargs={'function_call': {'name': 'tavily_search_results_json', 'arguments': '{\"query\": \"what is current a capital of india?\"}'}}, response_metadata={'prompt_feedback': {'block_reason': 0, 'safety_ratings': []}, 'finish_reason': 'STOP', 'model_name': 'gemini-1.5-pro-002', 'safety_ratings': []}, id='run--0585a81f-11e6-4a33-82f7-2a7cc7239f96-0', tool_calls=[{'name': 'tavily_search_results_json', 'args': {'query': 'what is current a capital of india?'}, 'id': '766dec22-0d85-4d9f-8892-bcca563bed7e', 'type': 'tool_call'}], usage_metadata={'input_tokens': 57, 'output_tokens': 17, 'total_tokens': 74, 'input_token_details': {'cache_read': 0}}), ToolMessage(content='[{\"title\": \"What is the capital of India? States and union territories explained.\", \"url\": \"https://www.usatoday.com/story/news/world/2023/05/24/what-is-the-capital-of-india/70195720007/\", \"content\": \"Want to learn more about the soon-to-be most populous country? Here’s some interesting information about how India is organized.\\\\n\\\\n## What is the capital of India?\\\\n\\\\nThe capital of India is New Delhi, located in the north-central part of the country to the west of the Yamuna River.\\\\n\\\\nCalcutta (now Kolkata, the capital of West Bengal) was the country’s capital until 1911 when King George V declared Delhi the new capital and construction of New Delhi began. [...] When the national government achieved independence in 1947, New Delhi became the capital.\\\\n\\\\nMumbai, the state capital of Maharashtra, is often considered the financial capital of India because of its role in the national and international economy.\\\\n\\\\n## How many states are in India?\\\\n\\\\nIndia is home to 28 states, each with its own capital and run by a Governor who represents the President:\\\\n\\\\nIndia also has eight union territories, governed by an Administrator appointed by the President: [...] # What is the capital of India? How the territory came to be, plus the country\\'s 28 states.\\\\n\\\\nPortrait of Clare Mulroy\\\\n\\\\nAbout 1.4 billion people live in India, and the country is predicted to top China as the world’s most populous country by mid-2023, the United Nations reports. The report estimates that India will have 2.9 million more people than China by mid-year.\\\\n\\\\nThe U.S. is third in line for the largest population by country but it\\'s way behind China and India at about 335 million people.\", \"score\": 0.7915799}, {\"title\": \"New Delhi - Wikipedia\", \"url\": \"https://en.wikipedia.org/wiki/New_Delhi\", \"content\": \"New Delhi is the capital of India and a part of the National Capital Territory of Delhi (NCT). New Delhi is the seat of all three branches of the Government\", \"score\": 0.71137124}, {\"title\": \"Capital City of India\", \"url\": \"https://www.countryreports.org/country/India/capital-city.htm\", \"content\": \"|  |  |\\\\n| --- | --- |\\\\n| Capital City | New Delhi |\\\\n| Capital location | 28 36 N, 77 12 E | [...] of the latter designated as New Delhi; the new capital was not formally inaugurated until 1931. | [...] | Capital - history | the city\\'s name is associated with various myths and legends; the original name for the city may have been Dhilli or Dhillika; alternatively, the name could be a corruption of the Hindustani words \\\\\"dehleez\\\\\" or \\\\\"dehali\\\\\" - both terms meaning \\\\\"threshold\\\\\" or \\\\\"gateway\\\\\" - and indicative of the city as a gateway to the Gangetic Plain; after the British decided to move the capital of their Indian Empire from Calcutta to Delhi in 1911, they created a new governmental district south\", \"score\": 0.6917478}, {\"title\": \"List of state and union territory capitals in India - Wikipedia\", \"url\": \"https://en.wikipedia.org/wiki/List_of_state_and_union_territory_capitals_in_India\", \"content\": \"| State | Administrative/ Executive capital | Legislative capital | Judicial capital | Year of establishment | Former capital |\\\\n| --- | --- | --- | --- | --- | --- |\\\\n| Andhra Pradesh | Amaravati | | | 1956 | Hyderabad (1956–2014) |\\\\n| Arunachal Pradesh | Itanagar | | Guwahati | 1987 | — |\\\\n| Assam | Dispur | | 1972 | Shillong (1950–1972) |\\\\n| Bihar | Patna | | | 1950 | — |\\\\n| Chhattisgarh | Raipur | | Bilaspur | 2000 |\\\\n| Goa | Panaji | Porvorim | Mumbai | 1987 | [...] | Union Territory | Administrative/ Executive capital | Legislative capital | Judicial capital | Year of establishment |\\\\n| --- | --- | --- | --- | --- |\\\\n| Andaman and Nicobar Islands | Sri Vijay Puram (also known as Port Blair) | – | Kolkata | 1956 |\\\\n| Chandigarh | Chandigarh | Chandigarh | 1966 |\\\\n| Dadra and Nagar Haveli and Daman and Diu | Daman | Mumbai | 2020 |\\\\n| Jammu and Kashmir \\\\\"Jammu and Kashmir (union territory)\\\\\") | Srinagar (summer) Jammu (winter) | | | 2019 | [...] |  v  t  e  State and Union Territory capitals of India | |\\\\n| --- | --- |\\\\n| Administrative |  Agartala  Aizawl  Amaravati  Bengaluru  Bhopal  Bhubaneswar  Chandigarh  Chennai  Daman  Dehradun  Dispur  Gandhinagar  Gangtok  Hyderabad  Imphal  Itanagar  Jaipur  Jammu (winter)  Kargil (winter)  Kavaratti  Kohima  Kolkata  Leh (summer)  Lucknow  Mumbai  New Delhi  Panaji  Patna  Port Blair  Puducherry \\\\\"Puducherry (city)\\\\\")  Ranchi  Raipur  Shillong  Shimla  Srinagar (summer)  Thiruvananthapuram |\", \"score\": 0.6506676}, {\"title\": \"New Delhi | History, Population, Map, & Facts - Britannica\", \"url\": \"https://www.britannica.com/place/New-Delhi\", \"content\": \"New Delhi, national capital of India. It is situated in the north-central part of the country on the west bank of the Yamuna River, adjacent to and just south of Delhi city (Old Delhi) and within the Delhi national capital territory. [...] In December 1911 King George V of Britain decreed that the capital of British India would be moved from Calcutta (now Kolkata) to Delhi. Construction began in 1912 at a site about 3 miles (5 km) south of the Delhi city centre, and the new capital was formally dedicated in 1931. The straight and diagonal pattern of the broad tree-lined avenues in New Delhi, with extensive green spaces and wide vistas, contrasts sharply with the crowded, narrow, and winding streets characteristic of Old Delhi. [...] # New Delhi\\\\n\\\\nOur editors will review what you’ve submitted and determine whether to revise the article.\\\\n\\\\nNew Delhi: All India War Memorial arch\\\\n\\\\n### What is New Delhi?\\\\n\\\\nNew Delhi is the national capital of India.\\\\n\\\\n### Where is New Delhi?\\\\n\\\\nNew Delhi is situated in the north-central part of India on the west bank of the Yamuna River, adjacent to and just south of Old Delhi, the historic centre of Delhi, and within the Delhi national capital territory.\\\\n\\\\n### When was New Delhi founded?\", \"score\": 0.6493346}]', name='tavily_search_results_json', id='e9b1d210-040d-4535-9700-4da3a0c67430', tool_call_id='766dec22-0d85-4d9f-8892-bcca563bed7e', artifact={'query': 'what is current a capital of india?', 'follow_up_questions': None, 'answer': None, 'images': [], 'results': [{'url': 'https://www.usatoday.com/story/news/world/2023/05/24/what-is-the-capital-of-india/70195720007/', 'title': 'What is the capital of India? States and union territories explained.', 'content': \"Want to learn more about the soon-to-be most populous country? Here’s some interesting information about how India is organized.\\n\\n## What is the capital of India?\\n\\nThe capital of India is New Delhi, located in the north-central part of the country to the west of the Yamuna River.\\n\\nCalcutta (now Kolkata, the capital of West Bengal) was the country’s capital until 1911 when King George V declared Delhi the new capital and construction of New Delhi began. [...] When the national government achieved independence in 1947, New Delhi became the capital.\\n\\nMumbai, the state capital of Maharashtra, is often considered the financial capital of India because of its role in the national and international economy.\\n\\n## How many states are in India?\\n\\nIndia is home to 28 states, each with its own capital and run by a Governor who represents the President:\\n\\nIndia also has eight union territories, governed by an Administrator appointed by the President: [...] # What is the capital of India? How the territory came to be, plus the country's 28 states.\\n\\nPortrait of Clare Mulroy\\n\\nAbout 1.4 billion people live in India, and the country is predicted to top China as the world’s most populous country by mid-2023, the United Nations reports. The report estimates that India will have 2.9 million more people than China by mid-year.\\n\\nThe U.S. is third in line for the largest population by country but it's way behind China and India at about 335 million people.\", 'score': 0.7915799, 'raw_content': None}, {'url': 'https://en.wikipedia.org/wiki/New_Delhi', 'title': 'New Delhi - Wikipedia', 'content': 'New Delhi is the capital of India and a part of the National Capital Territory of Delhi (NCT). New Delhi is the seat of all three branches of the Government', 'score': 0.71137124, 'raw_content': None}, {'url': 'https://www.countryreports.org/country/India/capital-city.htm', 'title': 'Capital City of India', 'content': '|  |  |\\n| --- | --- |\\n| Capital City | New Delhi |\\n| Capital location | 28 36 N, 77 12 E | [...] of the latter designated as New Delhi; the new capital was not formally inaugurated until 1931. | [...] | Capital - history | the city\\'s name is associated with various myths and legends; the original name for the city may have been Dhilli or Dhillika; alternatively, the name could be a corruption of the Hindustani words \"dehleez\" or \"dehali\" - both terms meaning \"threshold\" or \"gateway\" - and indicative of the city as a gateway to the Gangetic Plain; after the British decided to move the capital of their Indian Empire from Calcutta to Delhi in 1911, they created a new governmental district south', 'score': 0.6917478, 'raw_content': None}, {'url': 'https://en.wikipedia.org/wiki/List_of_state_and_union_territory_capitals_in_India', 'title': 'List of state and union territory capitals in India - Wikipedia', 'content': '| State | Administrative/ Executive capital | Legislative capital | Judicial capital | Year of establishment | Former capital |\\n| --- | --- | --- | --- | --- | --- |\\n| Andhra Pradesh | Amaravati | | | 1956 | Hyderabad (1956–2014) |\\n| Arunachal Pradesh | Itanagar | | Guwahati | 1987 | — |\\n| Assam | Dispur | | 1972 | Shillong (1950–1972) |\\n| Bihar | Patna | | | 1950 | — |\\n| Chhattisgarh | Raipur | | Bilaspur | 2000 |\\n| Goa | Panaji | Porvorim | Mumbai | 1987 | [...] | Union Territory | Administrative/ Executive capital | Legislative capital | Judicial capital | Year of establishment |\\n| --- | --- | --- | --- | --- |\\n| Andaman and Nicobar Islands | Sri Vijay Puram (also known as Port Blair) | – | Kolkata | 1956 |\\n| Chandigarh | Chandigarh | Chandigarh | 1966 |\\n| Dadra and Nagar Haveli and Daman and Diu | Daman | Mumbai | 2020 |\\n| Jammu and Kashmir \"Jammu and Kashmir (union territory)\") | Srinagar (summer) Jammu (winter) | | | 2019 | [...] |  v  t  e  State and Union Territory capitals of India | |\\n| --- | --- |\\n| Administrative |  Agartala  Aizawl  Amaravati  Bengaluru  Bhopal  Bhubaneswar  Chandigarh  Chennai  Daman  Dehradun  Dispur  Gandhinagar  Gangtok  Hyderabad  Imphal  Itanagar  Jaipur  Jammu (winter)  Kargil (winter)  Kavaratti  Kohima  Kolkata  Leh (summer)  Lucknow  Mumbai  New Delhi  Panaji  Patna  Port Blair  Puducherry \"Puducherry (city)\")  Ranchi  Raipur  Shillong  Shimla  Srinagar (summer)  Thiruvananthapuram |', 'score': 0.6506676, 'raw_content': None}, {'url': 'https://www.britannica.com/place/New-Delhi', 'title': 'New Delhi | History, Population, Map, & Facts - Britannica', 'content': 'New Delhi, national capital of India. It is situated in the north-central part of the country on the west bank of the Yamuna River, adjacent to and just south of Delhi city (Old Delhi) and within the Delhi national capital territory. [...] In December 1911 King George V of Britain decreed that the capital of British India would be moved from Calcutta (now Kolkata) to Delhi. Construction began in 1912 at a site about 3 miles (5 km) south of the Delhi city centre, and the new capital was formally dedicated in 1931. The straight and diagonal pattern of the broad tree-lined avenues in New Delhi, with extensive green spaces and wide vistas, contrasts sharply with the crowded, narrow, and winding streets characteristic of Old Delhi. [...] # New Delhi\\n\\nOur editors will review what you’ve submitted and determine whether to revise the article.\\n\\nNew Delhi: All India War Memorial arch\\n\\n### What is New Delhi?\\n\\nNew Delhi is the national capital of India.\\n\\n### Where is New Delhi?\\n\\nNew Delhi is situated in the north-central part of India on the west bank of the Yamuna River, adjacent to and just south of Old Delhi, the historic centre of Delhi, and within the Delhi national capital territory.\\n\\n### When was New Delhi founded?', 'score': 0.6493346, 'raw_content': None}], 'response_time': 3.4}), AIMessage(content='New Delhi is the capital of India.', additional_kwargs={}, response_metadata={'prompt_feedback': {'block_reason': 0, 'safety_ratings': []}, 'finish_reason': 'STOP', 'model_name': 'gemini-1.5-pro-002', 'safety_ratings': []}, id='run--795ac09a-c37a-44e0-8806-5ef2b1d1f4ff-0', usage_metadata={'input_tokens': 1554, 'output_tokens': 9, 'total_tokens': 1563, 'input_token_details': {'cache_read': 0}}), HumanMessage(content='what is a weather there?', additional_kwargs={}, response_metadata={}, id='5c6a8831-2dac-4fac-8593-d49497266eb2'), AIMessage(content='', additional_kwargs={'function_call': {'name': 'tavily_search_results_json', 'arguments': '{\"query\": \"weather in New Delhi\"}'}}, response_metadata={'prompt_feedback': {'block_reason': 0, 'safety_ratings': []}, 'finish_reason': 'STOP', 'model_name': 'gemini-1.5-pro-002', 'safety_ratings': []}, id='run--b514f664-c2f5-4728-a24a-cfc5aff8c157-0', tool_calls=[{'name': 'tavily_search_results_json', 'args': {'query': 'weather in New Delhi'}, 'id': '5354be30-4a96-4e54-8a82-d0b21bf128c2', 'type': 'tool_call'}], usage_metadata={'input_tokens': 1568, 'output_tokens': 13, 'total_tokens': 1581, 'input_token_details': {'cache_read': 0}}), ToolMessage(content='[{\"title\": \"India rains LIVE: IMD issues red alert to several places in ...\", \"url\": \"https://www.thehindu.com/news/national/india-rains-telangana-delhi-kerala-uttarakhand-weather-live-updates-august-13-2025/article69927053.ece\", \"content\": \"Telangana faces heavy rainfall, IMD issues alerts, health minister directs hospitals to prepare for emergencies.    \\\\n     \\\\n   August 13, 2025 10:19  Delhi records minimum temperature of 26.8 degrees Celsius Delhi on Wednesday (August 13, 2025) recorded a minimum temperature of 26.8 degrees Celsius, with the weather office forecasting a generally cloudy sky with one or two spells of rain or thundershowers.\\\\n\\\\nThe maximum temperature is expected to settle at 33 degrees Celsius, the weather said. [...] Water logging during heavy spell of monsoon rain at GTK road in New Delhi on August 12, 2025. | Photo Credit: Sushil Kumar Verma\\\\n\\\\nThe India Meteorological Department (IMD) has forecasted that Telangana will receive heavy to very heavy rains in the next 72 hours across the state from Wednesday (August 13, 2025). [...] Rain lashes several parts of Delhi overnight; monsoon continues to lash Himachal Pradesh\\\\n----------------------------------------------------------------------------------------\\\\n\\\\nUpdated  - August 13, 2025 11:55 am IST\\\\n\\\\nThe Hindu Bureau\\\\n\\\\n    Copy link \\\\n   Email\\\\n    Facebook \\\\n    Twitter \\\\n    Telegram \\\\n    LinkedIn \\\\n    WhatsApp \\\\n    Reddit \\\\n\\\\n0 / 0 New\\\\n\\\\nREAD LATER\\\\n\\\\n Remove SEE ALL\\\\n\\\\nPRINT\\\\n\\\\nImage 10: Water logging during heavy spell of monsoon rain at GTK road in New Delhi on August 12, 2025.\", \"score\": 0.93497354}, {\"title\": \"Weather New Delhi in August 2025 - Climate-Data.org\", \"url\": \"https://en.climate-data.org/asia/india/delhi/new-delhi-30/t/august-8/\", \"content\": \"| Max. Temperature °C (°F) | 20 °C (68) °F | 23.5 °C (74.4) °F | 29.8 °C (85.7) °F | 36.7 °C (98.1) °F | 39.6 °C (103.3) °F | 38.2 °C (100.8) °F | 33.7 °C (92.6) °F | 32.3 °C (90.1) °F | 32.2 °C (90) °F | 31.8 °C (89.3) °F | 27.4 °C (81.3) °F | 22.2 °C (72) °F |\\\\n| Precipitation / Rainfall mm (in) | 23 (0) | 33 (1) | 20 (0) | 14 (0) | 20 (0) | 74 (2) | 208 (8) | 183 (7) | 99 (3) | 13 (0) | 5 (0) | 8 (0) |\\\\n| Humidity(%) | 67% | 60% | 47% | 29% | 32% | 46% | 71% | 77% | 71% | 55% | 54% | 61% | [...] | Min. Temperature °C (°F) | 7.7 °C (45.8) °F | 10.6 °C (51) °F | 15.2 °C (59.4) °F | 21 °C (69.8) °F | 25.3 °C (77.6) °F | 27.6 °C (81.6) °F | 26.6 °C (79.9) °F | 25.8 °C (78.5) °F | 23.9 °C (75.1) °F | 19.2 °C (66.5) °F | 14.2 °C (57.5) °F | 9.3 °C (48.7) °F | [...] | Humidity |\\\\n| --- | --- | --- | --- | --- | --- | --- | --- |\\\\n| 11. August | Thunderstorm with rain | 34 °C 93.2 °F | 27 °C 80.6 °F | 75 % | 6 km/h 4 mph | 9mm 0.35 in | 78% |\\\\n| 12. August | Overcast clouds | 33 °C 91.4 °F | 29 °C 84.2 °F | 10 % | 6 km/h 4 mph | 0mm 0 in | 77% |\\\\n| 13. August | Overcast clouds | 34 °C 93.2 °F | 29 °C 84.2 °F | 0 % | 6 km/h 4 mph | 0mm 0 in | 75% |\", \"score\": 0.9174287}, {\"title\": \"Delhi weather in August 2025 | Delhi 14 day weather - Weather25.com\", \"url\": \"https://www.weather25.com/asia/india/delhi?page=month&month=August\", \"content\": \"| 10 Image 23: Cloudy 96°/84° | 11 Image 24: Partly cloudy 93°/84° | 12 Image 25: Partly cloudy 98°/84° | 13 Image 26: Patchy rain possible 98°/84° | 14 Image 27: Patchy rain possible 98°/86° | 15 Image 28: Patchy rain possible 95°/84° | 16 Image 29: Partly cloudy 98°/84° | [...] | Sun | Mon | Tue | Wed | Thu | Fri | Sat |\\\\n| --- | --- | --- | --- | --- | --- | --- |\\\\n|  |  |  |  |  | 1 Image 14: Moderate or heavy rain shower 96°/84° | 2 Image 15: Light rain shower 98°/86° |\\\\n| 3 Image 16: Light rain shower 93°/82° | 4 Image 17: Light rain shower 96°/86° | 5 Image 18: Light rain shower 93°/84° | 6 Image 19: Patchy rain possible 98°/84° | 7 Image 20: Moderate or heavy rain shower 95°/84° | 8 Image 21: Light rain shower 96°/82° | 9 Image 22: Cloudy 98°/84° | [...] | 17 Image 30: Cloudy 98°/84° | 18 Image 31: Partly cloudy 100°/87° | 19 Image 32: Patchy rain possible 96°/87° | 20 Image 33: Patchy rain possible 95°/84° | 21 Image 34: Light rain shower 93°/78° | 22 Image 35: Patchy rain possible 95°/82° | 23 Image 36: Patchy rain possible 95°/84° |\", \"score\": 0.8458536}, {\"title\": \"Weather in Delhi in August 2025 - Detailed Forecast\", \"url\": \"https://www.easeweather.com/asia/india/delhi/august\", \"content\": \"| 11 Image 20: Overcast 32° | 12 Image 21: Overcast 35° | 13 Image 22: Patchy rain possible 35° | 14 Image 23: Patchy rain possible 34° | 15 Image 24: Moderate or heavy rain shower 34° | 16 Image 25: Heavy rain at times 36° | 17 Image 26: Patchy rain possible 36° | [...] | 10 Aug. | Image 50: Moderate or heavy rain shower Moderate or heavy rain shower | 31°/27° | 6.7 mm | 7 |  |\\\\n| 11 Aug. | Image 51: Overcast Overcast | 32°/27° | 9.9 mm | 7 |  |\\\\n| 12 Aug. | Image 52: Overcast Overcast | 35°/27° | 8 mm | 8 |  |\\\\n| 13 Aug. | Image 53: Patchy rain possible Patchy rain possible | 35°/27° | 3.7 mm | 8 |  |\\\\n| 14 Aug. | Image 54: Patchy rain possible Patchy rain possible | 34°/28° | 0.7 mm | 8 |  | [...] | Mon. | Tue. | Wed. | Thu. | Fri. | Sat. | Sun. |\\\\n| --- | --- | --- | --- | --- | --- | --- |\\\\n|  |  |  |  | 1 Image 10: Patchy rain possible 35° | 2 Image 11: Moderate or heavy rain shower 36° | 3 Image 12: Patchy rain possible 34° |\", \"score\": 0.82288796}, {\"title\": \"Delhi, Delhi, India Monthly Weather\", \"url\": \"https://www.accuweather.com/en/in/delhi/202396/august-weather/202396\", \"content\": \"© 2025 AccuWeather, Inc. \\\\\"AccuWeather\\\\\" and sun design are registered trademarks of AccuWeather, Inc. All Rights Reserved. \\\\n\\\\nTerms of Use | Privacy Policy | Cookie Policy|About Your Privacy Do Not Sell or Share My Personal Information\\\\n\\\\nGet AccuWeather alerts as they happen with our browser notifications.\\\\n\\\\nEnable Notifications\\\\n\\\\nNo, Thanks\\\\n\\\\nNotifications Enabled\\\\n\\\\nThanks! We\\'ll keep you informed.\\\\n\\\\nImage 16Image 17Image 18 [...] August\\\\n------\\\\n\\\\nJanuaryFebruaryMarchAprilMayJuneJulyAugustSeptemberOctoberNovemberDecember\\\\n\\\\n2025\\\\n----\\\\n\\\\n202420252026\\\\n\\\\nDaily -----\\\\n\\\\n S \\\\n\\\\n M \\\\n\\\\n T \\\\n\\\\n W \\\\n\\\\n T \\\\n\\\\n F \\\\n\\\\n S [...] 27 91° 81°28 95° 81°29 95° 80°30 94° 82°31 95° 81°1 93° 83°2 96° 82°3 93° 81°4 94° 82°5 95° 83°6 94° 82°7 95° 82°8 96° 81°9 96° 80°10 95° 78°11 96° 78°12 91° 79°13 92° 81°14 94° 80°15 95° 81°16 94° 80°17 94° 83°18 95° 82°19 95° 81°20 94° 81°21 96° 82°22 96° 81°23 94° 82°24 95° 81°25 96° 80°26 95° 78°27 95° 78°28 94° 79°29 95° 77°30 94° 78°31 95° 77°1 96° 76°2 95° 77°3 96° 77°4 97° 78°5 95° 78°6 96° 76°\\\\n\\\\nTemperature Graph\\\\n-----------------\\\\n\\\\n°F\\\\n\\\\nAvg. Hi\\\\n\\\\nAvg. Lo\\\\n\\\\nActual Hi\\\\n\\\\nActual Lo\", \"score\": 0.32872388}]', name='tavily_search_results_json', id='9b7425a4-db00-496e-8344-316787d1c3f9', tool_call_id='5354be30-4a96-4e54-8a82-d0b21bf128c2', artifact={'query': 'weather in New Delhi', 'follow_up_questions': None, 'answer': None, 'images': [], 'results': [{'url': 'https://www.thehindu.com/news/national/india-rains-telangana-delhi-kerala-uttarakhand-weather-live-updates-august-13-2025/article69927053.ece', 'title': 'India rains LIVE: IMD issues red alert to several places in ...', 'content': 'Telangana faces heavy rainfall, IMD issues alerts, health minister directs hospitals to prepare for emergencies.    \\n     \\n   August 13, 2025 10:19  Delhi records minimum temperature of 26.8 degrees Celsius Delhi on Wednesday (August 13, 2025) recorded a minimum temperature of 26.8 degrees Celsius, with the weather office forecasting a generally cloudy sky with one or two spells of rain or thundershowers.\\n\\nThe maximum temperature is expected to settle at 33 degrees Celsius, the weather said. [...] Water logging during heavy spell of monsoon rain at GTK road in New Delhi on August 12, 2025. | Photo Credit: Sushil Kumar Verma\\n\\nThe India Meteorological Department (IMD) has forecasted that Telangana will receive heavy to very heavy rains in the next 72 hours across the state from Wednesday (August 13, 2025). [...] Rain lashes several parts of Delhi overnight; monsoon continues to lash Himachal Pradesh\\n----------------------------------------------------------------------------------------\\n\\nUpdated  - August 13, 2025 11:55 am IST\\n\\nThe Hindu Bureau\\n\\n    Copy link \\n   Email\\n    Facebook \\n    Twitter \\n    Telegram \\n    LinkedIn \\n    WhatsApp \\n    Reddit \\n\\n0 / 0 New\\n\\nREAD LATER\\n\\n Remove SEE ALL\\n\\nPRINT\\n\\nImage 10: Water logging during heavy spell of monsoon rain at GTK road in New Delhi on August 12, 2025.', 'score': 0.93497354, 'raw_content': None}, {'url': 'https://en.climate-data.org/asia/india/delhi/new-delhi-30/t/august-8/', 'title': 'Weather New Delhi in August 2025 - Climate-Data.org', 'content': '| Max. Temperature °C (°F) | 20 °C (68) °F | 23.5 °C (74.4) °F | 29.8 °C (85.7) °F | 36.7 °C (98.1) °F | 39.6 °C (103.3) °F | 38.2 °C (100.8) °F | 33.7 °C (92.6) °F | 32.3 °C (90.1) °F | 32.2 °C (90) °F | 31.8 °C (89.3) °F | 27.4 °C (81.3) °F | 22.2 °C (72) °F |\\n| Precipitation / Rainfall mm (in) | 23 (0) | 33 (1) | 20 (0) | 14 (0) | 20 (0) | 74 (2) | 208 (8) | 183 (7) | 99 (3) | 13 (0) | 5 (0) | 8 (0) |\\n| Humidity(%) | 67% | 60% | 47% | 29% | 32% | 46% | 71% | 77% | 71% | 55% | 54% | 61% | [...] | Min. Temperature °C (°F) | 7.7 °C (45.8) °F | 10.6 °C (51) °F | 15.2 °C (59.4) °F | 21 °C (69.8) °F | 25.3 °C (77.6) °F | 27.6 °C (81.6) °F | 26.6 °C (79.9) °F | 25.8 °C (78.5) °F | 23.9 °C (75.1) °F | 19.2 °C (66.5) °F | 14.2 °C (57.5) °F | 9.3 °C (48.7) °F | [...] | Humidity |\\n| --- | --- | --- | --- | --- | --- | --- | --- |\\n| 11. August | Thunderstorm with rain | 34 °C 93.2 °F | 27 °C 80.6 °F | 75 % | 6 km/h 4 mph | 9mm 0.35 in | 78% |\\n| 12. August | Overcast clouds | 33 °C 91.4 °F | 29 °C 84.2 °F | 10 % | 6 km/h 4 mph | 0mm 0 in | 77% |\\n| 13. August | Overcast clouds | 34 °C 93.2 °F | 29 °C 84.2 °F | 0 % | 6 km/h 4 mph | 0mm 0 in | 75% |', 'score': 0.9174287, 'raw_content': None}, {'url': 'https://www.weather25.com/asia/india/delhi?page=month&month=August', 'title': 'Delhi weather in August 2025 | Delhi 14 day weather - Weather25.com', 'content': '| 10 Image 23: Cloudy 96°/84° | 11 Image 24: Partly cloudy 93°/84° | 12 Image 25: Partly cloudy 98°/84° | 13 Image 26: Patchy rain possible 98°/84° | 14 Image 27: Patchy rain possible 98°/86° | 15 Image 28: Patchy rain possible 95°/84° | 16 Image 29: Partly cloudy 98°/84° | [...] | Sun | Mon | Tue | Wed | Thu | Fri | Sat |\\n| --- | --- | --- | --- | --- | --- | --- |\\n|  |  |  |  |  | 1 Image 14: Moderate or heavy rain shower 96°/84° | 2 Image 15: Light rain shower 98°/86° |\\n| 3 Image 16: Light rain shower 93°/82° | 4 Image 17: Light rain shower 96°/86° | 5 Image 18: Light rain shower 93°/84° | 6 Image 19: Patchy rain possible 98°/84° | 7 Image 20: Moderate or heavy rain shower 95°/84° | 8 Image 21: Light rain shower 96°/82° | 9 Image 22: Cloudy 98°/84° | [...] | 17 Image 30: Cloudy 98°/84° | 18 Image 31: Partly cloudy 100°/87° | 19 Image 32: Patchy rain possible 96°/87° | 20 Image 33: Patchy rain possible 95°/84° | 21 Image 34: Light rain shower 93°/78° | 22 Image 35: Patchy rain possible 95°/82° | 23 Image 36: Patchy rain possible 95°/84° |', 'score': 0.8458536, 'raw_content': None}, {'url': 'https://www.easeweather.com/asia/india/delhi/august', 'title': 'Weather in Delhi in August 2025 - Detailed Forecast', 'content': '| 11 Image 20: Overcast 32° | 12 Image 21: Overcast 35° | 13 Image 22: Patchy rain possible 35° | 14 Image 23: Patchy rain possible 34° | 15 Image 24: Moderate or heavy rain shower 34° | 16 Image 25: Heavy rain at times 36° | 17 Image 26: Patchy rain possible 36° | [...] | 10 Aug. | Image 50: Moderate or heavy rain shower Moderate or heavy rain shower | 31°/27° | 6.7 mm | 7 |  |\\n| 11 Aug. | Image 51: Overcast Overcast | 32°/27° | 9.9 mm | 7 |  |\\n| 12 Aug. | Image 52: Overcast Overcast | 35°/27° | 8 mm | 8 |  |\\n| 13 Aug. | Image 53: Patchy rain possible Patchy rain possible | 35°/27° | 3.7 mm | 8 |  |\\n| 14 Aug. | Image 54: Patchy rain possible Patchy rain possible | 34°/28° | 0.7 mm | 8 |  | [...] | Mon. | Tue. | Wed. | Thu. | Fri. | Sat. | Sun. |\\n| --- | --- | --- | --- | --- | --- | --- |\\n|  |  |  |  | 1 Image 10: Patchy rain possible 35° | 2 Image 11: Moderate or heavy rain shower 36° | 3 Image 12: Patchy rain possible 34° |', 'score': 0.82288796, 'raw_content': None}, {'url': 'https://www.accuweather.com/en/in/delhi/202396/august-weather/202396', 'title': 'Delhi, Delhi, India Monthly Weather', 'content': '© 2025 AccuWeather, Inc. \"AccuWeather\" and sun design are registered trademarks of AccuWeather, Inc. All Rights Reserved. \\n\\nTerms of Use | Privacy Policy | Cookie Policy|About Your Privacy Do Not Sell or Share My Personal Information\\n\\nGet AccuWeather alerts as they happen with our browser notifications.\\n\\nEnable Notifications\\n\\nNo, Thanks\\n\\nNotifications Enabled\\n\\nThanks! We\\'ll keep you informed.\\n\\nImage 16Image 17Image 18 [...] August\\n------\\n\\nJanuaryFebruaryMarchAprilMayJuneJulyAugustSeptemberOctoberNovemberDecember\\n\\n2025\\n----\\n\\n202420252026\\n\\nDaily -----\\n\\n S \\n\\n M \\n\\n T \\n\\n W \\n\\n T \\n\\n F \\n\\n S [...] 27 91° 81°28 95° 81°29 95° 80°30 94° 82°31 95° 81°1 93° 83°2 96° 82°3 93° 81°4 94° 82°5 95° 83°6 94° 82°7 95° 82°8 96° 81°9 96° 80°10 95° 78°11 96° 78°12 91° 79°13 92° 81°14 94° 80°15 95° 81°16 94° 80°17 94° 83°18 95° 82°19 95° 81°20 94° 81°21 96° 82°22 96° 81°23 94° 82°24 95° 81°25 96° 80°26 95° 78°27 95° 78°28 94° 79°29 95° 77°30 94° 78°31 95° 77°1 96° 76°2 95° 77°3 96° 77°4 97° 78°5 95° 78°6 96° 76°\\n\\nTemperature Graph\\n-----------------\\n\\n°F\\n\\nAvg. Hi\\n\\nAvg. Lo\\n\\nActual Hi\\n\\nActual Lo', 'score': 0.32872388, 'raw_content': None}], 'response_time': 2.84}), AIMessage(content='The weather in New Delhi is expected to be generally cloudy with one or two spells of rain or thundershowers. The minimum temperature is 26.8 degrees Celsius, and the maximum temperature is expected to settle at 33 degrees Celsius.  Heavy to very heavy rains are forecasted for the next 72 hours in Telangana.', additional_kwargs={}, response_metadata={'prompt_feedback': {'block_reason': 0, 'safety_ratings': []}, 'finish_reason': 'STOP', 'model_name': 'gemini-1.5-pro-002', 'safety_ratings': []}, id='run--edba151d-8851-46ce-9edb-5e05fb73ca40-0', usage_metadata={'input_tokens': 4432, 'output_tokens': 71, 'total_tokens': 4503, 'input_token_details': {'cache_read': 0}})]}, next=(), config={'configurable': {'thread_id': '1', 'checkpoint_ns': '', 'checkpoint_id': '1f0784f5-fcc9-6afb-8008-eebee737bb6a'}}, metadata={'source': 'loop', 'step': 8, 'parents': {}}, created_at='2025-08-13T14:11:15.347941+00:00', parent_config={'configurable': {'thread_id': '1', 'checkpoint_ns': '', 'checkpoint_id': '1f0784f5-e43f-6051-8007-efb06fcf9b8d'}}, tasks=(), interrupts=())"
      ]
     },
     "execution_count": 222,
     "metadata": {},
     "output_type": "execute_result"
    }
   ],
   "source": [
    "app2.get_state(config)"
   ]
  },
  {
   "cell_type": "code",
   "execution_count": 223,
   "id": "acdecf07",
   "metadata": {},
   "outputs": [],
   "source": [
    "snapshot=app2.get_state(config)"
   ]
  },
  {
   "cell_type": "code",
   "execution_count": 224,
   "id": "3bdaeb96",
   "metadata": {},
   "outputs": [
    {
     "data": {
      "text/plain": [
       "()"
      ]
     },
     "execution_count": 224,
     "metadata": {},
     "output_type": "execute_result"
    }
   ],
   "source": [
    "snapshot.next"
   ]
  },
  {
   "cell_type": "code",
   "execution_count": 225,
   "id": "ceb83af5",
   "metadata": {},
   "outputs": [],
   "source": [
    "\n",
    "\n",
    "user_input = \"give me the recent news of it?\""
   ]
  },
  {
   "cell_type": "code",
   "execution_count": 226,
   "id": "5017bb05",
   "metadata": {},
   "outputs": [],
   "source": [
    "\n",
    "\n",
    "# The config is the **second positional argument** to stream() or invoke()!\n",
    "events = app2.stream(\n",
    "    {\"messages\": [(\"user\", user_input)]}, config, stream_mode=\"values\"\n",
    ")"
   ]
  },
  {
   "cell_type": "code",
   "execution_count": 227,
   "id": "2b2c3c08",
   "metadata": {},
   "outputs": [
    {
     "name": "stdout",
     "output_type": "stream",
     "text": [
      "================================\u001b[1m Human Message \u001b[0m=================================\n",
      "\n",
      "give me the recent news of it?\n",
      "==================================\u001b[1m Ai Message \u001b[0m==================================\n",
      "Tool Calls:\n",
      "  tavily_search_results_json (fc8f41e6-dcf9-4997-9039-ef8531a867ae)\n",
      " Call ID: fc8f41e6-dcf9-4997-9039-ef8531a867ae\n",
      "  Args:\n",
      "    query: recent news New Delhi\n"
     ]
    }
   ],
   "source": [
    "for event in events:\n",
    "    if \"messages\" in event:\n",
    "        event[\"messages\"][-1].pretty_print()"
   ]
  },
  {
   "cell_type": "code",
   "execution_count": 228,
   "id": "c3f0bcfb",
   "metadata": {},
   "outputs": [],
   "source": [
    "snapshot=app2.get_state(config)"
   ]
  },
  {
   "cell_type": "code",
   "execution_count": 229,
   "id": "f35053f3",
   "metadata": {},
   "outputs": [],
   "source": [
    "current_message = snapshot.values[\"messages\"][-1]"
   ]
  },
  {
   "cell_type": "code",
   "execution_count": 230,
   "id": "2652dd77",
   "metadata": {},
   "outputs": [
    {
     "name": "stdout",
     "output_type": "stream",
     "text": [
      "==================================\u001b[1m Ai Message \u001b[0m==================================\n",
      "Tool Calls:\n",
      "  tavily_search_results_json (fc8f41e6-dcf9-4997-9039-ef8531a867ae)\n",
      " Call ID: fc8f41e6-dcf9-4997-9039-ef8531a867ae\n",
      "  Args:\n",
      "    query: recent news New Delhi\n"
     ]
    }
   ],
   "source": [
    "current_message.pretty_print()"
   ]
  },
  {
   "cell_type": "code",
   "execution_count": 231,
   "id": "b2f1ae1f",
   "metadata": {},
   "outputs": [],
   "source": [
    "tool_call_id = current_message.tool_calls[0][\"id\"] "
   ]
  },
  {
   "cell_type": "code",
   "execution_count": 232,
   "id": "e8a1751b",
   "metadata": {},
   "outputs": [],
   "source": [
    "from langchain_core.messages import AIMessage, ToolMessage"
   ]
  },
  {
   "cell_type": "code",
   "execution_count": 233,
   "id": "8e155b05",
   "metadata": {},
   "outputs": [],
   "source": [
    "answer = \"it is just related to raining which is happing on daily basis\""
   ]
  },
  {
   "cell_type": "code",
   "execution_count": 234,
   "id": "fe133052",
   "metadata": {},
   "outputs": [],
   "source": [
    "\n",
    "\n",
    "new_messages = [\n",
    "    ToolMessage(content=answer, tool_call_id=tool_call_id),\n",
    "    AIMessage(content=answer),\n",
    "]"
   ]
  },
  {
   "cell_type": "code",
   "execution_count": 235,
   "id": "cc147f87",
   "metadata": {},
   "outputs": [
    {
     "data": {
      "text/plain": [
       "{'configurable': {'thread_id': '1',\n",
       "  'checkpoint_ns': '',\n",
       "  'checkpoint_id': '1f078508-f706-6dcf-800c-f28533be44c2'}}"
      ]
     },
     "execution_count": 235,
     "metadata": {},
     "output_type": "execute_result"
    }
   ],
   "source": [
    "\n",
    "app2.update_state(\n",
    "    config,\n",
    "    {\"messages\": new_messages},\n",
    ")"
   ]
  },
  {
   "cell_type": "code",
   "execution_count": 236,
   "id": "40f6ab2e",
   "metadata": {},
   "outputs": [
    {
     "name": "stdout",
     "output_type": "stream",
     "text": [
      "[AIMessage(content='it is just related to raining which is happing on daily basis', additional_kwargs={}, response_metadata={}, id='7efcf160-abb7-41db-871f-4ce2883561f2')]\n"
     ]
    }
   ],
   "source": [
    "\n",
    "\n",
    "print(app2.get_state(config).values[\"messages\"][-1:])"
   ]
  },
  {
   "cell_type": "code",
   "execution_count": null,
   "id": "414bcb48",
   "metadata": {},
   "outputs": [],
   "source": []
  }
 ],
 "metadata": {
  "kernelspec": {
   "display_name": "chain",
   "language": "python",
   "name": "python3"
  },
  "language_info": {
   "codemirror_mode": {
    "name": "ipython",
    "version": 3
   },
   "file_extension": ".py",
   "mimetype": "text/x-python",
   "name": "python",
   "nbconvert_exporter": "python",
   "pygments_lexer": "ipython3",
   "version": "3.10.18"
  }
 },
 "nbformat": 4,
 "nbformat_minor": 5
}
