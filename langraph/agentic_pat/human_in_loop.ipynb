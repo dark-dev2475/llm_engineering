{
 "cells": [
  {
   "cell_type": "code",
   "execution_count": 75,
   "id": "3881973b",
   "metadata": {},
   "outputs": [
    {
     "data": {
      "text/plain": [
       "True"
      ]
     },
     "execution_count": 75,
     "metadata": {},
     "output_type": "execute_result"
    }
   ],
   "source": [
    "import os\n",
    "from dotenv import load_dotenv\n",
    "load_dotenv()"
   ]
  },
  {
   "cell_type": "code",
   "execution_count": 76,
   "id": "874a8765",
   "metadata": {},
   "outputs": [],
   "source": [
    "LANGSMITH_TRACING = os.getenv(\"LANGSMITH_TRACING\")\n",
    "LANGSMITH_ENDPOINT = os.getenv(\"LANGSMITH_ENDPOINT\")\n",
    "LANGSMITH_API_KEY = os.getenv(\"LANGSMITH_API_KEY\")\n",
    "LANGSMITH_PROJECT = os.getenv(\"LANGSMITH_PROJECT\")\n",
    "TAVILY_API_KEY = os.getenv(\"TAVILY_API_KEY\")\n",
    "# TRAVILY_PROJECT = os.getenv(\"TRAVILY_PROJECT\")\n",
    "SERPER_API_KEY = os.getenv(\"SERPER_API_KEY\")\n",
    "GOOGLE_API_KEY = os.getenv(\"GOOGLE_API_KEY\")\n",
    "os.environ[\"GOOGLE_API_KEY\"] = GOOGLE_API_KEY\n",
    "os.environ[\"LANGSMITH_API_KEY\"] = os.getenv(\"LANGSMITH_API_KEY\")\n",
    "os.environ[\"LANGSMITH_TRACING\"] = os.getenv(\"LANGSMITH_TRACING\")\n",
    "os.environ[\"LANGSMITH_ENDPOINT\"] = os.getenv(\"LANGSMITH_ENDPOINT\")\n",
    "os.environ[\"LANGSMITH_PROJECT\"] = os.getenv(\"LANGSMITH_PROJECT\")\n",
    "\n",
    "os.environ[\"TAVILY_API_KEY\"] = os.getenv(\"TAVILY_API_KEY\")\n",
    "os.environ[\"SERPER_API_KEY\"] = os.getenv(\"SERPER_API_KEY\")\n",
    "\n"
   ]
  },
  {
   "cell_type": "code",
   "execution_count": 77,
   "id": "3753a4cf",
   "metadata": {},
   "outputs": [],
   "source": [
    "from typing import Annotated\n",
    "import operator,json\n",
    "from typing import TypedDict, Annotated, Sequence\n",
    "from typing_extensions import TypedDict\n",
    "from langchain_core.messages import BaseMessage\n",
    "from langgraph.checkpoint.memory import MemorySaver\n",
    "from langgraph.graph import StateGraph,END,START\n",
    "from langgraph.graph.message import add_messages\n",
    "from langgraph.prebuilt import ToolNode, tools_condition\n",
    "from langchain_core.tools import tool\n",
    "from langchain_community.tools.tavily_search import TavilySearchResults"
   ]
  },
  {
   "cell_type": "code",
   "execution_count": 78,
   "id": "4156cb35",
   "metadata": {},
   "outputs": [],
   "source": [
    "from langchain_google_genai import GoogleGenerativeAIEmbeddings\n",
    "embeddings = GoogleGenerativeAIEmbeddings(model=\"models/embedding-001\")\n",
    "from langchain_google_genai import ChatGoogleGenerativeAI\n",
    "llm = ChatGoogleGenerativeAI(model=\"gemini-1.5-pro-latest\")"
   ]
  },
  {
   "cell_type": "code",
   "execution_count": 79,
   "id": "17cb2a02",
   "metadata": {},
   "outputs": [
    {
     "data": {
      "text/plain": [
       "AIMessage(content='Hi there! How can I help you today?', additional_kwargs={}, response_metadata={'prompt_feedback': {'block_reason': 0, 'safety_ratings': []}, 'finish_reason': 'STOP', 'model_name': 'gemini-1.5-pro-002', 'safety_ratings': []}, id='run--a76562ff-9f4e-4723-97f2-d3c255980d7c-0', usage_metadata={'input_tokens': 1, 'output_tokens': 11, 'total_tokens': 12, 'input_token_details': {'cache_read': 0}})"
      ]
     },
     "execution_count": 79,
     "metadata": {},
     "output_type": "execute_result"
    }
   ],
   "source": [
    "llm.invoke(\"hi\")"
   ]
  },
  {
   "cell_type": "code",
   "execution_count": 80,
   "id": "2bf17c34",
   "metadata": {},
   "outputs": [],
   "source": [
    "\n",
    "@tool\n",
    "def multiply(first_number:int, second_number:int)->int:\n",
    "    \"\"\"multiply two integer number\"\"\"\n",
    "    return first_number * second_number"
   ]
  },
  {
   "cell_type": "code",
   "execution_count": 81,
   "id": "90ddaa77",
   "metadata": {},
   "outputs": [],
   "source": [
    "@tool\n",
    "def search(query:str):\n",
    "    \"\"\"perform the web search on the user query\"\"\"\n",
    "    tavily=TavilySearchResults()\n",
    "    result=tavily.invoke(query)\n",
    "    return result"
   ]
  },
  {
   "cell_type": "code",
   "execution_count": 82,
   "id": "52009adb",
   "metadata": {},
   "outputs": [],
   "source": [
    "tools=[search,multiply]"
   ]
  },
  {
   "cell_type": "code",
   "execution_count": 83,
   "id": "8abdc98c",
   "metadata": {},
   "outputs": [],
   "source": [
    "model_with_tools=llm.bind_tools(tools)"
   ]
  },
  {
   "cell_type": "code",
   "execution_count": 84,
   "id": "4b14d210",
   "metadata": {},
   "outputs": [],
   "source": [
    "\n",
    "tool_mapping={tool.name: tool for tool in tools}"
   ]
  },
  {
   "cell_type": "code",
   "execution_count": 85,
   "id": "e666bb9b",
   "metadata": {},
   "outputs": [
    {
     "data": {
      "text/plain": [
       "{'search': StructuredTool(name='search', description='perform the web search on the user query', args_schema=<class 'langchain_core.utils.pydantic.search'>, func=<function search at 0x000001E93B6F2D40>),\n",
       " 'multiply': StructuredTool(name='multiply', description='multiply two integer number', args_schema=<class 'langchain_core.utils.pydantic.multiply'>, func=<function multiply at 0x000001E959C4CAF0>)}"
      ]
     },
     "execution_count": 85,
     "metadata": {},
     "output_type": "execute_result"
    }
   ],
   "source": [
    "\n",
    "tool_mapping\n",
    "     "
   ]
  },
  {
   "cell_type": "code",
   "execution_count": null,
   "id": "190c8f89",
   "metadata": {},
   "outputs": [],
   "source": []
  },
  {
   "cell_type": "code",
   "execution_count": 86,
   "id": "0847668b",
   "metadata": {},
   "outputs": [],
   "source": [
    "response = model_with_tools.invoke(\"who is a current president of USA?\")"
   ]
  },
  {
   "cell_type": "code",
   "execution_count": 87,
   "id": "e922e338",
   "metadata": {},
   "outputs": [
    {
     "data": {
      "text/plain": [
       "AIMessage(content='', additional_kwargs={'function_call': {'name': 'search', 'arguments': '{\"query\": \"current president of USA\"}'}}, response_metadata={'prompt_feedback': {'block_reason': 0, 'safety_ratings': []}, 'finish_reason': 'STOP', 'model_name': 'gemini-1.5-pro-002', 'safety_ratings': []}, id='run--85291c47-b2ed-42d8-a24a-b4364bb61b4e-0', tool_calls=[{'name': 'search', 'args': {'query': 'current president of USA'}, 'id': '32badad3-1514-4817-85c1-328d6dfb58da', 'type': 'tool_call'}], usage_metadata={'input_tokens': 41, 'output_tokens': 6, 'total_tokens': 47, 'input_token_details': {'cache_read': 0}})"
      ]
     },
     "execution_count": 87,
     "metadata": {},
     "output_type": "execute_result"
    }
   ],
   "source": [
    "response"
   ]
  },
  {
   "cell_type": "code",
   "execution_count": 88,
   "id": "1caa8620",
   "metadata": {},
   "outputs": [],
   "source": [
    "\n",
    "\n",
    "tool_details=response.additional_kwargs.get(\"function_call\")\n",
    "     "
   ]
  },
  {
   "cell_type": "code",
   "execution_count": 89,
   "id": "60ba84bd",
   "metadata": {},
   "outputs": [
    {
     "data": {
      "text/plain": [
       "{'name': 'search', 'arguments': '{\"query\": \"current president of USA\"}'}"
      ]
     },
     "execution_count": 89,
     "metadata": {},
     "output_type": "execute_result"
    }
   ],
   "source": [
    "tool_details"
   ]
  },
  {
   "cell_type": "code",
   "execution_count": 90,
   "id": "81a1991a",
   "metadata": {},
   "outputs": [
    {
     "data": {
      "text/plain": [
       "'search'"
      ]
     },
     "execution_count": 90,
     "metadata": {},
     "output_type": "execute_result"
    }
   ],
   "source": [
    "\n",
    "tool_details[\"name\"]\n",
    "     "
   ]
  },
  {
   "cell_type": "code",
   "execution_count": 91,
   "id": "30c32cf9",
   "metadata": {},
   "outputs": [
    {
     "data": {
      "text/plain": [
       "'{\"query\": \"current president of USA\"}'"
      ]
     },
     "execution_count": 91,
     "metadata": {},
     "output_type": "execute_result"
    }
   ],
   "source": [
    "tool_details[\"arguments\"]"
   ]
  },
  {
   "cell_type": "code",
   "execution_count": 92,
   "id": "52ea17da",
   "metadata": {},
   "outputs": [
    {
     "data": {
      "text/plain": [
       "{'query': 'current president of USA'}"
      ]
     },
     "execution_count": 92,
     "metadata": {},
     "output_type": "execute_result"
    }
   ],
   "source": [
    "json.loads(tool_details[\"arguments\"])"
   ]
  },
  {
   "cell_type": "code",
   "execution_count": 93,
   "id": "7d74ec66",
   "metadata": {},
   "outputs": [
    {
     "data": {
      "text/plain": [
       "[{'title': 'Presidents, vice presidents, and first ladies | USAGov',\n",
       "  'url': 'https://www.usa.gov/presidents',\n",
       "  'content': 'Learn about the duties of president, vice president, and first lady of the United States. Find out how to contact and learn more about current and past leaders.\\n\\n## President of the United States\\n\\nThe president of the United States is the:\\n\\n### Current president\\n\\nThe 47th and current president of the United States is Donald John Trump. He was sworn into office on January 20, 2025.\\n\\n### Former U.S. presidents [...] The vice president of the United States presides over the U.S. Senate and takes over the role of president of the United States if the president is unable to perform their duties. If the vice president is not able to fulfill the duties of president, the role is passed to another leader in the order of presidential succession.\\n\\n### Current vice president\\n\\nThe 50th and current vice president of the United States is James David (JD) Vance. He was sworn in on January 20, 2025 [...] ### Former vice presidents\\n\\nRead about past presidents and vice presidents.\\n\\n## First lady\\n\\nThe First lady of the United States has traditionally been the wife or other close female relative of the president of the United States. First ladies:\\n\\n### Current first lady\\n\\nThe current first lady of the United States is Melania Trump.\\n\\n### Former first ladies\\n\\nFind a list of former first ladies and their presidential spouses.',\n",
       "  'score': 0.854509},\n",
       " {'title': 'President of the United States',\n",
       "  'url': 'https://en.wikipedia.org/wiki/President_of_the_United_States',\n",
       "  'content': 'In all, 45 individuals have served 47 presidencies spanning 60 four-year terms. Donald Trump is the 47th and current president since January 20, 2025.',\n",
       "  'score': 0.78631157},\n",
       " {'title': 'The White House',\n",
       "  'url': 'https://www.whitehouse.gov/',\n",
       "  'content': 'Donald J. Trump. President of the United States · JD Vance. VICE PRESIDENT OF THE UNITED STATES · Melania Trump. First Lady OF THE UNITED STATES · The Cabinet. Of',\n",
       "  'score': 0.6466616},\n",
       " {'title': 'President Donald J. Trump - The White House',\n",
       "  'url': 'https://www.whitehouse.gov/administration/donald-j-trump/',\n",
       "  'content': 'After a landslide election victory in 2024, President Donald J. Trump is returning to the White House to build upon his previous successes and use his',\n",
       "  'score': 0.54985875},\n",
       " {'title': 'Donald Trump presidential administration, 2025 - Ballotpedia',\n",
       "  'url': 'https://ballotpedia.org/Donald_Trump_presidential_administration,_2025',\n",
       "  'content': \"President Donald Trump (R) was inaugurated for his second term as the 47th president of the United States on January 20, 2025. He serves with Vice President J.D. Vance (R), a former senator from Ohio.\\n\\nThis page provides an overview of Trump's second presidential administration, including top officials and personnel and key executive and legislative actions.\\n\\nIt features the following sections:\\n\\n## Contents\\n\\n## Donald Trump's Cabinet [...] John Adams cast the first tie-breaking vote on July 18, 1789. As of July 15, 2025, there were 308 tie-breaking votes from 38 vice presidents. Kamala Harris (D) (2021-2025) cast the most tie-breaking votes (33) during her tenure as vice president, John C. Calhoun (1825 - 1832) cast the second most (31), and Adams (1789 - 1797) cast the third most (29).\\n\\nTwelve vice presidents, including Joe Biden and Dan Quayle, never cast a tie-breaking vote during their time in office. [...] The One Big Beautiful Bill Act was a federal budget reconciliation bill signed into law by President Donald Trump on July 4, 2025, addressing tax policy, border security and immigration, defense, energy production, the debt limit, and adjustments to SNAP and Medicaid. The Senate passed the bill in a 51-50 vote on July 1, with Vice President J.D. Vance (R) casting the tie-breaking vote in favor of the bill. It cleared the United States House of Representatives on July 3, 2025, in a 218-214 vote.\",\n",
       "  'score': 0.49831602}]"
      ]
     },
     "execution_count": 93,
     "metadata": {},
     "output_type": "execute_result"
    }
   ],
   "source": [
    "\n",
    "tool_mapping[tool_details[\"name\"]].invoke(json.loads(tool_details[\"arguments\"]))"
   ]
  },
  {
   "cell_type": "code",
   "execution_count": 104,
   "id": "90c762d3",
   "metadata": {},
   "outputs": [],
   "source": [
    "class AgentState(TypedDict):\n",
    "    messages: Annotated[Sequence[BaseMessage], operator.add]"
   ]
  },
  {
   "cell_type": "code",
   "execution_count": 105,
   "id": "7b2cb0a8",
   "metadata": {},
   "outputs": [],
   "source": [
    "def invoke_model(state:AgentState):\n",
    "    messages = state['messages']\n",
    "    question = messages[-1]   ## Fetching the user question\n",
    "    return {\"messages\":[model_with_tools.invoke(question)]}\n",
    "     "
   ]
  },
  {
   "cell_type": "code",
   "execution_count": 113,
   "id": "f8efa712",
   "metadata": {},
   "outputs": [],
   "source": [
    "def invoke_tool(state:AgentState):\n",
    "    tool_details= state['messages'][-1].additional_kwargs.get(\"function_call\", [])\n",
    "    \n",
    "    if tool_details is None:\n",
    "        raise Exception(\"no tool call found\")\n",
    "    \n",
    "    print(f'Selected tool: {tool_details.get(\"name\")}')\n",
    "    \n",
    "    if tool_details.get(\"name\")==\"search\":\n",
    "        response = input(prompt=f\"[y/n] continue with expensive web search?\")\n",
    "        if response == \"n\":\n",
    "            raise Exception(\"web search discard\")\n",
    "        \n",
    "    response = tool_mapping[tool_details['name']].invoke(json.loads(tool_details.get(\"arguments\")))\n",
    "    return {\"messages\" : [response]}\n",
    "     "
   ]
  },
  {
   "cell_type": "code",
   "execution_count": 114,
   "id": "70624eef",
   "metadata": {},
   "outputs": [],
   "source": [
    "def router(state):\n",
    "    tool_calls = state['messages'][-1].additional_kwargs.get(\"function_call\", [])\n",
    "    if len(tool_calls):\n",
    "        return \"tool\"\n",
    "    else:\n",
    "        return \"end\""
   ]
  },
  {
   "cell_type": "code",
   "execution_count": 115,
   "id": "204b349b",
   "metadata": {},
   "outputs": [
    {
     "data": {
      "text/plain": [
       "<langgraph.graph.state.StateGraph at 0x1e938a51b40>"
      ]
     },
     "execution_count": 115,
     "metadata": {},
     "output_type": "execute_result"
    }
   ],
   "source": [
    "graph = StateGraph(AgentState) ### StateGraph with AgentState\n",
    "\n",
    "graph.add_node(\"ai_assistant\", invoke_model)\n",
    "\n",
    "graph.add_node(\"tool\", invoke_tool)"
   ]
  },
  {
   "cell_type": "code",
   "execution_count": 116,
   "id": "2961f420",
   "metadata": {},
   "outputs": [
    {
     "data": {
      "text/plain": [
       "<langgraph.graph.state.StateGraph at 0x1e938a51b40>"
      ]
     },
     "execution_count": 116,
     "metadata": {},
     "output_type": "execute_result"
    }
   ],
   "source": [
    "graph.add_conditional_edges(\"ai_assistant\", router, {\"tool\": \"tool\",\"end\": END,})\n",
    "\n",
    "graph.add_edge(\"tool\", END)\n",
    "\n",
    "#graph.add_edge(\"tool\", \"ai_assistant\")\n",
    "\n",
    "graph.set_entry_point(\"ai_assistant\")"
   ]
  },
  {
   "cell_type": "code",
   "execution_count": 117,
   "id": "66cb9957",
   "metadata": {},
   "outputs": [],
   "source": [
    "app = graph.compile()"
   ]
  },
  {
   "cell_type": "code",
   "execution_count": 118,
   "id": "0a8b6d0e",
   "metadata": {},
   "outputs": [
    {
     "data": {
      "image/png": "[encoded data removed]",
      "text/plain": [
       "<IPython.core.display.Image object>"
      ]
     },
     "metadata": {},
     "output_type": "display_data"
    }
   ],
   "source": [
    "\n",
    "\n",
    "from IPython.display import Image, display\n",
    "display(Image(app.get_graph().draw_mermaid_png()))"
   ]
  },
  {
   "cell_type": "code",
   "execution_count": 119,
   "id": "967a7b90",
   "metadata": {},
   "outputs": [
    {
     "name": "stdout",
     "output_type": "stream",
     "text": [
      "{'messages': [AIMessage(content='', additional_kwargs={'function_call': {'name': 'search', 'arguments': '{\"query\": \"who is upcoming president of USA?\"}'}}, response_metadata={'prompt_feedback': {'block_reason': 0, 'safety_ratings': []}, 'finish_reason': 'STOP', 'model_name': 'gemini-1.5-pro-002', 'safety_ratings': []}, id='run--c728e982-38b3-4848-bd62-3cab639b79bf-0', tool_calls=[{'name': 'search', 'args': {'query': 'who is upcoming president of USA?'}, 'id': '9f9709ab-cce9-4f4e-ab6f-32084480be70', 'type': 'tool_call'}], usage_metadata={'input_tokens': 40, 'output_tokens': 9, 'total_tokens': 49, 'input_token_details': {'cache_read': 0}})]}\n",
      "----\n",
      "Selected tool: search\n",
      "{'messages': [[{'title': 'United States presidential line of succession', 'url': 'https://en.wikipedia.org/wiki/United_States_presidential_line_of_succession', 'content': 'Current order of succession ; 1, Vice President · JD Vance ; 2, Speaker of the House of Representatives · Mike Johnson ; 3, President pro tempore of the Senate', 'score': 0.98522}, {'title': 'Order of presidential succession', 'url': 'https://www.usa.gov/presidential-succession', 'content': 'The president of the United States may be replaced if he or she: Becomes incapacitated; Dies; Resigns; Is unable to hold office', 'score': 0.984}, {'title': 'Presidential candidates, 2028', 'url': 'https://ballotpedia.org/Presidential_candidates,_2028', 'content': 'As of July 2025, Ballotpedia had not identified any noteworthy presidential campaign announcements for the 2028 presidential election. At this point leading up', 'score': 0.98034}, {'title': 'Presidential Line of Succession — U.S. Order ...', 'url': 'https://www.townandcountrymag.com/society/politics/a39674210/presidential-line-of-succession/', 'content': \"As of January 2025, here is the current U.S. presidential line of succession. Trump's Cabinet has yet to be confirmed by the Senate, so\", 'score': 0.97841}, {'title': 'Who Are the 2024 Presidential Election Candidates?', 'url': 'https://www.nytimes.com/interactive/2023/us/politics/presidential-candidates-2024.html', 'content': 'Running: Democrat Kamala Harris, Republican Donald J. Trump, Independent and third-party Cornel West, Jill Stein, Chase Oliver.', 'score': 0.97464}]]}\n",
      "----\n"
     ]
    }
   ],
   "source": [
    "\n",
    "for s in app.stream({\"messages\": [\"who is upcoming president of USA?\"]}):\n",
    "    print(list(s.values())[0])\n",
    "    print(\"----\")"
   ]
  },
  {
   "cell_type": "code",
   "execution_count": 120,
   "id": "ed6c43cb",
   "metadata": {},
   "outputs": [
    {
     "name": "stdout",
     "output_type": "stream",
     "text": [
      "{'messages': [AIMessage(content='', additional_kwargs={'function_call': {'name': 'multiply', 'arguments': '{\"second_number\": 4.0, \"first_number\": 3.0}'}}, response_metadata={'prompt_feedback': {'block_reason': 0, 'safety_ratings': []}, 'finish_reason': 'STOP', 'model_name': 'gemini-1.5-pro-002', 'safety_ratings': []}, id='run--2d8baf1a-6db0-4ea1-8d4b-c9414dc8f98a-0', tool_calls=[{'name': 'multiply', 'args': {'second_number': 4.0, 'first_number': 3.0}, 'id': 'ce74ebaf-2258-42ae-bdea-da40015932ca', 'type': 'tool_call'}], usage_metadata={'input_tokens': 39, 'output_tokens': 9, 'total_tokens': 48, 'input_token_details': {'cache_read': 0}})]}\n",
      "----\n",
      "Selected tool: multiply\n",
      "{'messages': [12]}\n",
      "----\n"
     ]
    }
   ],
   "source": [
    "\n",
    "for s in app.stream({\"messages\": [\"multiply 3 and 4\"]}):\n",
    "    print(list(s.values())[0])\n",
    "    print(\"----\")"
   ]
  },
  {
   "cell_type": "code",
   "execution_count": 122,
   "id": "3b63c88b",
   "metadata": {},
   "outputs": [
    {
     "name": "stdout",
     "output_type": "stream",
     "text": [
      "{'messages': [AIMessage(content='I cannot calculate the total amount of money in the world.  There is no single, universally agreed-upon definition of \"money,\" and even if there were, measuring it would be incredibly complex and constantly changing.  Different forms of money exist (physical cash, bank deposits, investments, etc.), and tracking their movement and value in real-time across the globe is practically impossible.', additional_kwargs={}, response_metadata={'prompt_feedback': {'block_reason': 0, 'safety_ratings': []}, 'finish_reason': 'STOP', 'model_name': 'gemini-1.5-pro-002', 'safety_ratings': []}, id='run--7a656dda-fee7-4e35-831c-6fca71027cff-0', usage_metadata={'input_tokens': 46, 'output_tokens': 78, 'total_tokens': 124, 'input_token_details': {'cache_read': 0}})]}\n",
      "----\n"
     ]
    }
   ],
   "source": [
    "\n",
    "for s in app.stream({\"messages\": [\"can you tell me th etotal money that exist in the world\"]}):\n",
    "    print(list(s.values())[0])\n",
    "    print(\"----\")"
   ]
  },
  {
   "cell_type": "code",
   "execution_count": null,
   "id": "f553ee21",
   "metadata": {},
   "outputs": [],
   "source": []
  }
 ],
 "metadata": {
  "kernelspec": {
   "display_name": "chain",
   "language": "python",
   "name": "python3"
  },
  "language_info": {
   "codemirror_mode": {
    "name": "ipython",
    "version": 3
   },
   "file_extension": ".py",
   "mimetype": "text/x-python",
   "name": "python",
   "nbconvert_exporter": "python",
   "pygments_lexer": "ipython3",
   "version": "3.10.18"
  }
 },
 "nbformat": 4,
 "nbformat_minor": 5
}
