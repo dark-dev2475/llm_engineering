{
 "cells": [
  {
   "cell_type": "code",
   "execution_count": 5,
   "id": "65764fa6",
   "metadata": {},
   "outputs": [
    {
     "data": {
      "text/plain": [
       "True"
      ]
     },
     "execution_count": 5,
     "metadata": {},
     "output_type": "execute_result"
    }
   ],
   "source": [
    "import os\n",
    "from dotenv import load_dotenv\n",
    "load_dotenv()"
   ]
  },
  {
   "cell_type": "code",
   "execution_count": 6,
   "id": "affe552f",
   "metadata": {},
   "outputs": [],
   "source": [
    "LANGSMITH_TRACING = os.getenv(\"LANGSMITH_TRACING\")\n",
    "LANGSMITH_ENDPOINT = os.getenv(\"LANGSMITH_ENDPOINT\")\n",
    "LANGSMITH_API_KEY = os.getenv(\"LANGSMITH_API_KEY\")\n",
    "LANGSMITH_PROJECT = os.getenv(\"LANGSMITH_PROJECT\")\n",
    "TAVILY_API_KEY = os.getenv(\"TAVILY_API_KEY\")\n",
    "# TRAVILY_PROJECT = os.getenv(\"TRAVILY_PROJECT\")\n",
    "SERPER_API_KEY = os.getenv(\"SERPER_API_KEY\")\n"
   ]
  },
  {
   "cell_type": "code",
   "execution_count": 7,
   "id": "5877cc97",
   "metadata": {},
   "outputs": [],
   "source": [
    "GOOGLE_API_KEY = os.getenv(\"GOOGLE_API_KEY\")\n",
    "os.environ[\"GOOGLE_API_KEY\"] = GOOGLE_API_KEY\n",
    "os.environ[\"LANGSMITH_API_KEY\"] = os.getenv(\"LANGSMITH_API_KEY\")\n",
    "os.environ[\"LANGSMITH_TRACING\"] = os.getenv(\"LANGSMITH_TRACING\")\n",
    "os.environ[\"LANGSMITH_ENDPOINT\"] = os.getenv(\"LANGSMITH_ENDPOINT\")\n",
    "os.environ[\"LANGSMITH_PROJECT\"] = os.getenv(\"LANGSMITH_PROJECT\")\n",
    "\n",
    "os.environ[\"TAVILY_API_KEY\"] = os.getenv(\"TAVILY_API_KEY\")\n",
    "os.environ[\"SERPER_API_KEY\"] = os.getenv(\"SERPER_API_KEY\")\n",
    "\n"
   ]
  },
  {
   "cell_type": "code",
   "execution_count": 10,
   "id": "86de7d06",
   "metadata": {},
   "outputs": [],
   "source": [
    "from langchain_google_genai import GoogleGenerativeAIEmbeddings\n",
    "from langchain.text_splitter import RecursiveCharacterTextSplitter\n",
    "from langchain_community.document_loaders import WebBaseLoader\n",
    "from langchain_community.vectorstores import Chroma"
   ]
  },
  {
   "cell_type": "code",
   "execution_count": 11,
   "id": "028abac1",
   "metadata": {},
   "outputs": [],
   "source": [
    "from langchain_google_genai import GoogleGenerativeAIEmbeddings\n",
    "embeddings = GoogleGenerativeAIEmbeddings(model=\"models/embedding-001\")\n",
    "from langchain_google_genai import ChatGoogleGenerativeAI\n",
    "llm = ChatGoogleGenerativeAI(model=\"gemini-1.5-pro-latest\")"
   ]
  },
  {
   "cell_type": "code",
   "execution_count": 12,
   "id": "13d49b83",
   "metadata": {},
   "outputs": [
    {
     "data": {
      "text/plain": [
       "AIMessage(content=\"I have no idea who you are. I'm a large language model, and I don't have access to any information about you unless you tell me.  I can't track you, and I don't store personal information about users.  \\n\\nIf you'd like to tell me about yourself, I'm happy to listen!\", additional_kwargs={}, response_metadata={'prompt_feedback': {'block_reason': 0, 'safety_ratings': []}, 'finish_reason': 'STOP', 'model_name': 'gemini-1.5-pro-002', 'safety_ratings': []}, id='run--ba2aa603-1d95-4717-b307-b028914655ac-0', usage_metadata={'input_tokens': 4, 'output_tokens': 73, 'total_tokens': 77, 'input_token_details': {'cache_read': 0}})"
      ]
     },
     "execution_count": 12,
     "metadata": {},
     "output_type": "execute_result"
    }
   ],
   "source": [
    "llm.invoke(\"who am i>\")"
   ]
  },
  {
   "cell_type": "code",
   "execution_count": 22,
   "id": "e32aad98",
   "metadata": {},
   "outputs": [],
   "source": [
    "from langchain_community.document_loaders import TextLoader, DirectoryLoader\n",
    "from langchain.text_splitter import RecursiveCharacterTextSplitter\n",
    "from langchain_community.vectorstores import Chroma\n",
    "\n",
    "### Reading the txt files from source directory\n",
    "\n",
    "loader = DirectoryLoader('./data', glob=\"./*.txt\", loader_cls=TextLoader)\n",
    "docs = loader.load()\n",
    "\n",
    "### Creating Chunks using RecursiveCharacterTextSplitter\n",
    "\n",
    "text_splitter = RecursiveCharacterTextSplitter(\n",
    "    chunk_size=100,\n",
    "    chunk_overlap=10,\n",
    "    length_function=len\n",
    ")\n",
    "new_docs = text_splitter.split_documents(documents=docs)\n",
    "doc_strings = [doc.page_content for doc in new_docs]"
   ]
  },
  {
   "cell_type": "code",
   "execution_count": 23,
   "id": "184673aa",
   "metadata": {},
   "outputs": [],
   "source": [
    "db = Chroma.from_documents(new_docs, embeddings)\n",
    "retriever = db.as_retriever(search_kwargs={\"k\": 4})"
   ]
  },
  {
   "cell_type": "code",
   "execution_count": 24,
   "id": "e6826a57",
   "metadata": {},
   "outputs": [
    {
     "data": {
      "text/plain": [
       "[Document(metadata={'source': 'data\\\\tect.txt'}, page_content=\"my name is ggagn kumar he is the  best boy in the rold he can so an'ything no  matterr what he is\"),\n",
       " Document(metadata={'source': 'data\\\\tect.txt'}, page_content=\"my name is ggagn kumar he is the  best boy in the rold he can so an'ything no  matterr what he is\"),\n",
       " Document(metadata={'source': 'data\\\\tect.txt'}, page_content='he is the iron man of his stroy he can comebackfrom anything.'),\n",
       " Document(metadata={'source': 'data\\\\tect.txt'}, page_content='he is the iron man of his stroy he can comebackfrom anything.')]"
      ]
     },
     "execution_count": 24,
     "metadata": {},
     "output_type": "execute_result"
    }
   ],
   "source": [
    "query=\"who is gagan?\"\n",
    "retriever.invoke(query)"
   ]
  },
  {
   "cell_type": "code",
   "execution_count": 25,
   "id": "3a77e0b6",
   "metadata": {},
   "outputs": [],
   "source": [
    "\n",
    "from langchain_core.output_parsers import StrOutputParser\n",
    "from langchain_core.prompts import ChatPromptTemplate\n",
    "from langchain_core.runnables import RunnablePassthrough\n",
    "from langchain.chains import RetrievalQA"
   ]
  },
  {
   "cell_type": "code",
   "execution_count": 26,
   "id": "2d36d782",
   "metadata": {},
   "outputs": [],
   "source": [
    "# assign AgentState as an empty dict\n",
    "AgentState = {}\n",
    "\n",
    "# messages key will be assigned as an empty array. We will append new messages as we pass along nodes. \n",
    "AgentState[\"messages\"] = []"
   ]
  },
  {
   "cell_type": "code",
   "execution_count": 46,
   "id": "503e5da7",
   "metadata": {},
   "outputs": [],
   "source": [
    "def function_1(AgentState):\n",
    "    messages = AgentState['messages']\n",
    "    question = messages[-1]\n",
    "\n",
    "    complete_query = (\n",
    "        \"You are an intelligent assistant. \"\n",
    "        \"If you can answer the question from your own knowledge, answer directly. \"\n",
    "        \"If you cannot, respond only with the exact phrase: USE_RAG. \"\n",
    "        f\"Question: {question}\"\n",
    "    )\n",
    "\n",
    "    response = llm.invoke(complete_query).content\n",
    "    AgentState['messages'].append(response)\n",
    "    AgentState['decision'] = \"USE_RAG\" if response.strip() == \"USE_RAG\" else \"ANSWER\"\n",
    "    return AgentState\n",
    "\n",
    "\n",
    "def function_2(AgentState):\n",
    "    question = AgentState['messages'][0]  # original question\n",
    "\n",
    "    template = \"\"\"Answer the question based only on the following context:\n",
    "    {context}\n",
    "\n",
    "    Question: {question}\n",
    "    \"\"\"\n",
    "    prompt = ChatPromptTemplate.from_template(template)\n",
    "\n",
    "    retrieval_chain = (\n",
    "        {\"context\": retriever, \"question\": RunnablePassthrough()}\n",
    "        | prompt\n",
    "        | llm\n",
    "        | StrOutputParser()\n",
    "    )\n",
    "    result = retrieval_chain.invoke(question)\n",
    "\n",
    "    AgentState['messages'].append(result)\n",
    "    return AgentState\n"
   ]
  },
  {
   "cell_type": "code",
   "execution_count": 47,
   "id": "f573806e",
   "metadata": {},
   "outputs": [],
   "source": [
    "from langgraph.graph import StateGraph"
   ]
  },
  {
   "cell_type": "code",
   "execution_count": 49,
   "id": "2f6b5167",
   "metadata": {},
   "outputs": [
    {
     "data": {
      "text/plain": [
       "<langgraph.graph.state.StateGraph at 0x1abe988baf0>"
      ]
     },
     "execution_count": 49,
     "metadata": {},
     "output_type": "execute_result"
    }
   ],
   "source": [
    "\n",
    "# Define a Langchain graph\n",
    "workflow = StateGraph(list)\n",
    "\n",
    "workflow.add_node(\"Agent\", function_1)\n",
    "workflow.add_node(\"Tool\", function_2)\n",
    "\n",
    "# Conditional branching\n",
    "def decide_next_node(state):\n",
    "    return \"Tool\" if state['decision'] == \"USE_RAG\" else \"__end__\"\n",
    "\n",
    "workflow.add_conditional_edges(\"Agent\", decide_next_node, {\"Tool\": \"Tool\", \"__end__\": \"__end__\"})\n",
    "\n",
    "workflow.set_entry_point(\"Agent\")"
   ]
  },
  {
   "cell_type": "code",
   "execution_count": 63,
   "id": "b328bb53",
   "metadata": {},
   "outputs": [
    {
     "data": {
      "text/plain": [
       "'llama 3 is one of the best llm in the world it can do anything'"
      ]
     },
     "execution_count": 63,
     "metadata": {},
     "output_type": "execute_result"
    }
   ],
   "source": [
    "inputs = {\"messages\": [\"llama3 ?\"]}\n",
    "app.invoke(inputs)"
   ]
  },
  {
   "cell_type": "code",
   "execution_count": 55,
   "id": "1c9e0b94",
   "metadata": {},
   "outputs": [
    {
     "data": {
      "image/png": "[encoded data removed]",
      "text/plain": [
       "<IPython.core.display.Image object>"
      ]
     },
     "metadata": {},
     "output_type": "display_data"
    }
   ],
   "source": [
    "from IPython.display import Image,display\n",
    "\n",
    "try:\n",
    "    display(Image(app.get_graph().draw_mermaid_png()))\n",
    "except Exception as e:\n",
    "    print(\"Error displaying graph:\", e)"
   ]
  },
  {
   "cell_type": "code",
   "execution_count": 64,
   "id": "0047052f",
   "metadata": {},
   "outputs": [
    {
     "name": "stdout",
     "output_type": "stream",
     "text": [
      "Output from node 'Agent':\n",
      "---\n",
      "{'messages': ['llama3 ?', '\"Llama 3\" refers to a hypothetical or rumored next iteration in Meta\\'s series of large language models (LLMs).  As of October 26, 2023, Meta has not officially announced or released Llama 3.  Anything you hear about its capabilities or release date is speculation or rumor unless it comes directly from an official Meta source.\\n\\nKeep an eye on Meta\\'s official AI blog and news releases for the most accurate and up-to-date information.', 'Understood.  I will remember that any information regarding Llama 3 outside of official Meta channels should be considered speculative until confirmed by Meta.  I will consult their official resources for verifiable information.']}\n",
      "\n",
      "---\n",
      "\n",
      "Output from node 'tool':\n",
      "---\n",
      "llama 3 is one of the best llm in the world it can do anything.\n",
      "\n",
      "---\n",
      "\n"
     ]
    }
   ],
   "source": [
    "for output in app.stream(inputs):\n",
    "    # stream() yields dictionaries with output keyed by node name\n",
    "    for key, value in output.items():\n",
    "        print(f\"Output from node '{key}':\")\n",
    "        print(\"---\")\n",
    "        print(value)\n",
    "    print(\"\\n---\\n\")"
   ]
  },
  {
   "attachments": {
    "image.png": {
     "image/png": "[encoded data removed]"
    }
   },
   "cell_type": "markdown",
   "id": "9d609197",
   "metadata": {},
   "source": [
    "![image.png](attachment:image.png)"
   ]
  },
  {
   "cell_type": "markdown",
   "id": "88d4ad9c",
   "metadata": {},
   "source": [
    "now we will create this one ->haha loving this agentic ai stuffs??\n"
   ]
  },
  {
   "cell_type": "code",
   "execution_count": 44,
   "id": "bb5c7a2a",
   "metadata": {},
   "outputs": [],
   "source": [
    "from langchain_community.document_loaders import TextLoader, DirectoryLoader\n",
    "from langchain.text_splitter import RecursiveCharacterTextSplitter\n",
    "from langchain_community.vectorstores import Chroma\n",
    "\n",
    "### Reading the txt files from source directory\n",
    "\n",
    "loader = DirectoryLoader('./data', glob=\"./*.txt\", loader_cls=TextLoader)\n",
    "docs = loader.load()\n",
    "\n",
    "### Creating Chunks using RecursiveCharacterTextSplitter\n",
    "\n",
    "text_splitter = RecursiveCharacterTextSplitter(\n",
    "    chunk_size=100,\n",
    "    chunk_overlap=10,\n",
    "    length_function=len\n",
    ")\n",
    "new_docs = text_splitter.split_documents(documents=docs)\n",
    "doc_strings = [doc.page_content for doc in new_docs]"
   ]
  },
  {
   "cell_type": "code",
   "execution_count": 45,
   "id": "dc057409",
   "metadata": {},
   "outputs": [],
   "source": [
    "db = Chroma.from_documents(new_docs, embeddings)\n",
    "retriever = db.as_retriever(search_kwargs={\"k\": 4})"
   ]
  },
  {
   "cell_type": "code",
   "execution_count": 46,
   "id": "de84437a",
   "metadata": {},
   "outputs": [
    {
     "data": {
      "text/plain": [
       "[Document(metadata={'source': 'data\\\\tect.txt'}, page_content=\"my name is ggagn kumar he is the  best boy in the rold he can so an'ything no  matterr what he is\"),\n",
       " Document(metadata={'source': 'data\\\\tect.txt'}, page_content=\"my name is ggagn kumar he is the  best boy in the rold he can so an'ything no  matterr what he is\"),\n",
       " Document(metadata={'source': 'data\\\\tect.txt'}, page_content='he is the iron man of his stroy he can comebackfrom anything.'),\n",
       " Document(metadata={'source': 'data\\\\tect.txt'}, page_content='he is the iron man of his stroy he can comebackfrom anything.')]"
      ]
     },
     "execution_count": 46,
     "metadata": {},
     "output_type": "execute_result"
    }
   ],
   "source": [
    "query=\"who is gagan?\"\n",
    "retriever.invoke(query)"
   ]
  },
  {
   "cell_type": "code",
   "execution_count": 33,
   "id": "464755b6",
   "metadata": {},
   "outputs": [],
   "source": [
    "\n",
    "from langchain_core.output_parsers import StrOutputParser\n",
    "from langchain_core.prompts import ChatPromptTemplate\n",
    "from langchain_core.runnables import RunnablePassthrough\n",
    "from langchain.chains import RetrievalQA"
   ]
  },
  {
   "cell_type": "code",
   "execution_count": 34,
   "id": "47f49938",
   "metadata": {},
   "outputs": [],
   "source": [
    "\n",
    "from typing import TypedDict, Annotated, Sequence\n",
    "import operator\n",
    "from langchain_core.messages import BaseMessage"
   ]
  },
  {
   "cell_type": "code",
   "execution_count": 35,
   "id": "3ee6447a",
   "metadata": {},
   "outputs": [],
   "source": [
    "\n",
    "class AgentState(TypedDict):\n",
    "    messages: Annotated[Sequence[BaseMessage], operator.add]"
   ]
  },
  {
   "cell_type": "code",
   "execution_count": 56,
   "id": "1306ecc5",
   "metadata": {},
   "outputs": [],
   "source": [
    "\n",
    "from langchain.output_parsers import PydanticOutputParser\n",
    "from pydantic import BaseModel , Field\n",
    "from langchain.prompts import PromptTemplate\n",
    "\n",
    "\n",
    "class TopicSelectionParser(BaseModel):\n",
    "    Topic: str = Field(description='Selected Topic')\n",
    "    Reasoning: str = Field(description='Reasoning behind topic selection')\n",
    "\n",
    "parser = PydanticOutputParser(pydantic_object=TopicSelectionParser)"
   ]
  },
  {
   "cell_type": "code",
   "execution_count": 58,
   "id": "f0c97bb2",
   "metadata": {},
   "outputs": [],
   "source": [
    "state = {\n",
    "    \"messages\": [\"Tell me about tajmahal\"]\n",
    "}"
   ]
  },
  {
   "cell_type": "code",
   "execution_count": 59,
   "id": "71509816",
   "metadata": {},
   "outputs": [
    {
     "name": "stdout",
     "output_type": "stream",
     "text": [
      "-> Calling Agent ->\n",
      "Topic='India' Reasoning='Taj Mahal is located in India.'\n"
     ]
    },
    {
     "data": {
      "text/plain": [
       "{'messages': ['India']}"
      ]
     },
     "execution_count": 59,
     "metadata": {},
     "output_type": "execute_result"
    }
   ],
   "source": [
    "function_1(state)"
   ]
  },
  {
   "cell_type": "code",
   "execution_count": 37,
   "id": "d9cae127",
   "metadata": {},
   "outputs": [],
   "source": [
    "def function_1(state):\n",
    "    print('-> Calling Agent ->')\n",
    "    messages = state['messages']\n",
    "    question = messages[-1]   ## Fetching the user question\n",
    "    template = \"\"\" Your task is to provide only the topic based on the user query. \n",
    "        Only output the topic among: [India, Not Related]. Don't include reasoning. Following is the user query:  {question}\n",
    "        {format_instructions} \"\"\"\n",
    "    prompt = PromptTemplate(template=template,\n",
    "                                    input_variables=[question],\n",
    "                                    partial_variables={\n",
    "                                        \"format_instructions\" : parser.get_format_instructions()                                    }\n",
    "                                    )\n",
    "    chain = prompt | llm | parser\n",
    "\n",
    "    response = chain.invoke({\"question\":question,\"format_instructions\" : parser.get_format_instructions() })\n",
    "\n",
    "    print(response)\n",
    "    return {\"messages\": [response.Topic]}\n"
   ]
  },
  {
   "cell_type": "code",
   "execution_count": 38,
   "id": "89deae7c",
   "metadata": {},
   "outputs": [],
   "source": [
    "def router(state):\n",
    "    print('-> Router ->')\n",
    "    \n",
    "    messages = state[\"messages\"]\n",
    "    last_message = messages[-1]\n",
    "    print(last_message)\n",
    "    if 'India' in last_message or 'Economy' in last_message:\n",
    "        return 'RAG Call'\n",
    "    else:\n",
    "        return 'LLM Call'"
   ]
  },
  {
   "cell_type": "code",
   "execution_count": 39,
   "id": "8791fdd8",
   "metadata": {},
   "outputs": [],
   "source": [
    "def function_2(state):\n",
    "    print('-> Calling RAG ->')\n",
    "    messages = state['messages']\n",
    "    question = messages[0] ## Fetching the user question\n",
    "\n",
    "    template = \"\"\"Answer the question based only on the following context:\n",
    "    {context}\n",
    "\n",
    "    Question: {question}\n",
    "    \"\"\"\n",
    "    prompt = ChatPromptTemplate.from_template(template)\n",
    "\n",
    "    retrieval_chain = (\n",
    "        {\"context\": retriever, \"question\": RunnablePassthrough()}\n",
    "        | prompt\n",
    "        | llm\n",
    "        | StrOutputParser()\n",
    "        )\n",
    "    result = retrieval_chain.invoke(question)\n",
    "    return  {\"messages\": [result]}\n"
   ]
  },
  {
   "cell_type": "code",
   "execution_count": 40,
   "id": "7f338454",
   "metadata": {},
   "outputs": [],
   "source": [
    "def function_3(state):\n",
    "    print('-> Calling LLM ->')\n",
    "\n",
    "    messages = state['messages']\n",
    "    question = messages[0] ## Fetching the user question\n",
    "\n",
    "    # Normal LLM call\n",
    "    complete_query = \"Anwer the follow question with you knowledge of the real world. Following is the user question: \" + question\n",
    "    response = llm.invoke(complete_query)\n",
    "    return {\"messages\": [response.content]}\n"
   ]
  },
  {
   "cell_type": "code",
   "execution_count": 41,
   "id": "16bca662",
   "metadata": {},
   "outputs": [
    {
     "data": {
      "text/plain": [
       "<langgraph.graph.state.StateGraph at 0x1c927f0f7c0>"
      ]
     },
     "execution_count": 41,
     "metadata": {},
     "output_type": "execute_result"
    }
   ],
   "source": [
    "from langgraph.graph import StateGraph,END\n",
    "\n",
    "graph = StateGraph(AgentState) ### StateGraph with AgentState\n",
    "\n",
    "graph.add_node(\"agent\", function_1)\n",
    "graph.add_node(\"RAG\", function_2)\n",
    "graph.add_node(\"LLM\", function_3)\n",
    "\n",
    "graph.set_entry_point(\"agent\")"
   ]
  },
  {
   "cell_type": "code",
   "execution_count": 42,
   "id": "2203a14b",
   "metadata": {},
   "outputs": [
    {
     "data": {
      "text/plain": [
       "<langgraph.graph.state.StateGraph at 0x1c927f0f7c0>"
      ]
     },
     "execution_count": 42,
     "metadata": {},
     "output_type": "execute_result"
    }
   ],
   "source": [
    "# conditional edges are controlled by our router\n",
    "graph.add_conditional_edges(\n",
    "    \"agent\",  # where in graph to start\n",
    "    router,  # function to determine which node is called\n",
    "    {\n",
    "        'RAG Call': \"RAG\",\n",
    "        'LLM Call': \"LLM\",\n",
    "    }\n",
    ")"
   ]
  },
  {
   "cell_type": "code",
   "execution_count": 60,
   "id": "a3f89d0f",
   "metadata": {},
   "outputs": [
    {
     "name": "stderr",
     "output_type": "stream",
     "text": [
      "Adding an edge to a graph that has already been compiled. This will not be reflected in the compiled graph.\n",
      "Adding an edge to a graph that has already been compiled. This will not be reflected in the compiled graph.\n"
     ]
    }
   ],
   "source": [
    "graph.add_edge(\"RAG\", END)\n",
    "graph.add_edge(\"LLM\", END)\n",
    "\n",
    "app = graph.compile()\n"
   ]
  },
  {
   "cell_type": "code",
   "execution_count": 61,
   "id": "eb7dcc8d",
   "metadata": {},
   "outputs": [
    {
     "name": "stdout",
     "output_type": "stream",
     "text": [
      "-> Calling Agent ->\n",
      "Topic='India' Reasoning='Taj Mahal is located in India.'\n",
      "-> Router ->\n",
      "India\n",
      "-> Calling RAG ->\n",
      "This document does not contain any information about the Taj Mahal.\n"
     ]
    }
   ],
   "source": [
    "inputs = {\"messages\": [\"Tell me about tajmahal\"]}\n",
    "out = app.invoke(inputs)\n",
    "print(out['messages'][-1])"
   ]
  },
  {
   "cell_type": "code",
   "execution_count": null,
   "id": "9796c9bb",
   "metadata": {},
   "outputs": [],
   "source": []
  },
  {
   "cell_type": "code",
   "execution_count": null,
   "id": "21a17698",
   "metadata": {},
   "outputs": [],
   "source": []
  }
 ],
 "metadata": {
  "kernelspec": {
   "display_name": "chain",
   "language": "python",
   "name": "python3"
  },
  "language_info": {
   "codemirror_mode": {
    "name": "ipython",
    "version": 3
   },
   "file_extension": ".py",
   "mimetype": "text/x-python",
   "name": "python",
   "nbconvert_exporter": "python",
   "pygments_lexer": "ipython3",
   "version": "3.10.18"
  }
 },
 "nbformat": 4,
 "nbformat_minor": 5
}
