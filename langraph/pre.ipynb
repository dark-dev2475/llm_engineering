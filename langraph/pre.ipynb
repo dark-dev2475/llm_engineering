{
 "cells": [
  {
   "cell_type": "code",
   "execution_count": 1,
   "id": "e74325e2",
   "metadata": {},
   "outputs": [
    {
     "data": {
      "text/plain": [
       "True"
      ]
     },
     "execution_count": 1,
     "metadata": {},
     "output_type": "execute_result"
    }
   ],
   "source": [
    "import os\n",
    "from dotenv import load_dotenv\n",
    "load_dotenv()"
   ]
  },
  {
   "cell_type": "code",
   "execution_count": 72,
   "id": "d4511220",
   "metadata": {},
   "outputs": [],
   "source": [
    "LANGSMITH_TRACING = os.getenv(\"LANGSMITH_TRACING\")\n",
    "LANGSMITH_ENDPOINT = os.getenv(\"LANGSMITH_ENDPOINT\")\n",
    "LANGSMITH_API_KEY = os.getenv(\"LANGSMITH_API_KEY\")\n",
    "LANGSMITH_PROJECT = os.getenv(\"LANGSMITH_PROJECT\")\n",
    "TAVILY_API_KEY = os.getenv(\"TAVILY_API_KEY\")\n",
    "# TRAVILY_PROJECT = os.getenv(\"TRAVILY_PROJECT\")"
   ]
  },
  {
   "cell_type": "code",
   "execution_count": 73,
   "id": "1ff925f9",
   "metadata": {},
   "outputs": [],
   "source": [
    "GOOGLE_API_KEY = os.getenv(\"GOOGLE_API_KEY\")\n",
    "os.environ[\"GOOGLE_API_KEY\"] = GOOGLE_API_KEY\n",
    "os.environ[\"LANGSMITH_API_KEY\"] = os.getenv(\"LANGSMITH_API_KEY\")\n",
    "os.environ[\"LANGSMITH_TRACING\"] = os.getenv(\"LANGSMITH_TRACING\")\n",
    "os.environ[\"LANGSMITH_ENDPOINT\"] = os.getenv(\"LANGSMITH_ENDPOINT\")\n",
    "os.environ[\"LANGSMITH_PROJECT\"] = os.getenv(\"LANGSMITH_PROJECT\")\n",
    "\n",
    "os.environ[\"TAVILY_API_KEY\"] = os.getenv(\"TAVILY_API_KEY\")\n",
    "\n",
    "\n"
   ]
  },
  {
   "cell_type": "code",
   "execution_count": 18,
   "id": "cf4638dc",
   "metadata": {},
   "outputs": [],
   "source": [
    "from langchain_google_genai import GoogleGenerativeAIEmbeddings\n",
    "from langchain.text_splitter import RecursiveCharacterTextSplitter\n",
    "from langchain_community.document_loaders import WebBaseLoader\n",
    "from langchain_community.vectorstores import Chroma"
   ]
  },
  {
   "cell_type": "code",
   "execution_count": 19,
   "id": "afbdb8d6",
   "metadata": {},
   "outputs": [],
   "source": [
    "from langchain_google_genai import GoogleGenerativeAIEmbeddings\n",
    "embeddings = GoogleGenerativeAIEmbeddings(model=\"models/embedding-001\")\n",
    "from langchain_google_genai import ChatGoogleGenerativeAI\n",
    "llm = ChatGoogleGenerativeAI(model=\"gemini-1.5-pro-latest\")"
   ]
  },
  {
   "cell_type": "code",
   "execution_count": null,
   "id": "1bcdad92",
   "metadata": {},
   "outputs": [
    {
     "name": "stdout",
     "output_type": "stream",
     "text": [
      "Hi there! How can I help you today?\n",
      "goodbye take care yourself\n"
     ]
    },
    {
     "name": "stderr",
     "output_type": "stream",
     "text": [
      "Failed to send compressed multipart ingest: Connection error caused failure to POST https://api.smith.langchain.com/runs/multipart in LangSmith API. Please confirm your internet connection. ConnectionError(MaxRetryError('HTTPSConnectionPool(host=\\'api.smith.langchain.com\\', port=443): Max retries exceeded with url: /runs/multipart (Caused by ReadTimeoutError(\"HTTPSConnectionPool(host=\\'api.smith.langchain.com\\', port=443): Read timed out. (read timeout=10.0)\"))'))\n",
      "Content-Length: 649\n",
      "API Key: lsv2_********************************************9ctrace=eded666e-ceca-4f9f-99f9-3588d776a494,id=eded666e-ceca-4f9f-99f9-3588d776a494\n"
     ]
    }
   ],
   "source": [
    "while True:\n",
    "    question=input(\"type your question. if you want to quit the chat write quit\")\n",
    "    if question !=\"quit\":\n",
    "        print(llm.invoke(question).content)\n",
    "    else:\n",
    "        print(\"goodbye take care yourself\")\n",
    "        break"
   ]
  },
  {
   "cell_type": "code",
   "execution_count": 20,
   "id": "4c950a7e",
   "metadata": {},
   "outputs": [],
   "source": [
    "from langchain_core.chat_history import BaseChatMessageHistory\n",
    "from langchain_core.chat_history import InMemoryChatMessageHistory \n",
    "from langchain_core.messages import AIMessage, HumanMessage, SystemMessage\n",
    "from langchain_core.runnables.history import RunnableWithMessageHistory \n"
   ]
  },
  {
   "cell_type": "code",
   "execution_count": 21,
   "id": "52181f98",
   "metadata": {},
   "outputs": [],
   "source": [
    "store= {}"
   ]
  },
  {
   "cell_type": "code",
   "execution_count": 22,
   "id": "c34b0693",
   "metadata": {},
   "outputs": [],
   "source": [
    "def get_session_history(session_id: str) -> BaseChatMessageHistory:\n",
    "    if session_id not in store:\n",
    "        store[session_id] = InMemoryChatMessageHistory()\n",
    "    return store[session_id]"
   ]
  },
  {
   "cell_type": "code",
   "execution_count": 23,
   "id": "594281eb",
   "metadata": {},
   "outputs": [],
   "source": [
    "\n",
    "config = {\"configurable\": {\"session_id\": \"firstchat\"}}"
   ]
  },
  {
   "cell_type": "code",
   "execution_count": 24,
   "id": "eb8a8a70",
   "metadata": {},
   "outputs": [],
   "source": [
    "model_with_memory=RunnableWithMessageHistory(llm,get_session_history)"
   ]
  },
  {
   "cell_type": "code",
   "execution_count": 25,
   "id": "88685cff",
   "metadata": {},
   "outputs": [
    {
     "data": {
      "text/plain": [
       "'Hi Gagan! Nice to meet you. How can I help you today?'"
      ]
     },
     "execution_count": 25,
     "metadata": {},
     "output_type": "execute_result"
    }
   ],
   "source": [
    "\n",
    "model_with_memory.invoke((\"Hi! I'm gagan\"),config=config).content"
   ]
  },
  {
   "cell_type": "code",
   "execution_count": 26,
   "id": "aa940527",
   "metadata": {},
   "outputs": [
    {
     "data": {
      "text/plain": [
       "\"I have no idea who you are beyond your name, Gagan.  I'm an AI and have no access to real-world information about individuals unless you tell me.  I only know what you've typed in our current conversation.  Is there anything else I can help you with?\""
      ]
     },
     "execution_count": 26,
     "metadata": {},
     "output_type": "execute_result"
    }
   ],
   "source": [
    "\n",
    "model_with_memory.invoke((\"Hi! who am i?\"),config=config).content"
   ]
  },
  {
   "cell_type": "code",
   "execution_count": 28,
   "id": "d1cf4bd4",
   "metadata": {},
   "outputs": [],
   "source": [
    "from langchain_community.document_loaders import TextLoader, DirectoryLoader\n",
    "from langchain.text_splitter import RecursiveCharacterTextSplitter\n",
    "from langchain_community.vectorstores import Chroma\n",
    "from langchain import PromptTemplate\n",
    "from langchain_core.runnables import RunnableParallel, RunnablePassthrough , RunnableLambda\n",
    "from langchain_core.output_parsers import StrOutputParser\n",
    "\n",
    "### Reading the txt files from source directory\n",
    "embeddings = GoogleGenerativeAIEmbeddings(model=\"models/embedding-001\")\n",
    "loader = DirectoryLoader('./data', glob=\"./*.txt\", loader_cls=TextLoader)\n",
    "docs = loader.load()\n",
    "\n",
    "### Creating Chunks using RecursiveCharacterTextSplitter\n",
    "\n",
    "text_splitter = RecursiveCharacterTextSplitter(\n",
    "    chunk_size=50,\n",
    "    chunk_overlap=10,\n",
    "    length_function=len\n",
    ")\n",
    "new_docs = text_splitter.split_documents(documents=docs)\n",
    "doc_strings = [doc.page_content for doc in new_docs]\n",
    "\n",
    "\n",
    "db = Chroma.from_documents(new_docs[:10], embeddings)\n",
    "retriever = db.as_retriever(search_kwargs={\"k\": 4})"
   ]
  },
  {
   "cell_type": "code",
   "execution_count": 29,
   "id": "be27b6ea",
   "metadata": {},
   "outputs": [],
   "source": [
    "template = \"\"\"Answer the question based only on the following context:\n",
    "{context}\n",
    "\n",
    "Question: {question}\n",
    "\"\"\"\n",
    "prompt = PromptTemplate.from_template(template)"
   ]
  },
  {
   "cell_type": "code",
   "execution_count": 30,
   "id": "0b526c43",
   "metadata": {},
   "outputs": [],
   "source": [
    "retrieval_chain = (\n",
    "    RunnableParallel({\"context\": retriever, \"question\": RunnablePassthrough()})\n",
    "    | prompt\n",
    "    | llm\n",
    "    | StrOutputParser()\n",
    "    )"
   ]
  },
  {
   "cell_type": "code",
   "execution_count": 31,
   "id": "47e5ba26",
   "metadata": {},
   "outputs": [
    {
     "name": "stdout",
     "output_type": "stream",
     "text": [
      "Gagan Kumar describes himself as \"the best boy\".\n"
     ]
    }
   ],
   "source": [
    "question=\"how gagan described himself?\"\n",
    "print(retrieval_chain.invoke(question, config={\"configurable\": {\"session_id\": \"firstchat\"}}))"
   ]
  },
  {
   "cell_type": "markdown",
   "id": "91c0bc95",
   "metadata": {},
   "source": [
    "this wwas all about chaat bt an rags before you moove towards agent"
   ]
  },
  {
   "cell_type": "markdown",
   "id": "3570af4d",
   "metadata": {},
   "source": [
    "TOOLS AND Agents"
   ]
  },
  {
   "cell_type": "code",
   "execution_count": 32,
   "id": "edc2b26d",
   "metadata": {},
   "outputs": [],
   "source": [
    "from langchain_community.tools import WikipediaQueryRun\n",
    "from langchain_community.utilities import WikipediaAPIWrapper"
   ]
  },
  {
   "cell_type": "code",
   "execution_count": 34,
   "id": "f9940c21",
   "metadata": {},
   "outputs": [],
   "source": [
    "api_wrapper = WikipediaAPIWrapper(top_k_results=5, doc_content_chars_max=100)"
   ]
  },
  {
   "cell_type": "code",
   "execution_count": 35,
   "id": "897d80bf",
   "metadata": {},
   "outputs": [],
   "source": [
    "tool = WikipediaQueryRun(api_wrapper=api_wrapper)"
   ]
  },
  {
   "cell_type": "code",
   "execution_count": 36,
   "id": "eed99ef2",
   "metadata": {},
   "outputs": [
    {
     "data": {
      "text/plain": [
       "'wikipedia'"
      ]
     },
     "execution_count": 36,
     "metadata": {},
     "output_type": "execute_result"
    }
   ],
   "source": [
    "\n",
    "tool.name"
   ]
  },
  {
   "cell_type": "code",
   "execution_count": 37,
   "id": "73b76ef6",
   "metadata": {},
   "outputs": [
    {
     "data": {
      "text/plain": [
       "{'query': {'description': 'query to look up on wikipedia',\n",
       "  'title': 'Query',\n",
       "  'type': 'string'}}"
      ]
     },
     "execution_count": 37,
     "metadata": {},
     "output_type": "execute_result"
    }
   ],
   "source": [
    "\n",
    "tool.args"
   ]
  },
  {
   "cell_type": "code",
   "execution_count": 38,
   "id": "0db95deb",
   "metadata": {},
   "outputs": [
    {
     "name": "stdout",
     "output_type": "stream",
     "text": [
      "Page: LangChain\n",
      "Summary: LangChain is a software framework that helps facilitate the integration of \n"
     ]
    }
   ],
   "source": [
    "print(tool.run({\"query\": \"langchain\"}))"
   ]
  },
  {
   "cell_type": "markdown",
   "id": "08b629c7",
   "metadata": {},
   "source": [
    "youtube search tool\n"
   ]
  },
  {
   "cell_type": "code",
   "execution_count": 47,
   "id": "aca59836",
   "metadata": {},
   "outputs": [],
   "source": [
    "from langchain_community.tools import YouTubeSearchTool"
   ]
  },
  {
   "cell_type": "code",
   "execution_count": 48,
   "id": "c28d3ace",
   "metadata": {},
   "outputs": [],
   "source": [
    "tool2 = YouTubeSearchTool(api_key=GOOGLE_API_KEY, top_k_results=5)"
   ]
  },
  {
   "cell_type": "code",
   "execution_count": 49,
   "id": "5724ae1e",
   "metadata": {},
   "outputs": [
    {
     "data": {
      "text/plain": [
       "'youtube_search'"
      ]
     },
     "execution_count": 49,
     "metadata": {},
     "output_type": "execute_result"
    }
   ],
   "source": [
    "tool2.name"
   ]
  },
  {
   "cell_type": "code",
   "execution_count": 50,
   "id": "f0c302ce",
   "metadata": {},
   "outputs": [
    {
     "data": {
      "text/plain": [
       "'search for youtube videos associated with a person. the input to this tool should be a comma separated list, the first part contains a person name and the second a number that is the maximum number of video results to return aka num_results. the second part is optional'"
      ]
     },
     "execution_count": 50,
     "metadata": {},
     "output_type": "execute_result"
    }
   ],
   "source": [
    "tool2.description"
   ]
  },
  {
   "cell_type": "code",
   "execution_count": 52,
   "id": "d34a0ccf",
   "metadata": {},
   "outputs": [
    {
     "data": {
      "text/plain": [
       "\"['https://www.youtube.com/watch?v=HzoVi5YehD8&pp=ygUNYmFibG9vIG1laGF0bw%3D%3D', 'https://www.youtube.com/watch?v=j0lJ0keLJS0&pp=ygUNYmFibG9vIG1laGF0bw%3D%3D']\""
      ]
     },
     "execution_count": 52,
     "metadata": {},
     "output_type": "execute_result"
    }
   ],
   "source": [
    "tool2.run(\"babloo mehato\")"
   ]
  },
  {
   "cell_type": "code",
   "execution_count": 54,
   "id": "ff377b60",
   "metadata": {},
   "outputs": [],
   "source": [
    "\n",
    "from langchain_community.tools.tavily_search import TavilySearchResults"
   ]
  },
  {
   "cell_type": "code",
   "execution_count": 55,
   "id": "eae4d3b9",
   "metadata": {},
   "outputs": [
    {
     "name": "stderr",
     "output_type": "stream",
     "text": [
      "C:\\Users\\gagan\\AppData\\Local\\Temp\\ipykernel_43160\\862852305.py:1: LangChainDeprecationWarning: The class `TavilySearchResults` was deprecated in LangChain 0.3.25 and will be removed in 1.0. An updated version of the class exists in the :class:`~langchain-tavily package and should be used instead. To use it run `pip install -U :class:`~langchain-tavily` and import as `from :class:`~langchain_tavily import TavilySearch``.\n",
      "  tool4 = TavilySearchResults()\n"
     ]
    }
   ],
   "source": [
    "tool4 = TavilySearchResults()\n"
   ]
  },
  {
   "cell_type": "code",
   "execution_count": 57,
   "id": "c7025b1e",
   "metadata": {},
   "outputs": [
    {
     "data": {
      "text/plain": [
       "[{'title': \"Satellite Photos Reveal Extent of Floods at This Year's Burning Man\",\n",
       "  'url': 'https://gizmodo.com/satellite-photos-extent-floods-burning-man-1850819889',\n",
       "  'content': 'The equivalent of several months of rain fell over the area, and the water pooled into the playa where the event takes place every year.',\n",
       "  'score': 0.98539},\n",
       " {'title': 'Burning Man flooding: What happened to stranded festivalgoers?',\n",
       "  'url': 'https://abcnews.go.com/US/burning-man-flooding-happened-stranded-festivalgoers/story?id=102908331',\n",
       "  'content': 'Tens of thousands of Burning Man attendees are now able to leave the festival after a downpour and massive flooding left them stranded over the weekend.',\n",
       "  'score': 0.98532},\n",
       " {'title': 'After flooding, Burning Man to go on as planned in 2024 - KNPR',\n",
       "  'url': 'https://knpr.org/news-88-9-knpr/2023-12-27/after-flooding-burning-man-to-go-on-as-planned-in-2024',\n",
       "  'content': \"Burning Man organizers don't foresee major changes in 2024 thanks to a hard-won passing grade for cleaning up this year's festival.\",\n",
       "  'score': 0.98322},\n",
       " {'title': 'What is Burning Man? All you need to know about the ...',\n",
       "  'url': 'https://www.aljazeera.com/news/2023/9/4/what-is-burning-man-all-you-need-to-know-about-the-festival-and-floods',\n",
       "  'content': 'All you need to know about the festival and floods. Tens of thousands of partygoers are stuck in mud as rare desert rain inundated parts of the',\n",
       "  'score': 0.98269},\n",
       " {'title': 'With the Burning Man party finally over, the massive ...',\n",
       "  'url': 'https://www.cbsnews.com/sanfrancisco/news/burning-man-is-ending-but-the-cleanup-from-heavy-flooding-is-far-from-over/',\n",
       "  'content': \"The rain has passed, and the temple has burned. Now, as Burning Man slowly empties, it's time to clean up.\",\n",
       "  'score': 0.97725}]"
      ]
     },
     "execution_count": 57,
     "metadata": {},
     "output_type": "execute_result"
    }
   ],
   "source": [
    "tool4.invoke({\"query\": \"What happened in the latest burning man floods\"})"
   ]
  },
  {
   "cell_type": "code",
   "execution_count": 58,
   "id": "5e65745b",
   "metadata": {},
   "outputs": [],
   "source": [
    "\n",
    "from langchain import hub"
   ]
  },
  {
   "cell_type": "code",
   "execution_count": 59,
   "id": "28a9ea7a",
   "metadata": {},
   "outputs": [],
   "source": [
    "\n",
    "from langchain.agents import AgentExecutor,create_openai_functions_agent"
   ]
  },
  {
   "cell_type": "markdown",
   "id": "94cc8371",
   "metadata": {},
   "source": [
    "creating custom tool"
   ]
  },
  {
   "cell_type": "code",
   "execution_count": 61,
   "id": "183c7c53",
   "metadata": {},
   "outputs": [],
   "source": [
    "from langchain_core.tools import tool\n",
    "@tool\n",
    "def get_word_length(text: str) -> int:\n",
    "    '''return the length of the text'''\n",
    "    return len(text)"
   ]
  },
  {
   "cell_type": "code",
   "execution_count": 63,
   "id": "5e5603f3",
   "metadata": {},
   "outputs": [
    {
     "data": {
      "text/plain": [
       "3"
      ]
     },
     "execution_count": 63,
     "metadata": {},
     "output_type": "execute_result"
    }
   ],
   "source": [
    "get_word_length.invoke(\"ksf\")"
   ]
  },
  {
   "cell_type": "code",
   "execution_count": 64,
   "id": "e1bc10d2",
   "metadata": {},
   "outputs": [],
   "source": [
    "@tool\n",
    "def multiply(a : int ,b :int) -> int:\n",
    "    '''return the product of two numbers'''\n",
    "    return a * b"
   ]
  },
  {
   "cell_type": "code",
   "execution_count": 66,
   "id": "8b55f013",
   "metadata": {},
   "outputs": [
    {
     "data": {
      "text/plain": [
       "6"
      ]
     },
     "execution_count": 66,
     "metadata": {},
     "output_type": "execute_result"
    }
   ],
   "source": [
    "multiply.invoke({\"a\":2,\"b\":3})"
   ]
  },
  {
   "cell_type": "markdown",
   "id": "cf248412",
   "metadata": {},
   "source": [
    "AGENTS"
   ]
  },
  {
   "cell_type": "markdown",
   "id": "dac56cef",
   "metadata": {},
   "source": [
    "we are going through the first verson og langcain firtsdt\n"
   ]
  },
  {
   "cell_type": "code",
   "execution_count": 67,
   "id": "cc3178fe",
   "metadata": {},
   "outputs": [],
   "source": [
    "\n",
    "from langchain.agents import AgentType\n",
    "from langchain.agents import load_tools \n",
    "from langchain.agents import initialize_agent"
   ]
  },
  {
   "cell_type": "code",
   "execution_count": 68,
   "id": "445f07b5",
   "metadata": {},
   "outputs": [],
   "source": [
    "tool=load_tools([\"wikipedia\"],llm=llm)"
   ]
  },
  {
   "cell_type": "code",
   "execution_count": 69,
   "id": "7bce8cfd",
   "metadata": {},
   "outputs": [
    {
     "name": "stderr",
     "output_type": "stream",
     "text": [
      "C:\\Users\\gagan\\AppData\\Local\\Temp\\ipykernel_43160\\1791468372.py:1: LangChainDeprecationWarning: LangChain agents will continue to be supported, but it is recommended for new use cases to be built with LangGraph. LangGraph offers a more flexible and full-featured framework for building agents, including support for tool-calling, persistence of state, and human-in-the-loop workflows. For details, refer to the `LangGraph documentation <https://langchain-ai.github.io/langgraph/>`_ as well as guides for `Migrating from AgentExecutor <https://python.langchain.com/docs/how_to/migrate_agent/>`_ and LangGraph's `Pre-built ReAct agent <https://langchain-ai.github.io/langgraph/how-tos/create-react-agent/>`_.\n",
      "  agent=initialize_agent(tool,llm,agent=AgentType.ZERO_SHOT_REACT_DESCRIPTION,verbose=True)\n"
     ]
    }
   ],
   "source": [
    "\n",
    "agent=initialize_agent(tool,llm,agent=AgentType.ZERO_SHOT_REACT_DESCRIPTION,verbose=True)"
   ]
  },
  {
   "cell_type": "code",
   "execution_count": 70,
   "id": "22eadda0",
   "metadata": {},
   "outputs": [
    {
     "name": "stderr",
     "output_type": "stream",
     "text": [
      "C:\\Users\\gagan\\AppData\\Local\\Temp\\ipykernel_43160\\3196217391.py:1: LangChainDeprecationWarning: The method `Chain.run` was deprecated in langchain 0.1.0 and will be removed in 1.0. Use :meth:`~invoke` instead.\n",
      "  agent.run(\"what is llama and who create this llm model?\")\n"
     ]
    },
    {
     "name": "stdout",
     "output_type": "stream",
     "text": [
      "\n",
      "\n",
      "\u001b[1m> Entering new AgentExecutor chain...\u001b[0m\n",
      "\u001b[32;1m\u001b[1;3mThought: I need to find information about the LLaMA language model.  Specifically, I need to know what it is and who created it.  Wikipedia might be a good source for this.\n",
      "\n",
      "Action: wikipedia\n",
      "Action Input: LLaMA\u001b[0m\n",
      "Observation: \u001b[36;1m\u001b[1;3mPage: Llama (language model)\n",
      "Summary: Llama (Large Language Model Meta AI) is a family of large language models (LLMs) released by Meta AI starting in February 2023. The latest version is Llama 4, released in April 2025.\n",
      "Llama models come in different sizes, ranging from 1 billion to 2 trillion parameters. Initially only a foundation model, starting with Llama 2, Meta AI released instruction fine-tuned versions alongside foundation models.\n",
      "Model weights for the first version of Llama were only available to researchers on a case-by-case basis, under a non-commercial license. Unauthorized copies of the first model were shared via BitTorrent. Subsequent versions of Llama were made accessible outside academia and released under licenses that permitted some commercial use.\n",
      "Alongside the release of Llama 3, Meta added virtual assistant features to Facebook and WhatsApp in select regions, and a standalone website. Both services use a Llama 3 model.\n",
      "\n",
      "Page: Llama\n",
      "Summary: The llama (; Spanish pronunciation: [ˈʎama] or [ˈʝama]) (Lama glama) is a domesticated South American camelid, widely used as a meat and pack animal by Andean cultures since the pre-Columbian era.\n",
      "Llamas are social animals and live with others as a herd. Their wool is soft and contains only a small amount of lanolin. Llamas can learn simple tasks after a few repetitions. When using a pack, they can carry about 25 to 30% of their body weight for 8 to 13 km (5–8 miles). The name llama (also historically spelled \"lama\" or \"glama\") was adopted by European settlers from native Peruvians.\n",
      "The ancestors of llamas are thought to have originated on the Great Plains of North America about 40 million years ago and subsequently migrated to South America about three million years ago during the Great American Interchange. By the end of the last ice age (10,000–12,000 years ago), camelids were extinct in North America. As of 2007, there were over seven million llamas and alpacas in South America. Some were imported to the United States and Canada late in the 20th century; their descendants now number more than 158,000 llamas and 100,000 alpacas.\n",
      "In Aymara mythology, llamas are important beings. The Heavenly Llama is said to drink water from the ocean and urinates as it rains. According to Aymara eschatology, llamas will return to the water springs and ponds where they come from at the end of time.\n",
      "\n",
      "Page: Generative artificial intelligence\n",
      "Summary: Generative artificial intelligence (Generative AI, GenAI, or GAI) is a subfield of artificial intelligence that uses generative models to produce text, images, videos, or other forms of data. These models learn the underlying patterns and structures of their training data and use them to produce new data based on the input, which often comes in the form of natural language prompts.\n",
      "Generative AI tools have become more common since the AI boom in the 2020s. This boom was made possible by improvements in transformer-based deep neural networks, particularly large language models (LLMs). Major tools include chatbots such as ChatGPT, Copilot, Gemini, Claude, Grok, and DeepSeek; text-to-image models such as Stable Diffusion, Midjourney, and DALL-E; and text-to-video models such as Veo, LTXV and Sora. Technology companies developing generative AI include OpenAI, Anthropic, Meta AI, Microsoft, Google, DeepSeek, and Baidu.\n",
      "Generative AI has raised many ethical questions and governance challenges as it can be used for cybercrime, or to deceive or manipulate people through fake news or deepfakes. Even if used ethically, it may lead to mass replacement of human jobs. The tools themselves have been criticized as violating intellectual property laws, since they are trained on copyrighted works.\n",
      "Generative AI is used across many industries. Examples include software development, healthcare, finance, entertainment, customer service, sales and marketing, art, writing, fashion, and product design.\u001b[0m\n",
      "Thought:\u001b[32;1m\u001b[1;3mThought: The first Wikipedia result clarifies that LLaMA is a large language model created by Meta AI.\n",
      "\n",
      "Final Answer: LLaMA is a family of large language models created by Meta AI.\u001b[0m\n",
      "\n",
      "\u001b[1m> Finished chain.\u001b[0m\n"
     ]
    },
    {
     "data": {
      "text/plain": [
       "'LLaMA is a family of large language models created by Meta AI.'"
      ]
     },
     "execution_count": 70,
     "metadata": {},
     "output_type": "execute_result"
    }
   ],
   "source": [
    "\n",
    "agent.run(\"what is llama and who create this llm model?\")"
   ]
  },
  {
   "cell_type": "code",
   "execution_count": 75,
   "id": "a5a2ed85",
   "metadata": {},
   "outputs": [],
   "source": [
    "from langchain_community.tools.tavily_search import TavilySearchResults\n",
    "search = TavilySearchResults()\n",
    "\n"
   ]
  },
  {
   "cell_type": "code",
   "execution_count": 76,
   "id": "ce53ff9d",
   "metadata": {},
   "outputs": [
    {
     "data": {
      "text/plain": [
       "[{'title': 'Allahabad Weather Today (Saturday, Aug 09, 2025)',\n",
       "  'url': 'https://www.indiatoday.in/weather/allahabad-weather-forecast-today',\n",
       "  'content': 'The minimum temperature in Allahabad today is likely to hover around 26 degrees Celsius, while the maximum temperature might reach 32 degrees Celsius. The mercury level is expected to hover around 30 degrees Celsius throughout the day, with the wind speed around 3.94. The wind will move around 226 degrees with a gust speed of 5.32. The sunrise time is 05:33 AM, while it will set at 06:43 PM on Saturday. As per the seven-day weather prediction, the temperature in Allahabad is likely to reach 32 [...] ### TRENDING TOPICS\\n\\n### Download App\\n\\n# Allahabad Weather Today (Saturday, Aug 09, 2025)\\n\\nWeather Icon\\nmin\\nmax\\nrise\\nset\\nhumdity\\npressure\\nlon\\nlat\\nspeed\\ndeg\\ngust\\nRain\\nRain\\nRain\\nRain\\nRain\\nRain\\nRain\\n\\n## Weather In Allahabad [...] degrees Celsius on Saturday, 35 degrees Celsius on Sunday, 35 degrees Celsius on Monday, 30 degrees Celsius on Tuesday, 29 degrees Celsius on Wednesday, 32 degrees Celsius on Thursday and 35 degrees Celsius on Friday.',\n",
       "  'score': 0.90907925},\n",
       " {'title': 'Weather Allahabad in August 2025 - Climate-Data.org',\n",
       "  'url': 'https://en.climate-data.org/asia/india/uttar-pradesh/allahabad-2845/t/august-8/',\n",
       "  'content': 'Temperatures in Allahabad during August reach their peak on 05.08, with 32°C | 89.7°F, and their lowest on 18.08, dropping to 25.7°C | 78.2°F. The beginning of',\n",
       "  'score': 0.6999322},\n",
       " {'title': '10-Day Weather Forecast for Allahabad, Punjab, Pakistan',\n",
       "  'url': 'https://www.weather.com/weather/tenday/l/f0af3c2042b61b900ed459b2d69dbabfdeab492da4a006b3571185e180b96cbd',\n",
       "  'content': '## Recent Locations\\n\\nMenu\\n\\n## Weather Forecasts\\n\\n## Radar & Maps\\n\\n## News & Media\\n\\n## Products & Account\\n\\n## Lifestyle\\n\\n### Specialty Forecasts\\n\\n# 10 Day Weather-Allahabad, Punjab, Pakistan\\n\\n## Tonight\\n\\n## Night\\n\\nA few clouds. Hazy. Low 81F. Winds light and variable.\\n\\nundefined\\n\\nHeads-up\\n\\nMultiple Systems Are Being Monitored\\n\\n## Sun 10\\n\\n## Day\\n\\nSun and a few passing clouds. Hazy. High 94F. Winds light and variable.\\n\\n## Night [...] © The Weather Company, LLC 2025 [...] Thunderstorms likely in the morning. Then a chance of scattered thunderstorms in the afternoon. Hazy. High 88F. Winds E at 5 to 10 mph. Chance of rain 60%.\\n\\n## Night\\n\\nRain showers in the evening becoming a steady light rain overnight. Hazy. Low 79F. Winds light and variable. Chance of rain 60%.\\n\\n## Tue 19\\n\\n## Day\\n\\nPartly to mostly cloudy skies with scattered thunderstorms mainly in the morning. Hazy. High 91F. Winds light and variable. Chance of rain 60%.\\n\\n## Night',\n",
       "  'score': 0.6016175},\n",
       " {'title': 'Allahābād Climate, Weather By Month, Average Temperature (Uttar ...',\n",
       "  'url': 'https://weatherspark.com/y/110420/Average-Weather-in-Allah%C4%81b%C4%81d-Uttar-Pradesh-India-Year-Round',\n",
       "  'content': 'AllahÄ\\x81bÄ\\x81d is January, with 0.3 days that are muggy or worse.  Humidity Comfort Levels in AllahÄ\\x81bÄ\\x81d Link  Download  Compare  History  Humidity Comfort Levels in AllahÄ\\x81bÄ\\x81dmuggyJanFebMarAprMayJunJulAugSepOctNovDec0%0%10%10%20%20%30%30%40%40%50%50%60%60%70%70%80%80%90%90%100%100%Jan 21%Jan 21%100%Aug 9100%Aug 9May 1225%May 1225%Nov 225%Nov 225%NowNowmiserablemiserablecomfortablecomfortabledrydryhumidhumidoppressiveoppressive  dry   55Â°F comfortable   60Â°F humid   65Â°F muggy   70Â°F [...] The cloudier part of the year begins around June 21 and lasts for 3.0 months, ending around September 22.\\n\\nThe cloudiest month of the year in AllahÄ\\x81bÄ\\x81d is August, during which on average the sky is overcast or mostly cloudy 79% of the time.\\n\\n### Cloud Cover Categories in AllahÄ\\x81bÄ\\x81d [...] during which on average the sky is clear, mostly clear, or partly cloudy 89% of the time.  The cloudier part of the year begins around June 21 and lasts for 3.0 months, ending around September 22.  The cloudiest month of the year in AllahÄ\\x81bÄ\\x81d is August, during which on average the sky is overcast or mostly cloudy 79% of the time.  Cloud Cover Categories in AllahÄ\\x81bÄ\\x81d Link  Download  Compare  History  Cloud Cover Categories in',\n",
       "  'score': 0.57837737},\n",
       " {'title': '2025 - Prayagraj, Uttar Pradesh, India Monthly Weather | AccuWeather',\n",
       "  'url': 'https://www.accuweather.com/en/in/prayagraj/206680/august-weather/206680',\n",
       "  'content': 'Perseid meteor shower peaks Tuesday, but the moon may steal the show\\n\\n1 day ago\\n\\nWeather News\\n\\nRare winter rescue from brutal Antarctica conditions tests flight crew\\n\\n1 day ago\\n\\nFeatured Stories\\n\\nWeather News\\n\\nFrench firefighters battle blaze that scorched area bigger than Paris\\n\\n1 day ago\\n\\nWeather News\\n\\nRead the Coast Guard report on the implosion of the Titan submersible\\n\\n3 days ago\\n\\nWeather News\\n\\nBlue whales go quiet off California after marine heat wave\\n\\n2 days ago\\n\\nAstronomy [...] ### November 2025\\n\\n## Around the Globe\\n\\nAround the Globe\\n\\n### Hurricane Tracker\\n\\n### Severe Weather\\n\\n### Radar & Maps\\n\\n### News\\n\\n### Video\\n\\nTop Stories\\n\\nHurricane\\n\\nAtlantic hurricane potential, US risk to increase around mid-August\\n\\n4 hours ago\\n\\nWeather Forecasts\\n\\nFall forecast 2025: Warmth to fuel fires, storms before chill hits US\\n\\n3 days ago\\n\\nWeather News\\n\\nCanyon Fire joins California’s escalating wildfire crisis\\n\\n23 hours ago\\n\\nAstronomy [...] # Prayagraj, Uttar Pradesh\\n\\nPrayagraj\\n\\nUttar Pradesh\\n\\n## Around the Globe\\n\\nAround the Globe\\n\\n### Hurricane Tracker\\n\\n### Severe Weather\\n\\n### Radar & Maps\\n\\n### News & Features\\n\\n### Astronomy\\n\\n### Business\\n\\n### Climate\\n\\n### Health\\n\\n### Recreation\\n\\n### Sports\\n\\n### Travel\\n\\n### Warnings\\n\\n### Data Suite\\n\\n### Forensics\\n\\n### Advertising\\n\\n### Superior Accuracy™\\n\\n### Video\\n\\n## Monthly\\n\\n## August\\n\\n## 2025\\n\\n## Daily\\n\\n## Temperature Graph\\n\\n## Further Ahead\\n\\nFurther Ahead\\n\\n### September 2025\\n\\n### October 2025',\n",
       "  'score': 0.1570725}]"
      ]
     },
     "execution_count": 76,
     "metadata": {},
     "output_type": "execute_result"
    }
   ],
   "source": [
    "search.invoke(\"what is the weather in allahabad\")"
   ]
  },
  {
   "cell_type": "code",
   "execution_count": 77,
   "id": "e297b74e",
   "metadata": {},
   "outputs": [],
   "source": [
    "tools = [search]"
   ]
  },
  {
   "cell_type": "code",
   "execution_count": 78,
   "id": "cea67667",
   "metadata": {},
   "outputs": [],
   "source": [
    "\n",
    "from langchain import hub"
   ]
  },
  {
   "cell_type": "code",
   "execution_count": 79,
   "id": "5a971a30",
   "metadata": {},
   "outputs": [],
   "source": [
    "\n",
    "\n",
    "prompt=hub.pull(\"hwchase17/openai-functions-agent\")"
   ]
  },
  {
   "cell_type": "code",
   "execution_count": 81,
   "id": "5f361e29",
   "metadata": {},
   "outputs": [
    {
     "data": {
      "text/plain": [
       "ChatPromptTemplate(input_variables=['agent_scratchpad', 'input'], optional_variables=['chat_history'], input_types={'chat_history': list[typing.Annotated[typing.Union[typing.Annotated[langchain_core.messages.ai.AIMessage, Tag(tag='ai')], typing.Annotated[langchain_core.messages.human.HumanMessage, Tag(tag='human')], typing.Annotated[langchain_core.messages.chat.ChatMessage, Tag(tag='chat')], typing.Annotated[langchain_core.messages.system.SystemMessage, Tag(tag='system')], typing.Annotated[langchain_core.messages.function.FunctionMessage, Tag(tag='function')], typing.Annotated[langchain_core.messages.tool.ToolMessage, Tag(tag='tool')], typing.Annotated[langchain_core.messages.ai.AIMessageChunk, Tag(tag='AIMessageChunk')], typing.Annotated[langchain_core.messages.human.HumanMessageChunk, Tag(tag='HumanMessageChunk')], typing.Annotated[langchain_core.messages.chat.ChatMessageChunk, Tag(tag='ChatMessageChunk')], typing.Annotated[langchain_core.messages.system.SystemMessageChunk, Tag(tag='SystemMessageChunk')], typing.Annotated[langchain_core.messages.function.FunctionMessageChunk, Tag(tag='FunctionMessageChunk')], typing.Annotated[langchain_core.messages.tool.ToolMessageChunk, Tag(tag='ToolMessageChunk')]], FieldInfo(annotation=NoneType, required=True, discriminator=Discriminator(discriminator=<function _get_type at 0x00000225C0E091B0>, custom_error_type=None, custom_error_message=None, custom_error_context=None))]], 'agent_scratchpad': list[typing.Annotated[typing.Union[typing.Annotated[langchain_core.messages.ai.AIMessage, Tag(tag='ai')], typing.Annotated[langchain_core.messages.human.HumanMessage, Tag(tag='human')], typing.Annotated[langchain_core.messages.chat.ChatMessage, Tag(tag='chat')], typing.Annotated[langchain_core.messages.system.SystemMessage, Tag(tag='system')], typing.Annotated[langchain_core.messages.function.FunctionMessage, Tag(tag='function')], typing.Annotated[langchain_core.messages.tool.ToolMessage, Tag(tag='tool')], typing.Annotated[langchain_core.messages.ai.AIMessageChunk, Tag(tag='AIMessageChunk')], typing.Annotated[langchain_core.messages.human.HumanMessageChunk, Tag(tag='HumanMessageChunk')], typing.Annotated[langchain_core.messages.chat.ChatMessageChunk, Tag(tag='ChatMessageChunk')], typing.Annotated[langchain_core.messages.system.SystemMessageChunk, Tag(tag='SystemMessageChunk')], typing.Annotated[langchain_core.messages.function.FunctionMessageChunk, Tag(tag='FunctionMessageChunk')], typing.Annotated[langchain_core.messages.tool.ToolMessageChunk, Tag(tag='ToolMessageChunk')]], FieldInfo(annotation=NoneType, required=True, discriminator=Discriminator(discriminator=<function _get_type at 0x00000225C0E091B0>, custom_error_type=None, custom_error_message=None, custom_error_context=None))]]}, partial_variables={'chat_history': []}, metadata={'lc_hub_owner': 'hwchase17', 'lc_hub_repo': 'openai-functions-agent', 'lc_hub_commit_hash': 'a1655024b06afbd95d17449f21316291e0726f13dcfaf990cc0d18087ad689a5'}, messages=[SystemMessagePromptTemplate(prompt=PromptTemplate(input_variables=[], input_types={}, partial_variables={}, template='You are a helpful assistant'), additional_kwargs={}), MessagesPlaceholder(variable_name='chat_history', optional=True), HumanMessagePromptTemplate(prompt=PromptTemplate(input_variables=['input'], input_types={}, partial_variables={}, template='{input}'), additional_kwargs={}), MessagesPlaceholder(variable_name='agent_scratchpad')])"
      ]
     },
     "execution_count": 81,
     "metadata": {},
     "output_type": "execute_result"
    }
   ],
   "source": [
    "prompt"
   ]
  },
  {
   "cell_type": "code",
   "execution_count": 80,
   "id": "3c8e1b6a",
   "metadata": {},
   "outputs": [
    {
     "data": {
      "text/plain": [
       "[SystemMessagePromptTemplate(prompt=PromptTemplate(input_variables=[], input_types={}, partial_variables={}, template='You are a helpful assistant'), additional_kwargs={}),\n",
       " MessagesPlaceholder(variable_name='chat_history', optional=True),\n",
       " HumanMessagePromptTemplate(prompt=PromptTemplate(input_variables=['input'], input_types={}, partial_variables={}, template='{input}'), additional_kwargs={}),\n",
       " MessagesPlaceholder(variable_name='agent_scratchpad')]"
      ]
     },
     "execution_count": 80,
     "metadata": {},
     "output_type": "execute_result"
    }
   ],
   "source": [
    "\n",
    "prompt.messages"
   ]
  },
  {
   "cell_type": "markdown",
   "id": "22da3335",
   "metadata": {},
   "source": [
    "\n",
    "agent_scratchpad: The agent does not call a tool just once to get the desired answer, but has a structure that calls tools repeatedly until the desired answer is obtained. Each time you call a tool, what the previous call was like, information about the previous call, and the result are stored in this field."
   ]
  },
  {
   "cell_type": "code",
   "execution_count": 82,
   "id": "2ff0f60d",
   "metadata": {},
   "outputs": [],
   "source": [
    "\n",
    "from langchain.agents import create_tool_calling_agent\n",
    "agent = create_tool_calling_agent(llm, tools, prompt)"
   ]
  },
  {
   "cell_type": "code",
   "execution_count": 83,
   "id": "b0314bc2",
   "metadata": {},
   "outputs": [],
   "source": [
    "from langchain.agents import AgentExecutor\n",
    "agent_executor = AgentExecutor(agent=agent, tools=tools, verbose=True)"
   ]
  },
  {
   "cell_type": "code",
   "execution_count": 84,
   "id": "d8ff386b",
   "metadata": {},
   "outputs": [
    {
     "name": "stdout",
     "output_type": "stream",
     "text": [
      "\n",
      "\n",
      "\u001b[1m> Entering new AgentExecutor chain...\u001b[0m\n",
      "\u001b[32;1m\u001b[1;3mI'm doing well, thank you for asking. How can I help you today?\n",
      "\u001b[0m\n",
      "\n",
      "\u001b[1m> Finished chain.\u001b[0m\n"
     ]
    },
    {
     "data": {
      "text/plain": [
       "{'input': 'hello how are you?',\n",
       " 'output': \"I'm doing well, thank you for asking. How can I help you today?\\n\"}"
      ]
     },
     "execution_count": 84,
     "metadata": {},
     "output_type": "execute_result"
    }
   ],
   "source": [
    "agent_executor.invoke({\"input\": \"hello how are you?\"})\n"
   ]
  },
  {
   "cell_type": "code",
   "execution_count": 86,
   "id": "5d5ad534",
   "metadata": {},
   "outputs": [
    {
     "name": "stdout",
     "output_type": "stream",
     "text": [
      "\n",
      "\n",
      "\u001b[1m> Entering new AgentExecutor chain...\u001b[0m\n",
      "\u001b[32;1m\u001b[1;3m\n",
      "Invoking: `tavily_search_results_json` with `{'query': 'last test cricket match between India and England in 2025'}`\n",
      "\n",
      "\n",
      "\u001b[0m\u001b[36;1m\u001b[1;3m[{'title': 'Indian cricket team in England in 2025 - Wikipedia', 'url': 'https://en.wikipedia.org/wiki/Indian_cricket_team_in_England_in_2025', 'content': '### 3rd Test\\n\\n[edit]\\n\\n10–14 July 2025 \\n\\nScorecard\\n\\nEnglandImage 21: EnglandvImage 22: IndiaIndia\\n387 (112.3 overs)\\n\\nJoe Root 104 (199)\\n\\nJasprit Bumrah 5/74 (27 overs)387 (119.2 overs)\\n\\nKL Rahul 100 (177)\\n\\nChris Woakes 3/84 (27 overs)\\n192 (62.1 overs)\\n\\nJoe Root 40 (96)\\n\\nWashington Sundar 4/22 (12.1 overs)170 (74.5 overs)\\n\\nRavindra Jadeja 61 (181)\\n\\nBen Stokes 3/48 (24 overs)\\n\\nEngland won by 22 runs\\n\\nLord\\'s, London\\n\\nUmpires: Paul Reiffel (Aus) and Sharfuddoula (Ban) [...] ### 2nd Test\\n\\n[edit]\\n\\n2–6 July 2025 \\n\\nScorecard\\n\\nIndiaImage 19: IndiavImage 20: EnglandEngland\\n587 (151 overs)\\n\\nShubman Gill 269 (387)\\n\\nShoaib Bashir 3/167 (45 overs)407 (89.3 overs)\\n\\nJamie Smith \"Jamie Smith (cricketer)\") 184 (207)\\n\\nMohammed Siraj 6/70 (19.3 overs)\\n427/6d (83 overs)\\n\\nShubman Gill 161 (162)\\n\\nJosh Tongue 2/93 (15 overs)271 (68.1 overs)\\n\\nJamie Smith \"Jamie Smith (cricketer)\") 88 (99)\\n\\nAkash Deep 6/99 (21.1 overs)\\n\\nIndia won by 336 runs\\n\\nEdgbaston, Birmingham [...] ### 5th Test\\n\\n[edit]\\n\\n31 July – 4 August 2025 \\n\\nScorecard\\n\\nIndiaImage 25: IndiavImage 26: EnglandEngland\\n224 (69.4 overs)\\n\\nKarun Nair 57 (109)\\n\\nGus Atkinson 5/33 (21.4 overs)247 (51.2 overs)\\n\\nZak Crawley 64 (57)\\n\\nPrasidh Krishna 4/62 (16 overs)\\n396 (88 overs)\\n\\nYashasvi Jaiswal 118 (164)\\n\\nJosh Tongue 5/125 (30 overs)367 (85.1 overs)\\n\\nHarry Brook 111 (98)\\n\\nMohammed Siraj 5/104 (30.1 overs)\\n\\nIndia won by 6 runs\\n\\nThe Oval, London\\n\\nUmpires: Kumar Dharmasena (SL) and Ahsan Raza (Pak)', 'score': 0.8652358}, {'title': 'India tour of England 2025 | Live Score, Schedule, News', 'url': 'https://www.espncricinfo.com/series/india-in-england-2025-1445348', 'content': \"RESULT 5th Test, The Oval, July 31 - August 04, 2025, [India tour of England Image 32: ENG Flag IND 224&396 Image 33: ENG Flag ENG (T:374) 247&367 India won by 6 runs]( 4th Test, Manchester, July 23 - 27, 2025, [India tour of England Image 34: ENG Flag IND 358&425/4 Image 35: ENG Flag ENG 669 Match drawn]( 3rd Test, Lord's, July 10 - 14, 2025, [India tour of England Image 36: ENG Flag ENG 387&192 Image 37: ENG Flag IND (T:193) 387&170 England won by 22 runs]( 2nd Test, Birmingham, July 02 - 06, [...] 2025, [India tour of England Image 38: ENG Flag IND 587&427/6d Image 39: ENG Flag ENG (T:608) 407&271 India won by 336 runs]( 1st Test, Leeds, June 20 - 24, 2025, [India tour of England Image 40: ENG Flag IND 471&364 Image 41: ENG Flag ENG (T:371) 465&373/5 England won by 5 wickets]( [...] Image 54: AskESPNcricinfo Logo\\n\\nRavindra Jadeja\\n\\nIND\\n\\nRuns: 516 Wkts: 7\\n\\n7.7\\n\\n3.\\n\\nImage 55: AskESPNcricinfo Logo\\n\\nWashington Sundar\\n\\nIND\\n\\nRuns: 284 Wkts: 7\\n\\n7.5\\n\\nView full list\\n\\n### ENG vs IND 2025 Top Wicket Takers\\n\\nImage 56: AskESPNcricinfo Logo\\n\\nMohammed Siraj\\n\\nIND,Rf\\n\\n23\\n\\nInnings: 9 Average:32.43\\n\\nImage 57: AskESPNcricinfo Logo\\n\\nJosh Tongue\\n\\nENG,Rfm\\n\\n19\\n\\nInnings: 6 Average:29.05\\n\\nImage 58: AskESPNcricinfo Logo\\n\\nBen Stokes\\n\\nENG,Rfm\\n\\n17\\n\\nInnings: 8 Average:25.23\", 'score': 0.85421735}, {'title': 'India Cricket Team Schedule, Results & Timetable - ESPNcricinfo', 'url': 'https://www.espncricinfo.com/team/india-6/match-schedule-fixtures-and-results', 'content': \"RESULT• 1st Test •Leeds, June 20 - 24, 2025, [India tour of England Image 55: India Flag IND 471&364 Image 56: ENG Flag ENG (T:371) 465&373/5 England won by 5 wickets](\\n\\nReport\\n\\nPhotos\\n\\nVideos\\n\\nWed, 02 Jul '25\\n\\nRESULT• 2nd Test •Birmingham, July 02 - 06, 2025, [India tour of England Image 57: India Flag IND 587&427/6d Image 58: ENG Flag ENG (T:608) 407&271 India won by 336 runs](\\n\\nReport\\n\\nPhotos\\n\\nVideos\\n\\nThu, 10 Jul '25 [...] RESULT• 3rd Test •Lord's, July 10 - 14, 2025, [India tour of England Image 59: ENG Flag ENG 387&192 Image 60: India Flag IND (T:193) 387&170 England won by 22 runs](\\n\\nReport\\n\\nPhotos\\n\\nVideos\\n\\nWed, 23 Jul '25\\n\\nRESULT• 4th Test •Manchester, July 23 - 27, 2025, [India tour of England Image 61: India Flag IND 358&425/4 Image 62: ENG Flag ENG 669 Match drawn](\\n\\nReport\\n\\nPhotos\\n\\nVideos\\n\\nThu, 31 Jul '25 [...] RESULT• 5th Test •The Oval, July 31 - August 04, 2025, [India tour of England Image 63: India Flag IND 224&396 Image 64: ENG Flag ENG (T:374) 247&367 India won by 6 runs](\\n\\nReport\\n\\nPhotos\\n\\nVideos\\n\\nWed, 10 Sep '25\\n\\n2nd Match, Group A (D/N) •Dubai (DICS), [Men's T20 Asia Cup Image 65: United Arab Emirates Flag United Arab Emirates Image 66: India Flag India 2:00 PM 2:00 pm GMT | 6:00 pm Local Match yet to begin](\\n\\nSeries\\n\\nSun, 14 Sep '25\", 'score': 0.8479807}, {'title': 'India Cricket Team live scores, fixtures - Cricbuzz.com', 'url': 'https://www.cricbuzz.com/cricket-team/india/2/schedule', 'content': 'England vs India, 4th Test\\n\\nIndia tour of England, 2025\\n\\nEmirates Old Trafford, Manchester\\n\\nMatch starts at Jul 23, 10:00 GMT\\n\\n10:00 AM GMT / 11:00 AM LOCAL \\n\\n - \\n\\n - \\n\\nEngland vs India, 5th Test\\n\\nIndia tour of England, 2025\\n\\nKennington Oval, London\\n\\nMatch starts at Jul 31, 10:00 GMT\\n\\n10:00 AM GMT / 11:00 AM LOCAL \\n\\nBangladesh vs India, 1st ODI\\n\\nIndia tour of Bangladesh, 2025\\n\\nShere Bangla National Stadium, Dhaka\\n\\nMatch starts at Aug 17, 04:00 GMT\\n\\n04:00 AM GMT / 10:00 AM LOCAL [...] Adelaide Oval, Adelaide\\n\\nMatch starts at Oct 23, 03:30 GMT\\n\\n03:30 AM GMT / 02:00 PM LOCAL \\n\\nAustralia vs India, 3rd ODI\\n\\nIndia tour of Australia, 2025\\n\\nSydney Cricket Ground, Sydney\\n\\nMatch starts at Oct 25, 03:30 GMT\\n\\n03:30 AM GMT / 02:30 PM LOCAL \\n\\nAustralia vs India, 1st T20I\\n\\nIndia tour of Australia, 2025\\n\\nManuka Oval, Canberra\\n\\nMatch starts at Oct 29, 08:15 GMT\\n\\n08:15 AM GMT / 07:15 PM LOCAL \\n\\nAustralia vs India, 2nd T20I\\n\\nIndia tour of Australia, 2025\\n\\nMelbourne Cricket Ground, Melbourne [...] 08:15 AM GMT / 06:15 PM LOCAL \\n\\n - \\n\\n - \\n\\nIndia vs South Africa, 1st Test\\n\\nSouth Africa tour of India, 2025\\n\\nEden Gardens, Kolkata\\n\\nMatch starts at Nov 14, 04:00 GMT\\n\\n04:00 AM GMT / 09:30 AM LOCAL \\n\\n - \\n\\n - \\n\\nIndia vs South Africa, 2nd Test\\n\\nSouth Africa tour of India, 2025\\n\\nBarsapara Cricket Stadium, Guwahati\\n\\nMatch starts at Nov 22, 04:00 GMT\\n\\n04:00 AM GMT / 09:30 AM LOCAL \\n\\nIndia vs South Africa, 1st ODI\\n\\nSouth Africa tour of India, 2025\\n\\nJSCA International Stadium Complex, Ranchi', 'score': 0.8315952}, {'title': 'India tour of England, 2025 schedule, live scores and results', 'url': 'https://www.cricbuzz.com/cricket-series/8786/india-tour-of-england-2025/matches', 'content': \"India tour of England, 2025 schedule, live scores and results | Cricbuzz.com\\n\\n===============\\nAll;)Leeds;)Birmingham;)London;)Manchester;)Clear Filter;)\\n\\n✖;)\\n\\n✖;)\\n\\n✖;)\\n\\nDate Match Details Time\\n\\nJun 20, Fri - Jun 24, Tue\\n\\nJun 20, Fri - Jun 24, Tue\\n\\nIndia vs England, 1st Test\\n\\nHeadingley, Leeds\\n\\nEngland won by 5 wkts\\n\\n10:00 AM\\n\\n10:00 AM GMT / 11:00 AM LOCAL\\n\\nJul 02, Wed - Jul 06, Sun\\n\\nJul 02, Wed - Jul 06, Sun\\n\\nIndia vs England, 2nd Test\\n\\nEdgbaston, Birmingham\\n\\nIndia won by 336 runs\\n\\n10:00 AM [...] 10:00 AM GMT / 11:00 AM LOCAL\\n\\nJul 10, Thu - Jul 14, Mon\\n\\nJul 10, Thu - Jul 14, Mon\\n\\nEngland vs India, 3rd Test\\n\\nLord's, London\\n\\nEngland won by 22 runs\\n\\n10:00 AM\\n\\n10:00 AM GMT / 11:00 AM LOCAL\\n\\nJul 23, Wed - Jul 27, Sun\\n\\nJul 23, Wed - Jul 27, Sun\\n\\nIndia vs England, 4th Test\\n\\nEmirates Old Trafford, Manchester\\n\\nDay 3: Stumps - England lead by 186 runs\\n\\n10:00 AM\\n\\n10:00 AM GMT / 11:00 AM LOCAL\\n\\nJul 31, Thu - Aug 04, Mon\\n\\nJul 31, Thu - Aug 04, Mon\\n\\nEngland vs India, 5th Test [...] Kennington Oval, London\\n\\nMatch starts at Jul 31, 10:00 GMT\\n\\n10:00 AM\\n\\n10:00 AM GMT / 11:00 AM LOCAL\\n\\nImage 2: Cricbuzz Logo\\n\\nMOBILE SITE & APPS\\n\\n   m.cricbuzz.com\\n   Android\\n   iOS\\n\\nFOLLOW US ON\\n\\n   facebook\\n   twitter\\n   youtube\\n   Pinterest\\n\\nCOMPANY\\n\\n   Careers\\n   Advertise\\n   Privacy Policy\\n   Terms of Use\\n   Cricbuzz TV Ads\\n\\n© 2025 Cricbuzz.com, Cricbuzz Platforms Limited. All rights reserved | The Times of India | Navbharat Times\\n\\nMove to top\", 'score': 0.79939574}]\u001b[0m\u001b[32;1m\u001b[1;3mThe last test match between India and England in 2025 was the 5th test of the series, played at The Oval in London from July 31st to August 4th. India won the match by 6 runs.  India scored 224 and 396, while England scored 247 and 367.\n",
      "\u001b[0m\n",
      "\n",
      "\u001b[1m> Finished chain.\u001b[0m\n"
     ]
    },
    {
     "data": {
      "text/plain": [
       "{'input': 'hello can you tell me about the last test cricket match between India and England in 2025?',\n",
       " 'output': 'The last test match between India and England in 2025 was the 5th test of the series, played at The Oval in London from July 31st to August 4th. India won the match by 6 runs.  India scored 224 and 396, while England scored 247 and 367.\\n'}"
      ]
     },
     "execution_count": 86,
     "metadata": {},
     "output_type": "execute_result"
    }
   ],
   "source": [
    "agent_executor.invoke({\"input\": \"hello can you tell me about the last test cricket match between India and England in 2025?\"})"
   ]
  },
  {
   "cell_type": "code",
   "execution_count": null,
   "id": "72b4d650",
   "metadata": {},
   "outputs": [],
   "source": []
  }
 ],
 "metadata": {
  "kernelspec": {
   "display_name": "chain",
   "language": "python",
   "name": "python3"
  },
  "language_info": {
   "codemirror_mode": {
    "name": "ipython",
    "version": 3
   },
   "file_extension": ".py",
   "mimetype": "text/x-python",
   "name": "python",
   "nbconvert_exporter": "python",
   "pygments_lexer": "ipython3",
   "version": "3.10.18"
  }
 },
 "nbformat": 4,
 "nbformat_minor": 5
}
