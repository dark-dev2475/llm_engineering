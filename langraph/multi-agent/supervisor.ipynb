{
 "cells": [
  {
   "cell_type": "code",
   "execution_count": 1,
   "id": "3894ee02",
   "metadata": {},
   "outputs": [
    {
     "data": {
      "text/plain": [
       "True"
      ]
     },
     "execution_count": 1,
     "metadata": {},
     "output_type": "execute_result"
    }
   ],
   "source": [
    "\n",
    "import os\n",
    "from dotenv import load_dotenv\n",
    "load_dotenv()"
   ]
  },
  {
   "cell_type": "code",
   "execution_count": 2,
   "id": "f0c14e8d",
   "metadata": {},
   "outputs": [],
   "source": [
    "LANGSMITH_TRACING = os.getenv(\"LANGSMITH_TRACING\")\n",
    "LANGSMITH_ENDPOINT = os.getenv(\"LANGSMITH_ENDPOINT\")\n",
    "LANGSMITH_API_KEY = os.getenv(\"LANGSMITH_API_KEY\")\n",
    "LANGSMITH_PROJECT = os.getenv(\"LANGSMITH_PROJECT\")\n",
    "TAVILY_API_KEY = os.getenv(\"TAVILY_API_KEY\")\n",
    "# TRAVILY_PROJECT = os.getenv(\"TRAVILY_PROJECT\")\n",
    "SERPER_API_KEY = os.getenv(\"SERPER_API_KEY\")\n",
    "GOOGLE_API_KEY = os.getenv(\"GOOGLE_API_KEY\")\n",
    "os.environ[\"GOOGLE_API_KEY\"] = GOOGLE_API_KEY\n",
    "os.environ[\"LANGSMITH_API_KEY\"] = os.getenv(\"LANGSMITH_API_KEY\")\n",
    "os.environ[\"LANGSMITH_TRACING\"] = os.getenv(\"LANGSMITH_TRACING\")\n",
    "os.environ[\"LANGSMITH_ENDPOINT\"] = os.getenv(\"LANGSMITH_ENDPOINT\")\n",
    "os.environ[\"LANGSMITH_PROJECT\"] = os.getenv(\"LANGSMITH_PROJECT\")\n",
    "\n",
    "os.environ[\"TAVILY_API_KEY\"] = os.getenv(\"TAVILY_API_KEY\")\n",
    "os.environ[\"SERPER_API_KEY\"] = os.getenv(\"SERPER_API_KEY\")\n",
    "\n"
   ]
  },
  {
   "cell_type": "code",
   "execution_count": 3,
   "id": "10016fdc",
   "metadata": {},
   "outputs": [],
   "source": [
    "from langchain_google_genai import GoogleGenerativeAIEmbeddings\n",
    "embeddings = GoogleGenerativeAIEmbeddings(model=\"models/embedding-001\")\n",
    "from langchain_google_genai import ChatGoogleGenerativeAI\n",
    "llm = ChatGoogleGenerativeAI(model=\"gemini-1.5-pro-latest\")"
   ]
  },
  {
   "cell_type": "code",
   "execution_count": 6,
   "id": "df7318f7",
   "metadata": {},
   "outputs": [],
   "source": [
    "from typing import Annotated\n",
    "from typing import Literal\n",
    "from langchain_community.tools.tavily_search import TavilySearchResults\n",
    "from langchain_core.tools import tool\n",
    "from langchain_experimental.utilities import PythonREPL\n",
    "from typing_extensions import TypedDict\n",
    "from langgraph.graph import MessagesState, END,StateGraph, START\n",
    "from langgraph.types import Command\n",
    "from langchain_core.messages import HumanMessage\n",
    "from langgraph.prebuilt import create_react_agent"
   ]
  },
  {
   "cell_type": "code",
   "execution_count": 7,
   "id": "db7ba397",
   "metadata": {},
   "outputs": [
    {
     "data": {
      "text/plain": [
       "AIMessage(content='Hi there! How can I help you today?', additional_kwargs={}, response_metadata={'prompt_feedback': {'block_reason': 0, 'safety_ratings': []}, 'finish_reason': 'STOP', 'model_name': 'gemini-1.5-pro-002', 'safety_ratings': []}, id='run--63423469-cf4c-4801-989f-6a8a3e1531f1-0', usage_metadata={'input_tokens': 1, 'output_tokens': 11, 'total_tokens': 12, 'input_token_details': {'cache_read': 0}})"
      ]
     },
     "execution_count": 7,
     "metadata": {},
     "output_type": "execute_result"
    }
   ],
   "source": [
    "llm.invoke(\"hi\")"
   ]
  },
  {
   "cell_type": "code",
   "execution_count": 22,
   "id": "44a37954",
   "metadata": {},
   "outputs": [],
   "source": [
    "tavily_tool=TavilySearchResults()"
   ]
  },
  {
   "cell_type": "code",
   "execution_count": null,
   "id": "445d6eba",
   "metadata": {},
   "outputs": [],
   "source": []
  },
  {
   "cell_type": "code",
   "execution_count": 23,
   "id": "94d5ac64",
   "metadata": {},
   "outputs": [],
   "source": [
    "code = \"\"\"\n",
    "x = 5\n",
    "y = x * 2tavaily_tool.invoke(\"what is a gdp?\")\n",
    "print(y)\n",
    "\"\"\""
   ]
  },
  {
   "cell_type": "code",
   "execution_count": 24,
   "id": "e225247a",
   "metadata": {},
   "outputs": [],
   "source": [
    "\n",
    "repl=PythonREPL()"
   ]
  },
  {
   "cell_type": "code",
   "execution_count": 25,
   "id": "93e59a05",
   "metadata": {},
   "outputs": [],
   "source": [
    "\n",
    "repl=PythonREPL()"
   ]
  },
  {
   "cell_type": "code",
   "execution_count": 26,
   "id": "d3ed84b9",
   "metadata": {},
   "outputs": [],
   "source": [
    "\n",
    "@tool\n",
    "def python_repl_tool(\n",
    "    code: Annotated[str, \"The python code to execute to generate your chart.\"],\n",
    "):\n",
    "    \"\"\"Use this to execute python code and do math. If you want to see the output of a value,\n",
    "    you should print it out with `print(...)`. This is visible to the user.\"\"\"\n",
    "    \n",
    "    try:\n",
    "        result = repl.run(code)\n",
    "    except BaseException as e:\n",
    "        return f\"Failed to execute. Error: {repr(e)}\"\n",
    "    \n",
    "    result_str = f\"Successfully executed:\\n\\`\\`\\`python\\n{code}\\n\\`\\`\\`\\nStdout: {result}\"\n",
    "    return result_str"
   ]
  },
  {
   "cell_type": "code",
   "execution_count": null,
   "id": "b0ebc501",
   "metadata": {},
   "outputs": [],
   "source": [
    "\n"
   ]
  },
  {
   "cell_type": "code",
   "execution_count": 56,
   "id": "c3a72942",
   "metadata": {},
   "outputs": [],
   "source": [
    "\n",
    "members=[\"grab-food\",\"grab-car\",\"grab-express\"]"
   ]
  },
  {
   "cell_type": "code",
   "execution_count": 57,
   "id": "a6f0b1d3",
   "metadata": {},
   "outputs": [],
   "source": [
    "options=members+[\"FINISH\"]"
   ]
  },
  {
   "cell_type": "code",
   "execution_count": 58,
   "id": "030be02d",
   "metadata": {},
   "outputs": [
    {
     "data": {
      "text/plain": [
       "['grab-food', 'grab-car', 'grab-express', 'FINISH']"
      ]
     },
     "execution_count": 58,
     "metadata": {},
     "output_type": "execute_result"
    }
   ],
   "source": [
    "options\n"
   ]
  },
  {
   "cell_type": "code",
   "execution_count": 59,
   "id": "a6e12feb",
   "metadata": {},
   "outputs": [],
   "source": [
    "class Router(TypedDict):\n",
    "    \"\"\"Worker to route to next. If no workers needed, route to FINISH.\"\"\"\n",
    "    next: Literal['researcher', 'coder', 'FINISH']"
   ]
  },
  {
   "cell_type": "code",
   "execution_count": 60,
   "id": "32217b1e",
   "metadata": {},
   "outputs": [],
   "source": [
    "class State(MessagesState):\n",
    "    next:str"
   ]
  },
  {
   "cell_type": "code",
   "execution_count": 61,
   "id": "dcd2851f",
   "metadata": {},
   "outputs": [],
   "source": [
    "system_prompt=f\"\"\"\n",
    "You are a supervisor, tasked with managing a conversation between the following workers: {members}. \n",
    "Given the following user request, respond with the worker to act next. \n",
    "Each worker will perform a task and respond with their results and status. \n",
    "When finished, respond with FINISH.\n",
    "\"\"\""
   ]
  },
  {
   "cell_type": "code",
   "execution_count": 62,
   "id": "f15935fc",
   "metadata": {},
   "outputs": [
    {
     "data": {
      "text/plain": [
       "[{'role': 'system',\n",
       "  'content': \"\\nYou are a supervisor, tasked with managing a conversation between the following workers: ['grab-food', 'grab-car', 'grab-express']. \\nGiven the following user request, respond with the worker to act next. \\nEach worker will perform a task and respond with their results and status. \\nWhen finished, respond with FINISH.\\n\"}]"
      ]
     },
     "execution_count": 62,
     "metadata": {},
     "output_type": "execute_result"
    }
   ],
   "source": [
    "[{\"role\": \"system\", \"content\": system_prompt},]"
   ]
  },
  {
   "cell_type": "code",
   "execution_count": 74,
   "id": "91ec69d0",
   "metadata": {},
   "outputs": [],
   "source": [
    "def supervisor_node(state: State) -> Command[Literal[\"grab-car\", \"grab-express\",\"grab-food\", \"__end__\"]]:\n",
    "    \n",
    "    messages = [{\"role\": \"system\", \"content\": system_prompt},] + state[\"messages\"]\n",
    "    \n",
    "    response = llm.with_structured_output(Router).invoke(messages)\n",
    "    \n",
    "    goto = response[\"next\"]\n",
    "    \n",
    "    print(\"below my goto**********************************\")\n",
    "    \n",
    "    print(goto)\n",
    "    \n",
    "    if goto == \"FINISH\":\n",
    "        goto = END\n",
    "        \n",
    "    return Command(goto=goto, update={\"next\": goto})"
   ]
  },
  {
   "cell_type": "code",
   "execution_count": 75,
   "id": "0e717eba",
   "metadata": {},
   "outputs": [],
   "source": [
    "def research_node(state: State) -> Command[Literal[\"supervisor\"]]:\n",
    "    \n",
    "    research_agent = create_react_agent(llm, tools=[tavaily_tool], prompt=\"You are a researcher. DO NOT do any math.\")\n",
    "    \n",
    "    result = research_agent.invoke(state)\n",
    "    \n",
    "    return Command(\n",
    "        update={\n",
    "            \"messages\": [\n",
    "                HumanMessage(content=result[\"messages\"][-1].content, name=\"researcher\")\n",
    "            ]\n",
    "        },\n",
    "        goto=\"supervisor\",\n",
    "    )"
   ]
  },
  {
   "cell_type": "code",
   "execution_count": 76,
   "id": "cb702785",
   "metadata": {},
   "outputs": [],
   "source": [
    "def code_node(state: State) -> Command[Literal[\"supervisor\"]]:\n",
    "    \n",
    "    code_agent = create_react_agent(llm, tools=[python_repl_tool])\n",
    "    \n",
    "    result = code_agent.invoke(state)\n",
    "    \n",
    "    return Command(\n",
    "        update={\n",
    "            \"messages\": [\n",
    "                HumanMessage(content=result[\"messages\"][-1].content, name=\"coder\")\n",
    "            ]\n",
    "        },\n",
    "        goto=\"supervisor\",\n",
    "    )"
   ]
  },
  {
   "cell_type": "code",
   "execution_count": 97,
   "id": "8ec2227e",
   "metadata": {},
   "outputs": [],
   "source": [
    "def ghj(state: State) -> Command[Literal[\"supervisor\"]]:\n",
    "    agent=create_react_agent(llm,tools=[tavily_tool])\n",
    "    result=agent.invoke(state)\n",
    "    return Command(\n",
    "        update={\n",
    "            \"messages\": [\n",
    "                HumanMessage(content=result[\"messages\"][-1].content, name=\"grab-express\")\n",
    "            ]\n",
    "        },\n",
    "        goto=\"supervisor\",\n",
    "    )"
   ]
  },
  {
   "cell_type": "code",
   "execution_count": null,
   "id": "fa654565",
   "metadata": {},
   "outputs": [],
   "source": [
    "tools=[tavily_tool]"
   ]
  },
  {
   "cell_type": "code",
   "execution_count": 106,
   "id": "3a4defef",
   "metadata": {},
   "outputs": [
    {
     "ename": "SyntaxError",
     "evalue": "unterminated string literal (detected at line 11) (88402104.py, line 11)",
     "output_type": "error",
     "traceback": [
      "\u001b[1;36m  Cell \u001b[1;32mIn[106], line 11\u001b[1;36m\u001b[0m\n\u001b[1;33m    return \"continue\u001b[0m\n\u001b[1;37m           ^\u001b[0m\n\u001b[1;31mSyntaxError\u001b[0m\u001b[1;31m:\u001b[0m unterminated string literal (detected at line 11)\n"
     ]
    }
   ],
   "source": [
    "def router(state) -> Literal[\"tools\", \"__end__\", \"continue\"]:\n",
    "    # This is the router\n",
    "    messages = state[\"messages\"]\n",
    "    last_message = messages[-1]\n",
    "    if last_message.tool_calls:\n",
    "        # The previous agent is invoking a tool\n",
    "        return \"tools\"\n",
    "    if \"FINAL ANSWER\" in last_message.content:\n",
    "        # Any agent decided the work is done\n",
    "        return \"__end__\"\n",
    "    return \"continue"
   ]
  },
  {
   "cell_type": "code",
   "execution_count": 98,
   "id": "6aecceca",
   "metadata": {},
   "outputs": [],
   "source": [
    "\n",
    "graph=StateGraph(State)"
   ]
  },
  {
   "cell_type": "code",
   "execution_count": 99,
   "id": "9fafedc9",
   "metadata": {},
   "outputs": [
    {
     "data": {
      "text/plain": [
       "<langgraph.graph.state.StateGraph at 0x22d4cecc3d0>"
      ]
     },
     "execution_count": 99,
     "metadata": {},
     "output_type": "execute_result"
    }
   ],
   "source": [
    "\n",
    "graph.add_node(\"supervisor\",supervisor_node)"
   ]
  },
  {
   "cell_type": "code",
   "execution_count": 100,
   "id": "754f3937",
   "metadata": {},
   "outputs": [
    {
     "data": {
      "text/plain": [
       "<langgraph.graph.state.StateGraph at 0x22d4cecc3d0>"
      ]
     },
     "execution_count": 100,
     "metadata": {},
     "output_type": "execute_result"
    }
   ],
   "source": [
    "graph.add_node(\"grab-food\", research_node)"
   ]
  },
  {
   "cell_type": "code",
   "execution_count": 101,
   "id": "a8d7a4ce",
   "metadata": {},
   "outputs": [
    {
     "data": {
      "text/plain": [
       "<langgraph.graph.state.StateGraph at 0x22d4cecc3d0>"
      ]
     },
     "execution_count": 101,
     "metadata": {},
     "output_type": "execute_result"
    }
   ],
   "source": [
    "graph.add_node(\"grab-express\",ghj)"
   ]
  },
  {
   "cell_type": "code",
   "execution_count": 102,
   "id": "af0bbc87",
   "metadata": {},
   "outputs": [
    {
     "data": {
      "text/plain": [
       "<langgraph.graph.state.StateGraph at 0x22d4cecc3d0>"
      ]
     },
     "execution_count": 102,
     "metadata": {},
     "output_type": "execute_result"
    }
   ],
   "source": [
    "\n",
    "graph.add_node(\"grab-car\", code_node)"
   ]
  },
  {
   "cell_type": "code",
   "execution_count": 103,
   "id": "a93e263f",
   "metadata": {},
   "outputs": [
    {
     "data": {
      "text/plain": [
       "<langgraph.graph.state.StateGraph at 0x22d4cecc3d0>"
      ]
     },
     "execution_count": 103,
     "metadata": {},
     "output_type": "execute_result"
    }
   ],
   "source": [
    "graph.add_edge(START,\"supervisor\")"
   ]
  },
  {
   "cell_type": "code",
   "execution_count": 104,
   "id": "72f9368c",
   "metadata": {},
   "outputs": [],
   "source": [
    "\n",
    "app=graph.compile()"
   ]
  },
  {
   "cell_type": "code",
   "execution_count": 105,
   "id": "871fb478",
   "metadata": {},
   "outputs": [
    {
     "data": {
      "image/png": "[encoded data removed]",
      "text/plain": [
       "<IPython.core.display.Image object>"
      ]
     },
     "metadata": {},
     "output_type": "display_data"
    }
   ],
   "source": [
    "from IPython.display import display, Image\n",
    "\n",
    "display(Image(app.get_graph().draw_mermaid_png()))"
   ]
  },
  {
   "cell_type": "code",
   "execution_count": 45,
   "id": "30d0f09a",
   "metadata": {},
   "outputs": [
    {
     "name": "stdout",
     "output_type": "stream",
     "text": [
      "below my goto**********************************\n",
      "researcher\n",
      "((), {'supervisor': {'next': 'researcher'}})\n",
      "----\n",
      "(('researcher:9661a303-09a0-99e6-23af-4a6901241ad2',), {'agent': {'messages': [AIMessage(content=\"I cannot calculate the square root of 42. I'm a researcher, I don't do math calculations, but I can research information to help answer your questions. Is there anything else I can help you with?\", additional_kwargs={}, response_metadata={'prompt_feedback': {'block_reason': 0, 'safety_ratings': []}, 'finish_reason': 'STOP', 'model_name': 'gemini-1.5-pro-002', 'safety_ratings': []}, id='run--80e462d8-c309-4e64-b195-ee2d2fa3a814-0', usage_metadata={'input_tokens': 71, 'output_tokens': 47, 'total_tokens': 118, 'input_token_details': {'cache_read': 0}})]}})\n",
      "----\n",
      "((), {'researcher': {'messages': [HumanMessage(content=\"I cannot calculate the square root of 42. I'm a researcher, I don't do math calculations, but I can research information to help answer your questions. Is there anything else I can help you with?\", additional_kwargs={}, response_metadata={}, name='researcher')]}})\n",
      "----\n",
      "below my goto**********************************\n",
      "coder\n",
      "((), {'supervisor': {'next': 'coder'}})\n",
      "----\n"
     ]
    },
    {
     "name": "stderr",
     "output_type": "stream",
     "text": [
      "Python REPL can execute arbitrary code. Use with caution.\n"
     ]
    },
    {
     "name": "stdout",
     "output_type": "stream",
     "text": [
      "(('coder:655a66db-f9db-20df-3cb4-2d3d4bcf1280',), {'agent': {'messages': [AIMessage(content='', additional_kwargs={'function_call': {'name': 'python_repl_tool', 'arguments': '{\"code\": \"import math\\\\nprint(math.sqrt(42))\"}'}}, response_metadata={'prompt_feedback': {'block_reason': 0, 'safety_ratings': []}, 'finish_reason': 'STOP', 'model_name': 'gemini-1.5-pro-002', 'safety_ratings': []}, id='run--c81b6d21-3fdd-498d-857b-2e4339efcb4c-0', tool_calls=[{'name': 'python_repl_tool', 'args': {'code': 'import math\\nprint(math.sqrt(42))'}, 'id': 'c725c7f8-62b8-423a-9ffd-7aae4ef834b1', 'type': 'tool_call'}], usage_metadata={'input_tokens': 116, 'output_tokens': 18, 'total_tokens': 134, 'input_token_details': {'cache_read': 0}})]}})\n",
      "----\n",
      "(('coder:655a66db-f9db-20df-3cb4-2d3d4bcf1280',), {'tools': {'messages': [ToolMessage(content='Successfully executed:\\n\\\\`\\\\`\\\\`python\\nimport math\\nprint(math.sqrt(42))\\n\\\\`\\\\`\\\\`\\nStdout: 6.48074069840786\\n', name='python_repl_tool', id='4cdc4028-cd29-4891-bbde-497c3dcca4f3', tool_call_id='c725c7f8-62b8-423a-9ffd-7aae4ef834b1')]}})\n",
      "----\n",
      "(('coder:655a66db-f9db-20df-3cb4-2d3d4bcf1280',), {'agent': {'messages': [AIMessage(content='The square root of 42 is approximately 6.48.', additional_kwargs={}, response_metadata={'prompt_feedback': {'block_reason': 0, 'safety_ratings': []}, 'finish_reason': 'STOP', 'model_name': 'gemini-1.5-pro-002', 'safety_ratings': []}, id='run--df109cde-e69f-4a04-8a18-d77c0a892dd9-0', usage_metadata={'input_tokens': 186, 'output_tokens': 16, 'total_tokens': 202, 'input_token_details': {'cache_read': 0}})]}})\n",
      "----\n",
      "((), {'coder': {'messages': [HumanMessage(content='The square root of 42 is approximately 6.48.', additional_kwargs={}, response_metadata={}, name='coder')]}})\n",
      "----\n",
      "below my goto**********************************\n",
      "FINISH\n",
      "((), {'supervisor': {'next': '__end__'}})\n",
      "----\n"
     ]
    }
   ],
   "source": [
    "# With the graph created, we can now invoke it and see how it performs!\n",
    "for s in app.stream({\"messages\": [(\"user\", \"What's the square root of 42?\")]}, subgraphs=True):\n",
    "    print(s)\n",
    "    print(\"----\")"
   ]
  },
  {
   "cell_type": "code",
   "execution_count": null,
   "id": "ee1ada8f",
   "metadata": {},
   "outputs": [],
   "source": []
  }
 ],
 "metadata": {
  "kernelspec": {
   "display_name": "chain",
   "language": "python",
   "name": "python3"
  },
  "language_info": {
   "codemirror_mode": {
    "name": "ipython",
    "version": 3
   },
   "file_extension": ".py",
   "mimetype": "text/x-python",
   "name": "python",
   "nbconvert_exporter": "python",
   "pygments_lexer": "ipython3",
   "version": "3.10.18"
  }
 },
 "nbformat": 4,
 "nbformat_minor": 5
}
